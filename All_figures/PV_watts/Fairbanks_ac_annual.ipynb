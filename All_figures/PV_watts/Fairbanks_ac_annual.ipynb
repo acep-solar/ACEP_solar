{
 "cells": [
  {
   "cell_type": "code",
   "execution_count": 5,
   "metadata": {},
   "outputs": [],
   "source": [
    "import pandas as pd\n",
    "import numpy as np\n",
    "import requests\n",
    "from bokeh.plotting import figure, output_file, show\n",
    "\n",
    "nrel_long_tilt = []\n",
    "tilts = [5, 10, 15, 20, 25, 30, 35, 40, 45, 50, 55, 60, 65, 70, 75, 80, 85, 90]\n",
    "for i in range(len(tilts)):\n",
    "    list_parameters = {\"formt\": 'JSON', \"api_key\": \"spJFj2l5ghY5jwk7dNfVYs3JHbpR6BOGHQNO8Y9Z\", \"system_capacity\": 4, \"module_type\": 0, \"losses\": 14.08,\n",
    "              \"array_type\": 0, \"tilt\": tilts[i], \"azimuth\": 180, \"lat\": 64.82, \"lon\": -147.87, \"dataset\": 'tmy2'}\n",
    "    json_response = requests.get(\"https://developer.nrel.gov/api/pvwatts/v6\", params = list_parameters).json()\n",
    "    new_dataframe = pd.DataFrame(data = json_response['outputs'])\n",
    "    nrel_long_tilt.append(new_dataframe)\n",
    "\n",
    "annual_production = []\n",
    "for i in range(len(tilts)):\n",
    "    annual_production.append(nrel_long_tilt[i]['ac_annual'][2]/4)\n",
    "\n",
    "\n",
    "output_file(\"Fairbanks_tilts_annual.html\")\n",
    "\n",
    "p = figure( x_axis_label='Tilts', y_axis_label='Annual Production (kWh)',plot_width=400, plot_height=250)\n",
    "\n",
    "# add a line renderer\n",
    "p.line(tilts, annual_production, line_width=2)\n",
    "p.xaxis.ticker = [10,20,30,40,50,60,70,80,90]\n",
    "p.title.text = \"Annual Production of different tilts\"\n",
    "p.title.align = \"center\"\n",
    "p.title.text_color = \"olive\"\n",
    "p.title.text_font = \"times\"\n",
    "p.title.text_font_style = \"italic\"\n",
    "p.title.text_font_size = '12pt'\n",
    "\n",
    "show(p)"
   ]
  },
  {
   "cell_type": "code",
   "execution_count": null,
   "metadata": {},
   "outputs": [],
   "source": []
  }
 ],
 "metadata": {
  "kernelspec": {
   "display_name": "Python 3",
   "language": "python",
   "name": "python3"
  },
  "language_info": {
   "codemirror_mode": {
    "name": "ipython",
    "version": 3
   },
   "file_extension": ".py",
   "mimetype": "text/x-python",
   "name": "python",
   "nbconvert_exporter": "python",
   "pygments_lexer": "ipython3",
   "version": "3.7.1"
  }
 },
 "nbformat": 4,
 "nbformat_minor": 2
}
