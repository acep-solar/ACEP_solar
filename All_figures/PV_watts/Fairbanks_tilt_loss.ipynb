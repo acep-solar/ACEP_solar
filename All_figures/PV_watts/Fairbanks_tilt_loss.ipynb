{
 "cells": [
  {
   "cell_type": "code",
   "execution_count": 1,
   "metadata": {},
   "outputs": [],
   "source": [
    "#import the needed package\n",
    "import requests\n",
    "import pandas as pd\n",
    "import numpy as np\n",
    "from bokeh.plotting import figure, output_file, show, output_notebook\n",
    "from bokeh.models import NumeralTickFormatter\n",
    "from bokeh.io import show\n",
    "from bokeh.layouts import column\n",
    "from bokeh.models import ColumnDataSource, CustomJS, Select\n",
    "from bokeh.plotting import figure"
   ]
  },
  {
   "cell_type": "code",
   "execution_count": 2,
   "metadata": {},
   "outputs": [],
   "source": [
    "# Call the PV Watts to get the data (prediction)\n",
    "nrel_long_tilt = []\n",
    "\n",
    "# We choose the tilt at the below degree, and the Fairbanks lon & lat are (64.82,-147.87)\n",
    "tilts = [5, 10, 15, 20, 25, 30, 35, 40, 45, 50, 55, 60, 65, 70, 75, 80, 85, 90]\n",
    "for i in range(len(tilts)):\n",
    "    list_parameters = {\"formt\": 'JSON', \"api_key\": \"spJFj2l5ghY5jwk7dNfVYs3JHbpR6BOGHQNO8Y9Z\", \"system_capacity\": 4, \"module_type\": 0, \"losses\": 14.08,\n",
    "              \"array_type\": 0, \"tilt\": tilts[i], \"azimuth\": 180, \"lat\": 64.82, \"lon\": -147.87, \"dataset\": 'tmy2'}\n",
    "    json_response = requests.get(\"https://developer.nrel.gov/api/pvwatts/v6\", params = list_parameters).json()\n",
    "    new_dataframe = pd.DataFrame(data = json_response['outputs'])\n",
    "    nrel_long_tilt.append(new_dataframe)"
   ]
  },
  {
   "cell_type": "code",
   "execution_count": 7,
   "metadata": {},
   "outputs": [],
   "source": [
    "annual_production = []\n",
    "for i in range(len(tilts)):\n",
    "    annual_production.append(nrel_long_tilt[i]['ac_annual'][2])\n",
    "\n",
    "d = {'Tilts':tilts,'Annual_production':annual_production}\n",
    "df = pd.DataFrame(d)\n",
    "\n",
    "#Then find out the max production raw\n",
    "max_tilt = int(df[['Annual_production']].idxmax().values)\n",
    "\n",
    "#Then calculate the other tilts' lose compared with the max annual production\n",
    "lose = []\n",
    "for index, row in df.iterrows():\n",
    "    tilt_loss = 1- row['Annual_production']/df['Annual_production'][max_tilt]\n",
    "    lose.append(tilt_loss)\n",
    "\n",
    "df['loss']=lose\n",
    "\n",
    "output_file(\"Fairbanks_tilts_loss.html\")\n",
    "\n",
    "p = figure(x_axis_label='Tilts', y_axis_label='loss (%)',plot_width=400, plot_height=250)\n",
    "\n",
    "# add a line renderer\n",
    "p.line(tilts, df['loss'], line_width=2)\n",
    "p.xaxis.ticker = [10,20,30,40,50,60,70,80,90]\n",
    "p.yaxis.formatter = NumeralTickFormatter(format='0 %')\n",
    "p.title.text = \"Annual Production loss of different tilts\"\n",
    "p.title.align = \"center\"\n",
    "p.title.text_color = \"olive\"\n",
    "p.title.text_font = \"times\"\n",
    "p.title.text_font_style = \"italic\"\n",
    "p.title.text_font_size = '12pt'\n",
    "\n",
    "show(p)"
   ]
  },
  {
   "cell_type": "code",
   "execution_count": null,
   "metadata": {},
   "outputs": [],
   "source": []
  }
 ],
 "metadata": {
  "kernelspec": {
   "display_name": "Python 3",
   "language": "python",
   "name": "python3"
  },
  "language_info": {
   "codemirror_mode": {
    "name": "ipython",
    "version": 3
   },
   "file_extension": ".py",
   "mimetype": "text/x-python",
   "name": "python",
   "nbconvert_exporter": "python",
   "pygments_lexer": "ipython3",
   "version": "3.7.1"
  }
 },
 "nbformat": 4,
 "nbformat_minor": 2
}
