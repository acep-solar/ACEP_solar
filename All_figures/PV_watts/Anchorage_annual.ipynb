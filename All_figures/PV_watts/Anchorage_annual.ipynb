{
 "cells": [
  {
   "cell_type": "code",
   "execution_count": 6,
   "metadata": {},
   "outputs": [],
   "source": [
    "import pandas as pd\n",
    "import numpy as np\n",
    "import requests\n",
    "from bokeh.plotting import figure, output_file, show\n",
    "\n",
    "nrel_long_tilt_tmy2 = []\n",
    "tilts = [5, 10, 15, 20, 25, 30, 35, 40, 45, 50, 55, 60, 65, 70, 75, 80, 85, 90]\n",
    "for i in range(len(tilts)):\n",
    "    list_parameters = {\"formt\": 'JSON', \"api_key\": \"spJFj2l5ghY5jwk7dNfVYs3JHbpR6BOGHQNO8Y9Z\", \"system_capacity\": 4, \"module_type\": 0, \"losses\": 14.08,\n",
    "              \"array_type\": 0, \"tilt\": tilts[i], \"azimuth\": 180, \"lat\": 61.19, \"lon\": -149.69, \"dataset\": 'tmy2'}\n",
    "    json_response = requests.get(\"https://developer.nrel.gov/api/pvwatts/v6\", params = list_parameters).json()\n",
    "    new_dataframe = pd.DataFrame(data = json_response['outputs'])\n",
    "    nrel_long_tilt_tmy2.append(new_dataframe)\n",
    "    \n",
    "nrel_long_tilt_tmy3 = []\n",
    "tilts = [5, 10, 15, 20, 25, 30, 35, 40, 45, 50, 55, 60, 65, 70, 75, 80, 85, 90]\n",
    "for i in range(len(tilts)):\n",
    "    list_parameters = {\"formt\": 'JSON', \"api_key\": \"spJFj2l5ghY5jwk7dNfVYs3JHbpR6BOGHQNO8Y9Z\", \"system_capacity\": 4, \"module_type\": 0, \"losses\": 14.08,\n",
    "              \"array_type\": 0, \"tilt\": tilts[i], \"azimuth\": 180, \"lat\": 61.19, \"lon\": -149.69, \"dataset\": 'tmy3'}\n",
    "    json_response = requests.get(\"https://developer.nrel.gov/api/pvwatts/v6\", params = list_parameters).json()\n",
    "    new_dataframe = pd.DataFrame(data = json_response['outputs'])\n",
    "    nrel_long_tilt_tmy3.append(new_dataframe)\n",
    "    \n",
    "annual_production_tmy2 = []\n",
    "for i in range(len(tilts)):\n",
    "    annual_production_tmy2.append(nrel_long_tilt_tmy2[i]['ac_annual'][2]/4)\n",
    "    \n",
    "annual_production_tmy3 = []\n",
    "for i in range(len(tilts)):\n",
    "    annual_production_tmy3.append(nrel_long_tilt_tmy3[i]['ac_annual'][2]/4)\n",
    "\n",
    "\n",
    "output_file(\"Anchorage_tilts_annual.html\")\n",
    "\n",
    "p = figure( x_axis_label='Tilts', y_axis_label='Annual Production (kWh)',plot_width=500, plot_height=250)\n",
    "\n",
    "# add a line renderer\n",
    "p.line(tilts, annual_production_tmy2, line_width=2,color='red', legend='TMY2')\n",
    "p.line(tilts, annual_production_tmy3, line_width=2,color='blue', legend='TMY3')\n",
    "\n",
    "p.xaxis.ticker = [10,20,30,40,50,60,70,80,90]\n",
    "p.title.text = \"Annual Production at Varying Tilts\"\n",
    "p.title.align = \"center\"\n",
    "p.title.text_color = \"olive\"\n",
    "p.title.text_font = \"times\"\n",
    "p.title.text_font_style = \"italic\"\n",
    "p.title.text_font_size = '12pt'\n",
    "\n",
    "show(p)                                        "
   ]
  },
  {
   "cell_type": "code",
   "execution_count": null,
   "metadata": {},
   "outputs": [],
   "source": []
  }
 ],
 "metadata": {
  "kernelspec": {
   "display_name": "Python 3",
   "language": "python",
   "name": "python3"
  },
  "language_info": {
   "codemirror_mode": {
    "name": "ipython",
    "version": 3
   },
   "file_extension": ".py",
   "mimetype": "text/x-python",
   "name": "python",
   "nbconvert_exporter": "python",
   "pygments_lexer": "ipython3",
   "version": "3.7.1"
  }
 },
 "nbformat": 4,
 "nbformat_minor": 2
}
