{
 "cells": [
  {
   "cell_type": "markdown",
   "metadata": {},
   "source": [
    "### All right, this file may be a little longer than we thought, but it is neccessary.It contains all the figures of all dataframe that we have"
   ]
  },
  {
   "cell_type": "code",
   "execution_count": 1,
   "metadata": {},
   "outputs": [],
   "source": [
    "import numpy as np\n",
    "import pandas as pd\n",
    "import csv_figures\n",
    "from csv_figures import add_time_col\n",
    "from csv_figures import annual_Norm\n",
    "import matplotlib.pyplot as plt\n",
    "import requests\n",
    "from matplotlib.widgets import CheckButtons"
   ]
  },
  {
   "cell_type": "code",
   "execution_count": 2,
   "metadata": {},
   "outputs": [],
   "source": [
    "CIHA_1400Muldoon = pd.read_excel('../../Cleaned_data/CIHA/CHIA_1400Muldoon_clean.xlsx')\n",
    "CIHA_1460Muldoon = pd.read_excel('../../Cleaned_data/CIHA/CIHA_1460Muldoon_cleaned.xlsx')\n",
    "CIHA_3600spenard = pd.read_excel('../../Cleaned_data/CIHA/CIHA_3600Spenard_Cleaned.xlsx') \n",
    "CIHA_7861BetnuCircle = pd.read_excel('../../Cleaned_data/CIHA/CIHA_7861BetnuCircle_cleaned.xlsx')"
   ]
  },
  {
   "cell_type": "code",
   "execution_count": 3,
   "metadata": {},
   "outputs": [
    {
     "name": "stderr",
     "output_type": "stream",
     "text": [
      "/Users/guge/Desktop/acep-solar/new/ACEP_solar/GEGU/figures/csv_figures.py:26: SettingWithCopyWarning: \n",
      "A value is trying to be set on a copy of a slice from a DataFrame\n",
      "\n",
      "See the caveats in the documentation: http://pandas.pydata.org/pandas-docs/stable/indexing.html#indexing-view-versus-copy\n",
      "  dataframe['Date'][i] = str(dataframe['Year'][i]) + '-' + str(dataframe['Month'][i])\n"
     ]
    }
   ],
   "source": [
    "CIHA_1400Muldoon_new = add_time_col(CIHA_1400Muldoon)\n",
    "CIHA_1460Muldoon_new = add_time_col(CIHA_1460Muldoon)\n",
    "CIHA_3600spenard_new = add_time_col(CIHA_3600spenard)\n",
    "CIHA_7861BetnuCircle_new = add_time_col(CIHA_7861BetnuCircle)"
   ]
  },
  {
   "cell_type": "markdown",
   "metadata": {},
   "source": [
    "muldoon1400_annual_values,muldoon1400_month = annual_Norm(CIHA_1400Muldoon_new)\n",
    "muldoon1460_annual_values,muldoon1460_month = annual_Norm(CIHA_1460Muldoon_new)\n",
    "spenard_annual_values,spenard_month = annual_Norm(CIHA_3600spenard_new)\n",
    "BetnuCircle_annual_values,BetnuCircle_month = annual_Norm(CIHA_7861BetnuCircle_new)"
   ]
  },
  {
   "cell_type": "markdown",
   "metadata": {},
   "source": [
    "new_1400 = pd.DataFrame({'Date':muldoon1400_month,'1400Muldoon':muldoon1400_annual_values})\n",
    "new_1460 = pd.DataFrame({'Date':muldoon1460_month,'1460Muldoon':muldoon1460_annual_values})\n",
    "new_spenard = pd.DataFrame({'Date':spenard_month,'Spenard':spenard_annual_values})\n",
    "new_Bet = pd.DataFrame({'Date':BetnuCircle_month,'BetnuCircle':BetnuCircle_annual_values})"
   ]
  },
  {
   "cell_type": "markdown",
   "metadata": {},
   "source": [
    "result = pd.merge(new_1400,new_1460,on='Date',how='outer')\n",
    "result = pd.merge(result,new_spenard,on='Date',how='outer')\n",
    "CIHA = pd.merge(result,new_Bet,on='Date',how='outer')\n",
    "CIHA['Mean'] = CIHA.mean(axis=1)\n",
    "CIHA = CIHA.sort_values(by = ['Date'])\n",
    "CIHA"
   ]
  },
  {
   "cell_type": "code",
   "execution_count": 4,
   "metadata": {},
   "outputs": [],
   "source": [
    "# Get the data from the PV Watts --TMY2\n",
    "list_parameters = {\"formt\": 'JSON', \"api_key\": \"spJFj2l5ghY5jwk7dNfVYs3JHbpR6BOGHQNO8Y9Z\", \"system_capacity\": 13.7, \"module_type\": 0, \"losses\": 14.08,\n",
    "              \"array_type\": 0, \"tilt\": 50, \"azimuth\": 180, \"lat\": 61.20, \"lon\": -149.73, \"dataset\": 'tmy2'}\n",
    "json_response = requests.get(\"https://developer.nrel.gov/api/pvwatts/v6\", params = list_parameters).json()\n",
    "TMY2 = pd.DataFrame(data = json_response['outputs'])"
   ]
  },
  {
   "cell_type": "code",
   "execution_count": 5,
   "metadata": {},
   "outputs": [],
   "source": [
    "# Get the data from the PV Watts --TMY3\n",
    "list_parameters = {\"formt\": 'JSON', \"api_key\": \"spJFj2l5ghY5jwk7dNfVYs3JHbpR6BOGHQNO8Y9Z\", \"system_capacity\": 13.7, \"module_type\": 0, \"losses\": 14.08,\n",
    "              \"array_type\": 0, \"tilt\": 50, \"azimuth\": 180, \"lat\": 61.20, \"lon\": -149.73, \"dataset\": 'tmy3'}\n",
    "json_response = requests.get(\"https://developer.nrel.gov/api/pvwatts/v6\", params = list_parameters).json()\n",
    "TMY3 = pd.DataFrame(data = json_response['outputs'])"
   ]
  },
  {
   "cell_type": "code",
   "execution_count": 6,
   "metadata": {},
   "outputs": [
    {
     "name": "stderr",
     "output_type": "stream",
     "text": [
      "/miniconda3/lib/python3.7/site-packages/pandas/plotting/_converter.py:129: FutureWarning: Using an implicitly registered datetime converter for a matplotlib plotting method. The converter was registered by pandas on import. Future versions of pandas will require you to explicitly register matplotlib converters.\n",
      "\n",
      "To register the converters:\n",
      "\t>>> from pandas.plotting import register_matplotlib_converters\n",
      "\t>>> register_matplotlib_converters()\n",
      "  warnings.warn(msg, FutureWarning)\n"
     ]
    }
   ],
   "source": [
    "%matplotlib qt5\n",
    "fig, ax = plt.subplots(figsize = (15, 8))\n",
    "x = CIHA_1400Muldoon_new['Date']\n",
    "\n",
    "y_1400 = CIHA_1400Muldoon_new['Energy']\n",
    "l0, = ax.plot(x ,y_1400,label='1400Muldoon')\n",
    "\n",
    "y_TMY2 = TMY2['ac_monthly']\n",
    "l1, = ax.plot(x,y_TMY2,label='TMY2')\n",
    "\n",
    "y_TMY3 = TMY3['ac_monthly']\n",
    "l2, = ax.plot(x,y_TMY3,label='TMY3')\n",
    "\n",
    "ax.set_title(\"The Energy production Over one year\", size = 18)\n",
    "ax.set_xlabel(\"Month\", size = 14)\n",
    "ax.set_ylabel(\"Energy/(KW)\", size = 14)\n",
    "ax.legend()\n",
    "\n",
    "\n",
    "plt.subplots_adjust(left=0.2)\n",
    "lines = [l0, l1, l2]\n",
    "\n",
    "# Make checkbuttons with all plotted lines with correct visibility\n",
    "rax = plt.axes([0.05, 0.4, 0.1, 0.15])\n",
    "labels = [str(line.get_label()) for line in lines]\n",
    "visibility = [line.get_visible() for line in lines]\n",
    "check = CheckButtons(rax, labels, visibility)\n",
    "\n",
    "\n",
    "def func(label):\n",
    "    index = labels.index(label)\n",
    "    lines[index].set_visible(not lines[index].get_visible())\n",
    "    plt.draw()\n",
    "\n",
    "check.on_clicked(func)\n",
    "\n",
    "\n",
    "# # Some \n",
    "# tick_spacing = np.linspace(0, len(fairbanks.index)-1,12, dtype = 'int')\n",
    "# Date_shown = []\n",
    "# for i in tick_spacing:\n",
    "#     Date_shown.append(fairbanks['Date'][i])\n",
    "#ax.xticks(tick_spacing,Date_shown)\n",
    "#plt.annotate('THY2_high',xy=(30,1072.991757),xytext=(32,1100),arrowprops=dict(facecolor='black', shrink=0.05))\n",
    "#plt.annotate('THY2_low',xy=(10,970.802066),xytext=(6,930),arrowprops=dict(facecolor='black', shrink=0.05))\n",
    "\n",
    "plt.show()"
   ]
  },
  {
   "cell_type": "code",
   "execution_count": 7,
   "metadata": {},
   "outputs": [],
   "source": [
    "# Get the data from the PV Watts --TMY2\n",
    "list_parameters = {\"formt\": 'JSON', \"api_key\": \"spJFj2l5ghY5jwk7dNfVYs3JHbpR6BOGHQNO8Y9Z\", \"system_capacity\": 14.8, \"module_type\": 0, \"losses\": 14.08,\n",
    "              \"array_type\": 0, \"tilt\": 50, \"azimuth\": 180, \"lat\": 61.20, \"lon\": -149.73, \"dataset\": 'tmy2'}\n",
    "json_response = requests.get(\"https://developer.nrel.gov/api/pvwatts/v6\", params = list_parameters).json()\n",
    "TMY2 = pd.DataFrame(data = json_response['outputs'])\n",
    "# Get the data from the PV Watts --TMY2\n",
    "list_parameters = {\"formt\": 'JSON', \"api_key\": \"spJFj2l5ghY5jwk7dNfVYs3JHbpR6BOGHQNO8Y9Z\", \"system_capacity\": 14.8, \"module_type\": 0, \"losses\": 14.08,\n",
    "              \"array_type\": 0, \"tilt\": 50, \"azimuth\": 180, \"lat\": 61.20, \"lon\": -149.73, \"dataset\": 'tmy3'}\n",
    "json_response = requests.get(\"https://developer.nrel.gov/api/pvwatts/v6\", params = list_parameters).json()\n",
    "TMY3 = pd.DataFrame(data = json_response['outputs'])"
   ]
  },
  {
   "cell_type": "code",
   "execution_count": 8,
   "metadata": {},
   "outputs": [],
   "source": [
    "%matplotlib qt5\n",
    "fig, ax = plt.subplots(figsize = (15, 8))\n",
    "x = CIHA_1460Muldoon_new['Date']\n",
    "\n",
    "y_1460 = CIHA_1460Muldoon_new['Energy']\n",
    "l0, = ax.plot(x ,y_1460,label='1460Muldoon')\n",
    "\n",
    "y_TMY2 = TMY2['ac_monthly']\n",
    "l1, = ax.plot(x,y_TMY2,label='TMY2')\n",
    "\n",
    "y_TMY3 = TMY3['ac_monthly']\n",
    "l2, = ax.plot(x,y_TMY3,label='TMY3')\n",
    "\n",
    "ax.set_title(\"The Energy production of 1460 Muldoon Over one year\", size = 18)\n",
    "ax.set_xlabel(\"Month\", size = 14)\n",
    "ax.set_ylabel(\"Energy/(KW)\", size = 14)\n",
    "ax.legend()\n",
    "\n",
    "\n",
    "plt.subplots_adjust(left=0.2)\n",
    "lines = [l0, l1, l2]\n",
    "\n",
    "# Make checkbuttons with all plotted lines with correct visibility\n",
    "rax = plt.axes([0.05, 0.4, 0.1, 0.15])\n",
    "labels = [str(line.get_label()) for line in lines]\n",
    "visibility = [line.get_visible() for line in lines]\n",
    "check = CheckButtons(rax, labels, visibility)\n",
    "\n",
    "\n",
    "def func(label):\n",
    "    index = labels.index(label)\n",
    "    lines[index].set_visible(not lines[index].get_visible())\n",
    "    plt.draw()\n",
    "\n",
    "check.on_clicked(func)\n",
    "\n",
    "\n",
    "# # Some \n",
    "# tick_spacing = np.linspace(0, len(fairbanks.index)-1,12, dtype = 'int')\n",
    "# Date_shown = []\n",
    "# for i in tick_spacing:\n",
    "#     Date_shown.append(fairbanks['Date'][i])\n",
    "#ax.xticks(tick_spacing,Date_shown)\n",
    "#plt.annotate('THY2_high',xy=(30,1072.991757),xytext=(32,1100),arrowprops=dict(facecolor='black', shrink=0.05))\n",
    "#plt.annotate('THY2_low',xy=(10,970.802066),xytext=(6,930),arrowprops=dict(facecolor='black', shrink=0.05))\n",
    "\n",
    "plt.show()"
   ]
  },
  {
   "cell_type": "code",
   "execution_count": 9,
   "metadata": {},
   "outputs": [],
   "source": [
    "# Get the data from the PV Watts --TMY2\n",
    "list_parameters = {\"formt\": 'JSON', \"api_key\": \"spJFj2l5ghY5jwk7dNfVYs3JHbpR6BOGHQNO8Y9Z\", \"system_capacity\": 18.9, \"module_type\": 0, \"losses\": 14.08,\n",
    "              \"array_type\": 0, \"tilt\": 50, \"azimuth\": 180, \"lat\": 61.18, \"lon\": -149.90, \"dataset\": 'tmy2'}\n",
    "json_response = requests.get(\"https://developer.nrel.gov/api/pvwatts/v6\", params = list_parameters).json()\n",
    "TMY2 = pd.DataFrame(data = json_response['outputs'])\n",
    "# Get the data from the PV Watts --TMY2\n",
    "list_parameters = {\"formt\": 'JSON', \"api_key\": \"spJFj2l5ghY5jwk7dNfVYs3JHbpR6BOGHQNO8Y9Z\", \"system_capacity\": 18.9, \"module_type\": 0, \"losses\": 14.08,\n",
    "              \"array_type\": 0, \"tilt\": 50, \"azimuth\": 180, \"lat\": 61.18, \"lon\": -149.90, \"dataset\": 'tmy3'}\n",
    "json_response = requests.get(\"https://developer.nrel.gov/api/pvwatts/v6\", params = list_parameters).json()\n",
    "TMY3 = pd.DataFrame(data = json_response['outputs'])"
   ]
  },
  {
   "cell_type": "code",
   "execution_count": 10,
   "metadata": {},
   "outputs": [
    {
     "name": "stderr",
     "output_type": "stream",
     "text": [
      "/miniconda3/lib/python3.7/site-packages/ipykernel_launcher.py:1: SettingWithCopyWarning: \n",
      "A value is trying to be set on a copy of a slice from a DataFrame.\n",
      "Try using .loc[row_indexer,col_indexer] = value instead\n",
      "\n",
      "See the caveats in the documentation: http://pandas.pydata.org/pandas-docs/stable/indexing.html#indexing-view-versus-copy\n",
      "  \"\"\"Entry point for launching an IPython kernel.\n",
      "/miniconda3/lib/python3.7/site-packages/ipykernel_launcher.py:2: SettingWithCopyWarning: \n",
      "A value is trying to be set on a copy of a slice from a DataFrame.\n",
      "Try using .loc[row_indexer,col_indexer] = value instead\n",
      "\n",
      "See the caveats in the documentation: http://pandas.pydata.org/pandas-docs/stable/indexing.html#indexing-view-versus-copy\n",
      "  \n"
     ]
    }
   ],
   "source": [
    "CIHA_3600spenard_new['ac_monthly_TMY2'] = TMY2['ac_monthly']\n",
    "CIHA_3600spenard_new['ac_monthly_TMY3'] = TMY3['ac_monthly']\n",
    "CIHA_3600spenard_new = CIHA_3600spenard_new.sort_values(by = ['Date'])"
   ]
  },
  {
   "cell_type": "code",
   "execution_count": 11,
   "metadata": {},
   "outputs": [],
   "source": [
    "%matplotlib qt5\n",
    "fig, ax = plt.subplots(figsize = (15, 8))\n",
    "x = CIHA_3600spenard_new['Date']\n",
    "\n",
    "y_3600 = CIHA_3600spenard_new['Energy']\n",
    "l0, = ax.plot(x ,y_3600,label='3600 Spenard')\n",
    "\n",
    "y_TMY2 = CIHA_3600spenard_new['ac_monthly_TMY2']\n",
    "l1, = ax.plot(x,y_TMY2,label='TMY2')\n",
    "\n",
    "y_TMY3 = CIHA_3600spenard_new['ac_monthly_TMY3']\n",
    "l2, = ax.plot(x,y_TMY3,label='TMY3')\n",
    "\n",
    "ax.set_title(\"The Energy production of 3600 Spenard Over one year\", size = 18)\n",
    "ax.set_xlabel(\"Month\", size = 14)\n",
    "ax.set_ylabel(\"Energy/(KW)\", size = 14)\n",
    "ax.legend()\n",
    "\n",
    "\n",
    "plt.subplots_adjust(left=0.2)\n",
    "lines = [l0, l1, l2]\n",
    "\n",
    "# Make checkbuttons with all plotted lines with correct visibility\n",
    "rax = plt.axes([0.05, 0.4, 0.1, 0.15])\n",
    "labels = [str(line.get_label()) for line in lines]\n",
    "visibility = [line.get_visible() for line in lines]\n",
    "check = CheckButtons(rax, labels, visibility)\n",
    "\n",
    "\n",
    "def func(label):\n",
    "    index = labels.index(label)\n",
    "    lines[index].set_visible(not lines[index].get_visible())\n",
    "    plt.draw()\n",
    "\n",
    "check.on_clicked(func)\n",
    "\n",
    "\n",
    "# # Some \n",
    "# tick_spacing = np.linspace(0, len(fairbanks.index)-1,12, dtype = 'int')\n",
    "# Date_shown = []\n",
    "# for i in tick_spacing:\n",
    "#     Date_shown.append(fairbanks['Date'][i])\n",
    "#ax.xticks(tick_spacing,Date_shown)\n",
    "#plt.annotate('THY2_high',xy=(30,1072.991757),xytext=(32,1100),arrowprops=dict(facecolor='black', shrink=0.05))\n",
    "#plt.annotate('THY2_low',xy=(10,970.802066),xytext=(6,930),arrowprops=dict(facecolor='black', shrink=0.05))\n",
    "\n",
    "plt.show()"
   ]
  },
  {
   "cell_type": "code",
   "execution_count": 12,
   "metadata": {},
   "outputs": [],
   "source": [
    "# Get the data from the PV Watts --TMY2\n",
    "list_parameters = {\"formt\": 'JSON', \"api_key\": \"spJFj2l5ghY5jwk7dNfVYs3JHbpR6BOGHQNO8Y9Z\", \"system_capacity\": 26.9, \"module_type\": 0, \"losses\": 14.08,\n",
    "              \"array_type\": 0, \"tilt\": 50, \"azimuth\": 180, \"lat\": 61.20, \"lon\": -149.73, \"dataset\": 'tmy2'}\n",
    "json_response = requests.get(\"https://developer.nrel.gov/api/pvwatts/v6\", params = list_parameters).json()\n",
    "TMY2 = pd.DataFrame(data = json_response['outputs'])\n",
    "# Get the data from the PV Watts --TMY2\n",
    "list_parameters = {\"formt\": 'JSON', \"api_key\": \"spJFj2l5ghY5jwk7dNfVYs3JHbpR6BOGHQNO8Y9Z\", \"system_capacity\": 26.9, \"module_type\": 0, \"losses\": 14.08,\n",
    "              \"array_type\": 0, \"tilt\": 50, \"azimuth\": 180, \"lat\": 61.20, \"lon\": -149.73, \"dataset\": 'tmy3'}\n",
    "json_response = requests.get(\"https://developer.nrel.gov/api/pvwatts/v6\", params = list_parameters).json()\n",
    "TMY3 = pd.DataFrame(data = json_response['outputs'])"
   ]
  },
  {
   "cell_type": "code",
   "execution_count": null,
   "metadata": {},
   "outputs": [],
   "source": []
  },
  {
   "cell_type": "code",
   "execution_count": 13,
   "metadata": {},
   "outputs": [
    {
     "ename": "KeyError",
     "evalue": "'Mean'",
     "output_type": "error",
     "traceback": [
      "\u001b[0;31m---------------------------------------------------------------------------\u001b[0m",
      "\u001b[0;31mKeyError\u001b[0m                                  Traceback (most recent call last)",
      "\u001b[0;32m/miniconda3/lib/python3.7/site-packages/pandas/core/indexes/base.py\u001b[0m in \u001b[0;36mget_loc\u001b[0;34m(self, key, method, tolerance)\u001b[0m\n\u001b[1;32m   2656\u001b[0m             \u001b[0;32mtry\u001b[0m\u001b[0;34m:\u001b[0m\u001b[0;34m\u001b[0m\u001b[0;34m\u001b[0m\u001b[0m\n\u001b[0;32m-> 2657\u001b[0;31m                 \u001b[0;32mreturn\u001b[0m \u001b[0mself\u001b[0m\u001b[0;34m.\u001b[0m\u001b[0m_engine\u001b[0m\u001b[0;34m.\u001b[0m\u001b[0mget_loc\u001b[0m\u001b[0;34m(\u001b[0m\u001b[0mkey\u001b[0m\u001b[0;34m)\u001b[0m\u001b[0;34m\u001b[0m\u001b[0;34m\u001b[0m\u001b[0m\n\u001b[0m\u001b[1;32m   2658\u001b[0m             \u001b[0;32mexcept\u001b[0m \u001b[0mKeyError\u001b[0m\u001b[0;34m:\u001b[0m\u001b[0;34m\u001b[0m\u001b[0;34m\u001b[0m\u001b[0m\n",
      "\u001b[0;32mpandas/_libs/index.pyx\u001b[0m in \u001b[0;36mpandas._libs.index.IndexEngine.get_loc\u001b[0;34m()\u001b[0m\n",
      "\u001b[0;32mpandas/_libs/index.pyx\u001b[0m in \u001b[0;36mpandas._libs.index.IndexEngine.get_loc\u001b[0;34m()\u001b[0m\n",
      "\u001b[0;32mpandas/_libs/hashtable_class_helper.pxi\u001b[0m in \u001b[0;36mpandas._libs.hashtable.PyObjectHashTable.get_item\u001b[0;34m()\u001b[0m\n",
      "\u001b[0;32mpandas/_libs/hashtable_class_helper.pxi\u001b[0m in \u001b[0;36mpandas._libs.hashtable.PyObjectHashTable.get_item\u001b[0;34m()\u001b[0m\n",
      "\u001b[0;31mKeyError\u001b[0m: 'Mean'",
      "\nDuring handling of the above exception, another exception occurred:\n",
      "\u001b[0;31mKeyError\u001b[0m                                  Traceback (most recent call last)",
      "\u001b[0;32m<ipython-input-13-2871a8063358>\u001b[0m in \u001b[0;36m<module>\u001b[0;34m\u001b[0m\n\u001b[1;32m      6\u001b[0m \u001b[0ml0\u001b[0m\u001b[0;34m,\u001b[0m \u001b[0;34m=\u001b[0m \u001b[0max\u001b[0m\u001b[0;34m.\u001b[0m\u001b[0mplot\u001b[0m\u001b[0;34m(\u001b[0m\u001b[0mx\u001b[0m \u001b[0;34m,\u001b[0m\u001b[0my_7861\u001b[0m\u001b[0;34m,\u001b[0m\u001b[0mlabel\u001b[0m\u001b[0;34m=\u001b[0m\u001b[0;34m'7861 BetnuCircle'\u001b[0m\u001b[0;34m)\u001b[0m\u001b[0;34m\u001b[0m\u001b[0;34m\u001b[0m\u001b[0m\n\u001b[1;32m      7\u001b[0m \u001b[0;34m\u001b[0m\u001b[0m\n\u001b[0;32m----> 8\u001b[0;31m \u001b[0my_mean\u001b[0m \u001b[0;34m=\u001b[0m \u001b[0mCIHA_7861BetnuCircle_new\u001b[0m\u001b[0;34m[\u001b[0m\u001b[0;34m'Mean'\u001b[0m\u001b[0;34m]\u001b[0m\u001b[0;34m\u001b[0m\u001b[0;34m\u001b[0m\u001b[0m\n\u001b[0m\u001b[1;32m      9\u001b[0m \u001b[0ml1\u001b[0m\u001b[0;34m,\u001b[0m \u001b[0;34m=\u001b[0m \u001b[0max\u001b[0m\u001b[0;34m.\u001b[0m\u001b[0mplot\u001b[0m\u001b[0;34m(\u001b[0m\u001b[0mx\u001b[0m\u001b[0;34m,\u001b[0m\u001b[0my_mean\u001b[0m\u001b[0;34m,\u001b[0m\u001b[0mlabel\u001b[0m\u001b[0;34m=\u001b[0m\u001b[0;34m'Mean'\u001b[0m\u001b[0;34m)\u001b[0m\u001b[0;34m\u001b[0m\u001b[0;34m\u001b[0m\u001b[0m\n\u001b[1;32m     10\u001b[0m \u001b[0;34m\u001b[0m\u001b[0m\n",
      "\u001b[0;32m/miniconda3/lib/python3.7/site-packages/pandas/core/frame.py\u001b[0m in \u001b[0;36m__getitem__\u001b[0;34m(self, key)\u001b[0m\n\u001b[1;32m   2925\u001b[0m             \u001b[0;32mif\u001b[0m \u001b[0mself\u001b[0m\u001b[0;34m.\u001b[0m\u001b[0mcolumns\u001b[0m\u001b[0;34m.\u001b[0m\u001b[0mnlevels\u001b[0m \u001b[0;34m>\u001b[0m \u001b[0;36m1\u001b[0m\u001b[0;34m:\u001b[0m\u001b[0;34m\u001b[0m\u001b[0;34m\u001b[0m\u001b[0m\n\u001b[1;32m   2926\u001b[0m                 \u001b[0;32mreturn\u001b[0m \u001b[0mself\u001b[0m\u001b[0;34m.\u001b[0m\u001b[0m_getitem_multilevel\u001b[0m\u001b[0;34m(\u001b[0m\u001b[0mkey\u001b[0m\u001b[0;34m)\u001b[0m\u001b[0;34m\u001b[0m\u001b[0;34m\u001b[0m\u001b[0m\n\u001b[0;32m-> 2927\u001b[0;31m             \u001b[0mindexer\u001b[0m \u001b[0;34m=\u001b[0m \u001b[0mself\u001b[0m\u001b[0;34m.\u001b[0m\u001b[0mcolumns\u001b[0m\u001b[0;34m.\u001b[0m\u001b[0mget_loc\u001b[0m\u001b[0;34m(\u001b[0m\u001b[0mkey\u001b[0m\u001b[0;34m)\u001b[0m\u001b[0;34m\u001b[0m\u001b[0;34m\u001b[0m\u001b[0m\n\u001b[0m\u001b[1;32m   2928\u001b[0m             \u001b[0;32mif\u001b[0m \u001b[0mis_integer\u001b[0m\u001b[0;34m(\u001b[0m\u001b[0mindexer\u001b[0m\u001b[0;34m)\u001b[0m\u001b[0;34m:\u001b[0m\u001b[0;34m\u001b[0m\u001b[0;34m\u001b[0m\u001b[0m\n\u001b[1;32m   2929\u001b[0m                 \u001b[0mindexer\u001b[0m \u001b[0;34m=\u001b[0m \u001b[0;34m[\u001b[0m\u001b[0mindexer\u001b[0m\u001b[0;34m]\u001b[0m\u001b[0;34m\u001b[0m\u001b[0;34m\u001b[0m\u001b[0m\n",
      "\u001b[0;32m/miniconda3/lib/python3.7/site-packages/pandas/core/indexes/base.py\u001b[0m in \u001b[0;36mget_loc\u001b[0;34m(self, key, method, tolerance)\u001b[0m\n\u001b[1;32m   2657\u001b[0m                 \u001b[0;32mreturn\u001b[0m \u001b[0mself\u001b[0m\u001b[0;34m.\u001b[0m\u001b[0m_engine\u001b[0m\u001b[0;34m.\u001b[0m\u001b[0mget_loc\u001b[0m\u001b[0;34m(\u001b[0m\u001b[0mkey\u001b[0m\u001b[0;34m)\u001b[0m\u001b[0;34m\u001b[0m\u001b[0;34m\u001b[0m\u001b[0m\n\u001b[1;32m   2658\u001b[0m             \u001b[0;32mexcept\u001b[0m \u001b[0mKeyError\u001b[0m\u001b[0;34m:\u001b[0m\u001b[0;34m\u001b[0m\u001b[0;34m\u001b[0m\u001b[0m\n\u001b[0;32m-> 2659\u001b[0;31m                 \u001b[0;32mreturn\u001b[0m \u001b[0mself\u001b[0m\u001b[0;34m.\u001b[0m\u001b[0m_engine\u001b[0m\u001b[0;34m.\u001b[0m\u001b[0mget_loc\u001b[0m\u001b[0;34m(\u001b[0m\u001b[0mself\u001b[0m\u001b[0;34m.\u001b[0m\u001b[0m_maybe_cast_indexer\u001b[0m\u001b[0;34m(\u001b[0m\u001b[0mkey\u001b[0m\u001b[0;34m)\u001b[0m\u001b[0;34m)\u001b[0m\u001b[0;34m\u001b[0m\u001b[0;34m\u001b[0m\u001b[0m\n\u001b[0m\u001b[1;32m   2660\u001b[0m         \u001b[0mindexer\u001b[0m \u001b[0;34m=\u001b[0m \u001b[0mself\u001b[0m\u001b[0;34m.\u001b[0m\u001b[0mget_indexer\u001b[0m\u001b[0;34m(\u001b[0m\u001b[0;34m[\u001b[0m\u001b[0mkey\u001b[0m\u001b[0;34m]\u001b[0m\u001b[0;34m,\u001b[0m \u001b[0mmethod\u001b[0m\u001b[0;34m=\u001b[0m\u001b[0mmethod\u001b[0m\u001b[0;34m,\u001b[0m \u001b[0mtolerance\u001b[0m\u001b[0;34m=\u001b[0m\u001b[0mtolerance\u001b[0m\u001b[0;34m)\u001b[0m\u001b[0;34m\u001b[0m\u001b[0;34m\u001b[0m\u001b[0m\n\u001b[1;32m   2661\u001b[0m         \u001b[0;32mif\u001b[0m \u001b[0mindexer\u001b[0m\u001b[0;34m.\u001b[0m\u001b[0mndim\u001b[0m \u001b[0;34m>\u001b[0m \u001b[0;36m1\u001b[0m \u001b[0;32mor\u001b[0m \u001b[0mindexer\u001b[0m\u001b[0;34m.\u001b[0m\u001b[0msize\u001b[0m \u001b[0;34m>\u001b[0m \u001b[0;36m1\u001b[0m\u001b[0;34m:\u001b[0m\u001b[0;34m\u001b[0m\u001b[0;34m\u001b[0m\u001b[0m\n",
      "\u001b[0;32mpandas/_libs/index.pyx\u001b[0m in \u001b[0;36mpandas._libs.index.IndexEngine.get_loc\u001b[0;34m()\u001b[0m\n",
      "\u001b[0;32mpandas/_libs/index.pyx\u001b[0m in \u001b[0;36mpandas._libs.index.IndexEngine.get_loc\u001b[0;34m()\u001b[0m\n",
      "\u001b[0;32mpandas/_libs/hashtable_class_helper.pxi\u001b[0m in \u001b[0;36mpandas._libs.hashtable.PyObjectHashTable.get_item\u001b[0;34m()\u001b[0m\n",
      "\u001b[0;32mpandas/_libs/hashtable_class_helper.pxi\u001b[0m in \u001b[0;36mpandas._libs.hashtable.PyObjectHashTable.get_item\u001b[0;34m()\u001b[0m\n",
      "\u001b[0;31mKeyError\u001b[0m: 'Mean'"
     ]
    }
   ],
   "source": [
    "%matplotlib qt5\n",
    "fig, ax = plt.subplots(figsize = (15, 8))\n",
    "x = CIHA_7861BetnuCircle_new['Date']\n",
    "\n",
    "y_7861 = CIHA_7861BetnuCircle_new['Energy']\n",
    "l0, = ax.plot(x ,y_7861,label='7861 BetnuCircle')\n",
    "\n",
    "y_mean = CIHA_7861BetnuCircle_new['Mean']\n",
    "l1, = ax.plot(x,y_mean,label='Mean')\n",
    "\n",
    "y_TMY2_low = CIHA_7861BetnuCircle_new['TMY2_low']\n",
    "l2, = ax.plot(x,y_TMY2_low,'-.',label = 'TMY2_low')\n",
    "\n",
    "y_TMY2_high = CIHA_7861BetnuCircle_new['TMY2_high']\n",
    "l3, = ax.plot(x,y_TMY2_high,'-.',label = 'TMY2_high')\n",
    "\n",
    "y_TMY3_low = CIHA_7861BetnuCircle_new['TMY3_low']\n",
    "l4, = ax.plot(x,y_TMY3_low,'-.',label = 'TMY3_low')\n",
    "\n",
    "y_TMY3_high = CIHA_7861BetnuCircle_new['TMY3_high']\n",
    "l5, = ax.plot(x,y_TMY3_high,'-.',label = 'TMY3_high')\n",
    "\n",
    "\n",
    "\n",
    "ax.set_title(\"The Energy production of 7861 BetnuCircle Over one year\", size = 18)\n",
    "ax.set_xlabel(\"Month\", size = 14)\n",
    "ax.set_ylabel(\"Energy/(KW)\", size = 14)\n",
    "ax.legend()\n",
    "\n",
    "\n",
    "plt.subplots_adjust(left=0.2)\n",
    "lines = [l0, l1, l2, l3, l4, l5]\n",
    "\n",
    "# Make checkbuttons with all plotted lines with correct visibility\n",
    "rax = plt.axes([0.05, 0.4, 0.1, 0.15])\n",
    "labels = [str(line.get_label()) for line in lines]\n",
    "visibility = [line.get_visible() for line in lines]\n",
    "check = CheckButtons(rax, labels, visibility)\n",
    "\n",
    "\n",
    "def func(label):\n",
    "    index = labels.index(label)\n",
    "    lines[index].set_visible(not lines[index].get_visible())\n",
    "    plt.draw()\n",
    "\n",
    "check.on_clicked(func)\n",
    "\n",
    "\n",
    "# # Some \n",
    "# tick_spacing = np.linspace(0, len(fairbanks.index)-1,12, dtype = 'int')\n",
    "# Date_shown = []\n",
    "# for i in tick_spacing:\n",
    "#     Date_shown.append(fairbanks['Date'][i])\n",
    "#ax.xticks(tick_spacing,Date_shown)\n",
    "#plt.annotate('THY2_high',xy=(30,1072.991757),xytext=(32,1100),arrowprops=dict(facecolor='black', shrink=0.05))\n",
    "#plt.annotate('THY2_low',xy=(10,970.802066),xytext=(6,930),arrowprops=dict(facecolor='black', shrink=0.05))\n",
    "\n",
    "plt.show()"
   ]
  },
  {
   "cell_type": "code",
   "execution_count": null,
   "metadata": {},
   "outputs": [],
   "source": []
  },
  {
   "cell_type": "code",
   "execution_count": null,
   "metadata": {},
   "outputs": [],
   "source": []
  }
 ],
 "metadata": {
  "kernelspec": {
   "display_name": "Python 3",
   "language": "python",
   "name": "python3"
  },
  "language_info": {
   "codemirror_mode": {
    "name": "ipython",
    "version": 3
   },
   "file_extension": ".py",
   "mimetype": "text/x-python",
   "name": "python",
   "nbconvert_exporter": "python",
   "pygments_lexer": "ipython3",
   "version": "3.7.1"
  }
 },
 "nbformat": 4,
 "nbformat_minor": 2
}
