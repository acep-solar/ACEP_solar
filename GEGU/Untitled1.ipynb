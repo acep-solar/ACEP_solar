{
 "cells": [
  {
   "cell_type": "code",
   "execution_count": 1,
   "metadata": {},
   "outputs": [],
   "source": [
    "import pandas as pd\n",
    "import random\n",
    "from datetime import timedelta\n",
    "\n",
    "df = pd.DataFrame({'base' : [\"2017-01-01\" for t in range(10000)],\n",
    "    'Date' : [random.randint(0, 1035) for t in range(10000)], \n",
    "                   'Sales' : [random.random() for t in range(10000)]})\n",
    "df['base'] = pd.to_datetime(df['base'])\n",
    "df[\"Date2\"] = df.apply(lambda x: x[\"base\"] + timedelta(days=x['Date']), axis=1)\n",
    "df.drop(['base', 'Date'], axis=1, inplace=True)"
   ]
  },
  {
   "cell_type": "code",
   "execution_count": 2,
   "metadata": {},
   "outputs": [],
   "source": [
    "from bokeh.models.widgets import Slider\n",
    "from bokeh.layouts import widgetbox, column\n",
    "from bokeh.models import Slider, ColumnDataSource, CustomJS\n",
    "from bokeh.plotting import figure, curdoc\n",
    "from bokeh.core.properties import value\n",
    "from bokeh.models.ranges import FactorRange\n",
    "from bokeh.plotting import figure, output_file, show, ColumnDataSource\n",
    "from bokeh.models import ColumnDataSource, CDSView, IndexFilter, BooleanFilter, HoverTool\n",
    "\n",
    "df.set_index('Date2', inplace=True)\n",
    "df['month'] = df.index.month\n",
    "df['year'] = df.index.year\n",
    "df['day'] = df.index.day\n",
    "source1=df.groupby(['year','month','day'], as_index = False).sum()\n",
    "source = source1[source1['year']== 2017]\n",
    "sourcex = source[source['month'] ==1]\n",
    "Overall=ColumnDataSource(source)\n",
    "Curr=ColumnDataSource(sourcex)\n",
    "boolinit = source['month']==1\n",
    "view = CDSView(source=Overall, filters=[BooleanFilter(boolinit)])\n",
    "hover3 = HoverTool(tooltips = [('day', '@day'),('Sales','@{Sales}{0,0}')],\n",
    "                   formatters = {'day': 'datetime','Sales': 'numeral'})\n",
    "\n",
    "p =  figure(title='YEARLY SALES',  plot_width=600, plot_height=400, min_border=3,\n",
    "tools = [hover3,'box_zoom','wheel_zoom', 'pan','reset'],  \n",
    "toolbar_location=\"above\")\n",
    "\n",
    "r = p.vbar(x='day', top='Sales', width=0.2, color='#e8bc76', source=Curr)\n",
    "p.xaxis.axis_label = 'Day'\n",
    "p.xaxis.axis_label_text_font_style = 'normal'\n",
    "p.xaxis.axis_label_text_font_size = '12pt'\n"
   ]
  },
  {
   "cell_type": "code",
   "execution_count": 3,
   "metadata": {},
   "outputs": [],
   "source": [
    "    callback = CustomJS(args=dict(source=Overall, sc=Curr), code=\"\"\"       \n",
    "    var f = slider.value;\n",
    "    sc.data['day'] = [];\n",
    "    sc.data['ExtendedPrice'] = [];\n",
    "    for (var i = 0; i <= source.get_length(); i++){\n",
    "      if (source.data['month'][i] == f){\n",
    "\n",
    "        sc.data['day'].push(source.data['day'][i])\n",
    "        sc.data['ExtendedPrice'].push(source.data['ExtendedPrice'][i])\n",
    "      }\n",
    "    }\n",
    "    sc.change.emit();\n",
    "\"\"\")\n",
    "slider = Slider(start=1, end=12, value=1, step=1, title=\"Month\", callback=callback)\n",
    "callback.args[\"slider\"] = slider\n",
    "\n",
    "layout = column(slider, p)\n",
    "\n",
    "output_file(\"Filterdata.html\")\n",
    "#fig.view.filters[0].booleans = indices\n",
    "show(layout)"
   ]
  },
  {
   "cell_type": "code",
   "execution_count": null,
   "metadata": {},
   "outputs": [],
   "source": []
  }
 ],
 "metadata": {
  "kernelspec": {
   "display_name": "Python 3",
   "language": "python",
   "name": "python3"
  },
  "language_info": {
   "codemirror_mode": {
    "name": "ipython",
    "version": 3
   },
   "file_extension": ".py",
   "mimetype": "text/x-python",
   "name": "python",
   "nbconvert_exporter": "python",
   "pygments_lexer": "ipython3",
   "version": "3.7.1"
  }
 },
 "nbformat": 4,
 "nbformat_minor": 2
}
