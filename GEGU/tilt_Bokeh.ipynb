{
 "cells": [
  {
   "cell_type": "code",
   "execution_count": 45,
   "metadata": {},
   "outputs": [],
   "source": [
    "import pandas as pd\n",
    "import numpy as np\n",
    "import requests"
   ]
  },
  {
   "cell_type": "code",
   "execution_count": 46,
   "metadata": {},
   "outputs": [],
   "source": [
    "nrel_long_tilt = []\n",
    "tilts = [5, 10, 15, 20, 25, 30, 35, 40, 45, 50, 55, 60, 65, 70, 75, 80, 85, 90]\n",
    "for i in range(len(tilts)):\n",
    "    list_parameters = {\"formt\": 'JSON', \"api_key\": \"spJFj2l5ghY5jwk7dNfVYs3JHbpR6BOGHQNO8Y9Z\", \"system_capacity\": 4, \"module_type\": 0, \"losses\": 14.08,\n",
    "              \"array_type\": 0, \"tilt\": tilts[i], \"azimuth\": 180, \"lat\": 64.82, \"lon\": -147.87, \"dataset\": 'tmy2'}\n",
    "    json_response = requests.get(\"https://developer.nrel.gov/api/pvwatts/v6\", params = list_parameters).json()\n",
    "    new_dataframe = pd.DataFrame(data = json_response['outputs'])\n",
    "    nrel_long_tilt.append(new_dataframe)"
   ]
  },
  {
   "cell_type": "code",
   "execution_count": 47,
   "metadata": {},
   "outputs": [],
   "source": [
    "ac_monthly_all=[]\n",
    "for i in range(len(nrel_long_tilt)):\n",
    "    for j in range(12):\n",
    "        ac_monthly_all.append(nrel_long_tilt[i]['ac_monthly'][j])\n",
    "        \n",
    "month = [1,2,3,4,5,6,7,8,9,10,11,12]*18\n",
    "\n",
    "n=12\n",
    "tilt_new = [item for item in tilts for i in range(n)]\n",
    "\n",
    "df = pd.DataFrame({'month':month,'ac_monthly':ac_monthly_all,'tilt':tilt_new})"
   ]
  },
  {
   "cell_type": "code",
   "execution_count": 33,
   "metadata": {},
   "outputs": [],
   "source": [
    "import pandas as pd\n",
    "import numpy as np\n",
    "from bokeh.models import ColumnDataSource, CategoricalColorMapper, HoverTool\n",
    "from bokeh.plotting import figure, curdoc\n",
    "from bokeh.palettes import viridis\n",
    "from bokeh.layouts import row, widgetbox\n",
    "from bokeh.models.widgets import Select, Slider\n",
    "from bokeh.layouts import row, column\n",
    "from bokeh.models import CustomJS, Slider\n",
    "from bokeh.plotting import figure, output_file, show, ColumnDataSource"
   ]
  },
  {
   "cell_type": "code",
   "execution_count": 71,
   "metadata": {},
   "outputs": [],
   "source": [
    "df_default = df[df['tilt']==90]\n",
    "\n",
    "source = ColumnDataSource({\n",
    "    'x': df_default.month.tolist(), \n",
    "    'y': df_default.ac_monthly.tolist(), \n",
    "})\n",
    "\n",
    "plot = figure(plot_width=400, plot_height=400)\n",
    "\n",
    "plot.line(x='x', y='y', source=source, line_width=3, line_alpha=0.6)\n",
    "\n",
    "callback = CustomJS(args=dict(source=source), code=\"\"\"\n",
    "    var data = source.data;\n",
    "    var tilt = slider.value;\n",
    "    var x = data['x']\n",
    "    var y = data['y']\n",
    "    'x'        = df[df['tilt']==tilt].month.tolist();\n",
    "    'y'        = df[df['tilt']==tilt].ac_monthly;\n",
    "    plot.line(x='x', y='y', source=source, line_width=3, line_alpha=0.6, \n",
    "         );\n",
    "    source.change.emit();\n",
    "\"\"\")\n",
    "    \n",
    "slider = Slider(start=5, end=90, step=5, value=5, title='tilt')\n",
    "slider.js_on_change( 'value', callback)\n",
    "\n",
    "layout = row(\n",
    "    plot,\n",
    "    column(slider)\n",
    ")\n",
    "\n",
    "output_file(\"slider.html\", title=\"slider.py example\")\n",
    "\n",
    "show(layout)"
   ]
  },
  {
   "cell_type": "code",
   "execution_count": 64,
   "metadata": {},
   "outputs": [],
   "source": [
    "slider.js_on_change?"
   ]
  },
  {
   "cell_type": "code",
   "execution_count": 69,
   "metadata": {},
   "outputs": [
    {
     "ename": "TypeError",
     "evalue": "'Series' object is not callable",
     "output_type": "error",
     "traceback": [
      "\u001b[0;31m---------------------------------------------------------------------------\u001b[0m",
      "\u001b[0;31mTypeError\u001b[0m                                 Traceback (most recent call last)",
      "\u001b[0;32m<ipython-input-69-2fd2abd48d73>\u001b[0m in \u001b[0;36m<module>\u001b[0;34m\u001b[0m\n\u001b[0;32m----> 1\u001b[0;31m \u001b[0ma\u001b[0m\u001b[0;34m=\u001b[0m\u001b[0mdf\u001b[0m\u001b[0;34m[\u001b[0m\u001b[0mdf\u001b[0m\u001b[0;34m[\u001b[0m\u001b[0;34m'tilt'\u001b[0m\u001b[0;34m]\u001b[0m\u001b[0;34m==\u001b[0m\u001b[0;36m10\u001b[0m\u001b[0;34m]\u001b[0m\u001b[0;34m.\u001b[0m\u001b[0mmonth\u001b[0m\u001b[0;34m(\u001b[0m\u001b[0;34m)\u001b[0m\u001b[0;34m\u001b[0m\u001b[0;34m\u001b[0m\u001b[0m\n\u001b[0m",
      "\u001b[0;31mTypeError\u001b[0m: 'Series' object is not callable"
     ]
    }
   ],
   "source": [
    "a=df[df['tilt']==10].month.tolist"
   ]
  },
  {
   "cell_type": "code",
   "execution_count": 68,
   "metadata": {},
   "outputs": [
    {
     "data": {
      "text/plain": [
       "12     1\n",
       "13     2\n",
       "14     3\n",
       "15     4\n",
       "16     5\n",
       "17     6\n",
       "18     7\n",
       "19     8\n",
       "20     9\n",
       "21    10\n",
       "22    11\n",
       "23    12\n",
       "Name: month, dtype: int64"
      ]
     },
     "execution_count": 68,
     "metadata": {},
     "output_type": "execute_result"
    }
   ],
   "source": []
  },
  {
   "cell_type": "code",
   "execution_count": null,
   "metadata": {},
   "outputs": [],
   "source": []
  }
 ],
 "metadata": {
  "kernelspec": {
   "display_name": "Python 3",
   "language": "python",
   "name": "python3"
  },
  "language_info": {
   "codemirror_mode": {
    "name": "ipython",
    "version": 3
   },
   "file_extension": ".py",
   "mimetype": "text/x-python",
   "name": "python",
   "nbconvert_exporter": "python",
   "pygments_lexer": "ipython3",
   "version": "3.7.1"
  }
 },
 "nbformat": 4,
 "nbformat_minor": 2
}
