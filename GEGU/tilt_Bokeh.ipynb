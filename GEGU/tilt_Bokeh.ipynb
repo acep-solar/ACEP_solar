{
 "cells": [
  {
   "cell_type": "code",
   "execution_count": 26,
   "metadata": {},
   "outputs": [],
   "source": [
    "import pandas as pd\n",
    "import numpy as np\n",
    "import requests\n",
    "from the_needed_function import loss_tilt"
   ]
  },
  {
   "cell_type": "code",
   "execution_count": 27,
   "metadata": {},
   "outputs": [],
   "source": [
    "nrel_long_tilt = []\n",
    "tilts = [5, 10, 15, 20, 25, 30, 35, 40, 45, 50, 55, 60, 65, 70, 75, 80, 85, 90]\n",
    "for i in range(len(tilts)):\n",
    "    list_parameters = {\"formt\": 'JSON', \"api_key\": \"spJFj2l5ghY5jwk7dNfVYs3JHbpR6BOGHQNO8Y9Z\", \"system_capacity\": 4, \"module_type\": 0, \"losses\": 14.08,\n",
    "              \"array_type\": 0, \"tilt\": tilts[i], \"azimuth\": 180, \"lat\": 64.82, \"lon\": -147.87, \"dataset\": 'tmy2'}\n",
    "    json_response = requests.get(\"https://developer.nrel.gov/api/pvwatts/v6\", params = list_parameters).json()\n",
    "    new_dataframe = pd.DataFrame(data = json_response['outputs'])\n",
    "    nrel_long_tilt.append(new_dataframe)"
   ]
  },
  {
   "cell_type": "code",
   "execution_count": 47,
   "metadata": {},
   "outputs": [],
   "source": [
    "ac_monthly_all=[]\n",
    "for i in range(len(nrel_long_tilt)):\n",
    "    for j in range(12):\n",
    "        ac_monthly_all.append(nrel_long_tilt[i]['ac_monthly'][j])\n",
    "        \n",
    "month = [1,2,3,4,5,6,7,8,9,10,11,12]*18\n",
    "\n",
    "n=12\n",
    "tilt_new = [item for item in tilts for i in range(n)]\n",
    "\n",
    "df = pd.DataFrame({'month':month,'ac_monthly':ac_monthly_all,'tilt':tilt_new})"
   ]
  },
  {
   "cell_type": "code",
   "execution_count": 33,
   "metadata": {},
   "outputs": [],
   "source": [
    "import pandas as pd\n",
    "import numpy as np\n",
    "from bokeh.models import ColumnDataSource, CategoricalColorMapper, HoverTool\n",
    "from bokeh.plotting import figure, curdoc\n",
    "from bokeh.palettes import viridis\n",
    "from bokeh.layouts import row, widgetbox\n",
    "from bokeh.models.widgets import Select, Slider\n",
    "from bokeh.layouts import row, column\n",
    "from bokeh.models import CustomJS, Slider\n",
    "from bokeh.plotting import figure, output_file, show, ColumnDataSource"
   ]
  },
  {
   "cell_type": "code",
   "execution_count": 71,
   "metadata": {},
   "outputs": [],
   "source": [
    "df_default = df[df['tilt']==90]\n",
    "\n",
    "source = ColumnDataSource({\n",
    "    'x': df_default.month.tolist(), \n",
    "    'y': df_default.ac_monthly.tolist(), \n",
    "})\n",
    "\n",
    "plot = figure(plot_width=400, plot_height=400)\n",
    "\n",
    "plot.line(x='x', y='y', source=source, line_width=3, line_alpha=0.6)\n",
    "\n",
    "callback = CustomJS(args=dict(source=source), code=\"\"\"\n",
    "    var data = source.data;\n",
    "    var tilt = slider.value;\n",
    "    var x = data['x']\n",
    "    var y = data['y']\n",
    "    'x'        = df[df['tilt']==tilt].month.tolist();\n",
    "    'y'        = df[df['tilt']==tilt].ac_monthly;\n",
    "    plot.line(x='x', y='y', source=source, line_width=3, line_alpha=0.6, \n",
    "         );\n",
    "    source.change.emit();\n",
    "\"\"\")\n",
    "    \n",
    "slider = Slider(start=5, end=90, step=5, value=5, title='tilt')\n",
    "slider.js_on_change( 'value', callback)\n",
    "\n",
    "layout = row(\n",
    "    plot,\n",
    "    column(slider)\n",
    ")\n",
    "\n",
    "output_file(\"slider.html\", title=\"slider.py example\")\n",
    "\n",
    "show(layout)"
   ]
  },
  {
   "cell_type": "code",
   "execution_count": 64,
   "metadata": {},
   "outputs": [],
   "source": [
    "slider.js_on_change?"
   ]
  },
  {
   "cell_type": "code",
   "execution_count": 69,
   "metadata": {},
   "outputs": [
    {
     "ename": "TypeError",
     "evalue": "'Series' object is not callable",
     "output_type": "error",
     "traceback": [
      "\u001b[0;31m---------------------------------------------------------------------------\u001b[0m",
      "\u001b[0;31mTypeError\u001b[0m                                 Traceback (most recent call last)",
      "\u001b[0;32m<ipython-input-69-2fd2abd48d73>\u001b[0m in \u001b[0;36m<module>\u001b[0;34m\u001b[0m\n\u001b[0;32m----> 1\u001b[0;31m \u001b[0ma\u001b[0m\u001b[0;34m=\u001b[0m\u001b[0mdf\u001b[0m\u001b[0;34m[\u001b[0m\u001b[0mdf\u001b[0m\u001b[0;34m[\u001b[0m\u001b[0;34m'tilt'\u001b[0m\u001b[0;34m]\u001b[0m\u001b[0;34m==\u001b[0m\u001b[0;36m10\u001b[0m\u001b[0;34m]\u001b[0m\u001b[0;34m.\u001b[0m\u001b[0mmonth\u001b[0m\u001b[0;34m(\u001b[0m\u001b[0;34m)\u001b[0m\u001b[0;34m\u001b[0m\u001b[0;34m\u001b[0m\u001b[0m\n\u001b[0m",
      "\u001b[0;31mTypeError\u001b[0m: 'Series' object is not callable"
     ]
    }
   ],
   "source": [
    "a=df[df['tilt']==10].month.tolist"
   ]
  },
  {
   "cell_type": "code",
   "execution_count": 68,
   "metadata": {},
   "outputs": [
    {
     "data": {
      "text/plain": [
       "12     1\n",
       "13     2\n",
       "14     3\n",
       "15     4\n",
       "16     5\n",
       "17     6\n",
       "18     7\n",
       "19     8\n",
       "20     9\n",
       "21    10\n",
       "22    11\n",
       "23    12\n",
       "Name: month, dtype: int64"
      ]
     },
     "execution_count": 68,
     "metadata": {},
     "output_type": "execute_result"
    }
   ],
   "source": []
  },
  {
   "cell_type": "code",
   "execution_count": 28,
   "metadata": {},
   "outputs": [],
   "source": [
    "nrel_long_tilt = []\n",
    "tilts = [5, 10, 15, 20, 25, 30, 35, 40, 45, 50, 55, 60, 65, 70, 75, 80, 85, 90]\n",
    "for i in range(len(tilts)):\n",
    "    list_parameters = {\"formt\": 'JSON', \"api_key\": \"spJFj2l5ghY5jwk7dNfVYs3JHbpR6BOGHQNO8Y9Z\", \"system_capacity\": 4, \"module_type\": 0, \"losses\": 14.08,\n",
    "              \"array_type\": 0, \"tilt\": tilts[i], \"azimuth\": 180, \"lat\": 64.82, \"lon\": -147.87, \"dataset\": 'tmy2'}\n",
    "    json_response = requests.get(\"https://developer.nrel.gov/api/pvwatts/v6\", params = list_parameters).json()\n",
    "    new_dataframe = pd.DataFrame(data = json_response['outputs'])\n",
    "    nrel_long_tilt.append(new_dataframe)"
   ]
  },
  {
   "cell_type": "code",
   "execution_count": 29,
   "metadata": {},
   "outputs": [],
   "source": [
    "annual_production = []\n",
    "for i in range(len(tilts)):\n",
    "    annual_production.append(nrel_long_tilt[i]['ac_annual'][2])"
   ]
  },
  {
   "cell_type": "code",
   "execution_count": 31,
   "metadata": {},
   "outputs": [],
   "source": [
    "def loss_tilt(tilts,nrel_long_tilt):\n",
    "    \"\"\"The function is to create a dataframe that contain the loss of the tilt\n",
    "    \n",
    "    Args:\n",
    "         tilts(list): The list of tilts used before to get the Prediction\n",
    "         annual_production(list):The list of the Prediction\n",
    "         ***need to make sure that the length of two lists should be the same***\n",
    "         \n",
    "    Returns: A dataframe\n",
    "    \n",
    "    \"\"\"\n",
    "    annual_production = []\n",
    "    for i in range(len(tilts)):\n",
    "        annual_production.append(nrel_long_tilt[i]['ac_annual'][2])\n",
    "        \n",
    "    d = {'Tilts':tilts,'Annual_production':annual_production}# Create a dictionary containg the two list\n",
    "    df = pd.DataFrame(d)# create a dataframe\n",
    "    \n",
    "    max_tilt = int(df[['Annual_production']].idxmax().values)#get the index of the max Annual production\n",
    "    \n",
    "    lose = [] # an empty list\n",
    "    for index, row in df.iterrows(): # Calculate the loss of adjusting the tilt \n",
    "        tilt_loss = (1-row['Annual_production']/df['Annual_production'][max_tilt])\n",
    "        loss_percentage = \"{0:.2%}\".format(tilt_loss)\n",
    "        lose.append(loss_percentage)\n",
    "        \n",
    "    df['loss']=lose # put into the dataframe\n",
    "    return(df)"
   ]
  },
  {
   "cell_type": "code",
   "execution_count": 32,
   "metadata": {},
   "outputs": [],
   "source": [
    "df=loss_tilt(tilts,nrel_long_tilt)"
   ]
  },
  {
   "cell_type": "code",
   "execution_count": 34,
   "metadata": {},
   "outputs": [],
   "source": [
    "from bokeh.plotting import figure, output_file, show\n",
    "\n",
    "output_file(\"tilts_annual.html\")\n",
    "\n",
    "p = figure(plot_width=400, plot_height=400)\n",
    "\n",
    "# add a line renderer\n",
    "p.line(df['Tilts'], df['Annual_production'], line_width=2)\n",
    "p.xticks.\n",
    "\n",
    "show(p)"
   ]
  },
  {
   "cell_type": "code",
   "execution_count": 39,
   "metadata": {},
   "outputs": [
    {
     "ename": "NameError",
     "evalue": "name 'fig' is not defined",
     "output_type": "error",
     "traceback": [
      "\u001b[0;31m---------------------------------------------------------------------------\u001b[0m",
      "\u001b[0;31mNameError\u001b[0m                                 Traceback (most recent call last)",
      "\u001b[0;32m<ipython-input-39-4ad8e95ef728>\u001b[0m in \u001b[0;36m<module>\u001b[0;34m\u001b[0m\n\u001b[1;32m      3\u001b[0m \u001b[0;32mfrom\u001b[0m \u001b[0mbokeh\u001b[0m\u001b[0;34m.\u001b[0m\u001b[0mmodels\u001b[0m \u001b[0;32mimport\u001b[0m \u001b[0mNumeralTickFormatter\u001b[0m\u001b[0;34m\u001b[0m\u001b[0;34m\u001b[0m\u001b[0m\n\u001b[1;32m      4\u001b[0m \u001b[0;34m\u001b[0m\u001b[0m\n\u001b[0;32m----> 5\u001b[0;31m \u001b[0mfig\u001b[0m\u001b[0;34m.\u001b[0m\u001b[0mxaxis\u001b[0m\u001b[0;34m.\u001b[0m\u001b[0mformatter\u001b[0m \u001b[0;34m=\u001b[0m \u001b[0mNumeralTickFormatter\u001b[0m\u001b[0;34m(\u001b[0m\u001b[0mformat\u001b[0m\u001b[0;34m=\u001b[0m\u001b[0;34m'0 %'\u001b[0m\u001b[0;34m)\u001b[0m\u001b[0;34m\u001b[0m\u001b[0;34m\u001b[0m\u001b[0m\n\u001b[0m\u001b[1;32m      6\u001b[0m \u001b[0;34m\u001b[0m\u001b[0m\n\u001b[1;32m      7\u001b[0m \u001b[0mp\u001b[0m \u001b[0;34m=\u001b[0m \u001b[0mfigure\u001b[0m\u001b[0;34m(\u001b[0m\u001b[0mplot_width\u001b[0m\u001b[0;34m=\u001b[0m\u001b[0;36m400\u001b[0m\u001b[0;34m,\u001b[0m \u001b[0mplot_height\u001b[0m\u001b[0;34m=\u001b[0m\u001b[0;36m400\u001b[0m\u001b[0;34m)\u001b[0m\u001b[0;34m\u001b[0m\u001b[0;34m\u001b[0m\u001b[0m\n",
      "\u001b[0;31mNameError\u001b[0m: name 'fig' is not defined"
     ]
    }
   ],
   "source": []
  },
  {
   "cell_type": "code",
   "execution_count": 38,
   "metadata": {},
   "outputs": [
    {
     "data": {
      "text/plain": [
       "0      5\n",
       "1     10\n",
       "2     15\n",
       "3     20\n",
       "4     25\n",
       "5     30\n",
       "6     35\n",
       "7     40\n",
       "8     45\n",
       "9     50\n",
       "10    55\n",
       "11    60\n",
       "12    65\n",
       "13    70\n",
       "14    75\n",
       "15    80\n",
       "16    85\n",
       "17    90\n",
       "Name: Tilts, dtype: int64"
      ]
     },
     "execution_count": 38,
     "metadata": {},
     "output_type": "execute_result"
    }
   ],
   "source": [
    "df['Tilts']"
   ]
  },
  {
   "cell_type": "code",
   "execution_count": null,
   "metadata": {},
   "outputs": [],
   "source": []
  }
 ],
 "metadata": {
  "kernelspec": {
   "display_name": "Python 3",
   "language": "python",
   "name": "python3"
  },
  "language_info": {
   "codemirror_mode": {
    "name": "ipython",
    "version": 3
   },
   "file_extension": ".py",
   "mimetype": "text/x-python",
   "name": "python",
   "nbconvert_exporter": "python",
   "pygments_lexer": "ipython3",
   "version": "3.7.1"
  }
 },
 "nbformat": 4,
 "nbformat_minor": 2
}
