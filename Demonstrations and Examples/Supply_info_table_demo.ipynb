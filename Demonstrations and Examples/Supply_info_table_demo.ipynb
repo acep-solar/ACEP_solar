{
 "cells": [
  {
   "cell_type": "markdown",
   "metadata": {},
   "source": [
    "# Generate HTML of  table for each location"
   ]
  },
  {
   "cell_type": "markdown",
   "metadata": {},
   "source": [
    "Import function named supplyinfo in ARCTIC folder"
   ]
  },
  {
   "cell_type": "code",
   "execution_count": 1,
   "metadata": {},
   "outputs": [],
   "source": [
    "from ARCTIC import supplyinfo"
   ]
  },
  {
   "cell_type": "markdown",
   "metadata": {},
   "source": [
    "Import this function to show HTML in easy way"
   ]
  },
  {
   "cell_type": "code",
   "execution_count": 2,
   "metadata": {},
   "outputs": [],
   "source": [
    "from IPython.core.display import display, HTML"
   ]
  },
  {
   "cell_type": "markdown",
   "metadata": {},
   "source": [
    "Run the function named table. You need to input the name of data file, the name of location, latitude and longitude. Please typein the file name without suffix name. The function useage is `table(file_name,location_name, latitude, longitude)`."
   ]
  },
  {
   "cell_type": "markdown",
   "metadata": {},
   "source": [
    "Take Anchorage for example. The file_name is `\"solar_panel_data_alaska\"`. Locarion_name is `\"Anchorage\"`. The coordiante is `61.193625,-149.694974`.Then you can save the html result in `t`."
   ]
  },
  {
   "cell_type": "code",
   "execution_count": 3,
   "metadata": {},
   "outputs": [],
   "source": [
    "t = supplyinfo.table(\"solar_panel_data_alaska\",'Anchorage',61.193625,-149.694974)"
   ]
  },
  {
   "cell_type": "code",
   "execution_count": 4,
   "metadata": {},
   "outputs": [
    {
     "data": {
      "text/plain": [
       "'<table border=\"1\" class=\"dataframe\">  <thead>    <tr style=\"text-align: center;\">      <th>Parameter</th>      <th>Value</th>    </tr>  </thead>  <tbody>    <tr>      <td>Location</td>      <td>Anchorage</td>    </tr>    <tr>      <td>The Number of Installation</td>      <td>28</td>    </tr>    <tr>      <td>Average DC Capacity(kW)</td>      <td>6.29929</td>    </tr>    <tr>      <td>Normalized Average Annual Production(kWh)</td>      <td>664.294</td>    </tr>    <tr>      <td>TMY2 Annual Production(kWh)</td>      <td>923.263</td>    </tr>    <tr>      <td>TMY3 Annual Production(kWh)</td>      <td>947.962</td>    </tr>  </tbody></table>'"
      ]
     },
     "execution_count": 4,
     "metadata": {},
     "output_type": "execute_result"
    }
   ],
   "source": [
    "t"
   ]
  },
  {
   "cell_type": "markdown",
   "metadata": {},
   "source": [
    "You can use HTML() function to show it in a user-friendly way."
   ]
  },
  {
   "cell_type": "code",
   "execution_count": 5,
   "metadata": {},
   "outputs": [
    {
     "data": {
      "text/html": [
       "<table border=\"1\" class=\"dataframe\">  <thead>    <tr style=\"text-align: center;\">      <th>Parameter</th>      <th>Value</th>    </tr>  </thead>  <tbody>    <tr>      <td>Location</td>      <td>Anchorage</td>    </tr>    <tr>      <td>The Number of Installation</td>      <td>28</td>    </tr>    <tr>      <td>Average DC Capacity(kW)</td>      <td>6.29929</td>    </tr>    <tr>      <td>Normalized Average Annual Production(kWh)</td>      <td>664.294</td>    </tr>    <tr>      <td>TMY2 Annual Production(kWh)</td>      <td>923.263</td>    </tr>    <tr>      <td>TMY3 Annual Production(kWh)</td>      <td>947.962</td>    </tr>  </tbody></table>"
      ],
      "text/plain": [
       "<IPython.core.display.HTML object>"
      ]
     },
     "execution_count": 5,
     "metadata": {},
     "output_type": "execute_result"
    }
   ],
   "source": [
    "HTML(t)"
   ]
  },
  {
   "cell_type": "code",
   "execution_count": null,
   "metadata": {},
   "outputs": [],
   "source": []
  }
 ],
 "metadata": {
  "kernelspec": {
   "display_name": "Python 3",
   "language": "python",
   "name": "python3"
  },
  "language_info": {
   "codemirror_mode": {
    "name": "ipython",
    "version": 3
   },
   "file_extension": ".py",
   "mimetype": "text/x-python",
   "name": "python",
   "nbconvert_exporter": "python",
   "pygments_lexer": "ipython3",
   "version": "3.6.8"
  }
 },
 "nbformat": 4,
 "nbformat_minor": 2
}
