{
 "cells": [
  {
   "cell_type": "markdown",
   "metadata": {},
   "source": [
    "This notebook will be used to develop tests and functions for making calls to the PVWatts API."
   ]
  },
  {
   "cell_type": "code",
   "execution_count": 1,
   "metadata": {},
   "outputs": [],
   "source": [
    "import requests\n",
    "import json\n",
    "import pandas as pd\n",
    "import numpy as np"
   ]
  },
  {
   "cell_type": "code",
   "execution_count": 2,
   "metadata": {},
   "outputs": [],
   "source": [
    "#import pvwatts_interface\n",
    "def test_call_pvwatts():\n",
    "    \"\"\"This is a function to test the functionality of the call_pvwatts function\"\"\"\n",
    "    #Test to be sure the function returns a dataframe. \n",
    "    #Test to make sure that the call always has the right number of columns, and that the columns contain labels \n",
    "    #that correspond to column titles we expect.\n",
    "    \n",
    "    #try calling pvwatts without a lattitude and logitude, and making sure the status code returned is 400\n",
    "    \n",
    "    #assert response.status_code == 200, \"The data is not being returned from PVWatts correctly\"\n",
    "    #\n",
    "    return "
   ]
  },
  {
   "cell_type": "code",
   "execution_count": 19,
   "metadata": {},
   "outputs": [],
   "source": [
    "def check_all_datasets(latitude, longitude, tilt, azimuth = 180):\n",
    "    \"\"\"This function checks all solar resource datasets, and generates a dataframe for each dataset.\n",
    "    Returned parameters are collected and returned in a dictionary. The dictionary\n",
    "    has keys that are the names of the solar resource datasets that actually returned data,\n",
    "    and values that are the outputs from PVWatts (ie, the production predictions)\"\"\"\n",
    "    #List of all of the available solar resource datasets from the PVWatts website.\n",
    "    dataset_list = ['tmy2', 'tmy3', 'nsrdb', 'intl']\n",
    "    solar_resource_dict = {}\n",
    "    #Walk through the list, and check what is available at the lat and long provided.\n",
    "    for counter, value in enumerate(dataset_list):\n",
    "        #Call PVWatts API, and get response for specific tilt angle.\n",
    "        parameters = {\"format\": 'JSON', \"api_key\": \"2FGNWhrV7X5olr1eVu34xpySQLDytnRKKQtSOeI8\", \"system_capacity\": 4, \n",
    "                      \"module_type\": 0, \"losses\": 14.08, \"array_type\": 0, \"tilt\": tilt, \"azimuth\": azimuth, \n",
    "                      \"lat\": latitude, \"lon\": longitude, \"dataset\": dataset_list[counter]}\n",
    "        pvwatts_response = requests.get(\"https://developer.nrel.gov/api/pvwatts/v6\", params = parameters)\n",
    "        #Check the response from pvwatts to ensure that data was actually received\n",
    "        #assert pvwatts_response.status_code == 200, \"Error: \" + str(pvwatts_response.status_code)\n",
    "        #Convert the requests response into json\n",
    "        pvwatts_response_json = pvwatts_response.json()\n",
    "        #The response gives an empty list in the errors parameter if it was able to find the data.\n",
    "        if pvwatts_response_json['errors'] == []:\n",
    "            solar_resource_dict[str(dataset_list[counter])] = pvwatts_response_json['outputs']\n",
    "            print(\"Added response data from: \" + str(dataset_list[counter]) + \" solar resource data.\")\n",
    "        else:\n",
    "            print(\"The solar resource data from dataset \" + str(dataset_list[counter]) + \n",
    "                  \" at that location is not available.\")\n",
    "            print(\"We'll try again with other solar resource datasets!\")\n",
    "    print(\"We found prediction data from these solar resource datasets: \" )\n",
    "    print(solar_resource_dict.keys())\n",
    "    return solar_resource_dict"
   ]
  },
  {
   "cell_type": "code",
   "execution_count": 20,
   "metadata": {},
   "outputs": [
    {
     "name": "stdout",
     "output_type": "stream",
     "text": [
      "Added response data from: tmy2 solar resource data.\n",
      "Added response data from: tmy3 solar resource data.\n",
      "The solar resource data from dataset nsrdb at that location is not available.\n",
      "We'll try again with other solar resource datasets!\n",
      "The solar resource data from dataset intl at that location is not available.\n",
      "We'll try again with other solar resource datasets!\n",
      "We found prediction data from these solar resource datasets: \n",
      "dict_keys(['tmy2', 'tmy3'])\n"
     ]
    },
    {
     "data": {
      "text/plain": [
       "{'tmy2': {'ac_monthly': [75.29331970214844,\n",
       "   212.30104064941406,\n",
       "   450.2816467285156,\n",
       "   572.53564453125,\n",
       "   555.1434936523438,\n",
       "   542.8285522460938,\n",
       "   532.1309814453125,\n",
       "   449.814697265625,\n",
       "   330.38067626953125,\n",
       "   217.23141479492188,\n",
       "   105.97759246826172,\n",
       "   37.46936798095703],\n",
       "  'poa_monthly': [19.79026222229004,\n",
       "   57.29265594482422,\n",
       "   127.40550994873047,\n",
       "   168.2696075439453,\n",
       "   173.01815795898438,\n",
       "   172.3505096435547,\n",
       "   171.27613830566406,\n",
       "   141.96417236328125,\n",
       "   101.07383728027344,\n",
       "   62.22165298461914,\n",
       "   28.594524383544922,\n",
       "   9.974127769470215],\n",
       "  'solrad_monthly': [0.6383955478668213,\n",
       "   2.046166181564331,\n",
       "   4.1098551750183105,\n",
       "   5.608986854553223,\n",
       "   5.581231117248535,\n",
       "   5.745017051696777,\n",
       "   5.525036811828613,\n",
       "   4.579489231109619,\n",
       "   3.3691279888153076,\n",
       "   2.007150173187256,\n",
       "   0.9531508088111877,\n",
       "   0.3217460513114929],\n",
       "  'dc_monthly': [80.57490539550781,\n",
       "   222.8466339111328,\n",
       "   471.1372375488281,\n",
       "   600.56298828125,\n",
       "   582.278076171875,\n",
       "   570.2353515625,\n",
       "   558.8668212890625,\n",
       "   472.423583984375,\n",
       "   347.2431335449219,\n",
       "   229.2576446533203,\n",
       "   112.5851058959961,\n",
       "   40.926231384277344],\n",
       "  'ac_annual': 4081.388427734375,\n",
       "  'solrad_annual': 3.373779535293579,\n",
       "  'capacity_factor': 11.647798538208008},\n",
       " 'tmy3': {'ac_monthly': [62.9139404296875,\n",
       "   200.2245330810547,\n",
       "   432.4879150390625,\n",
       "   602.9970092773438,\n",
       "   589.9483032226562,\n",
       "   548.9074096679688,\n",
       "   521.2920532226562,\n",
       "   471.678466796875,\n",
       "   324.18096923828125,\n",
       "   217.62522888183594,\n",
       "   103.05846405029297,\n",
       "   15.657976150512695],\n",
       "  'poa_monthly': [16.747285842895508,\n",
       "   54.60322189331055,\n",
       "   124.02949523925781,\n",
       "   182.67860412597656,\n",
       "   184.71090698242188,\n",
       "   174.8232879638672,\n",
       "   167.80393981933594,\n",
       "   150.10162353515625,\n",
       "   98.84174346923828,\n",
       "   62.02627944946289,\n",
       "   27.795452117919922,\n",
       "   4.339876174926758],\n",
       "  'solrad_monthly': [0.5402350425720215,\n",
       "   1.9501150846481323,\n",
       "   4.000951290130615,\n",
       "   6.089286804199219,\n",
       "   5.95841646194458,\n",
       "   5.8274431228637695,\n",
       "   5.41303014755249,\n",
       "   4.8419880867004395,\n",
       "   3.294724702835083,\n",
       "   2.000847816467285,\n",
       "   0.9265150427818298,\n",
       "   0.1399960070848465],\n",
       "  'dc_monthly': [67.3192367553711,\n",
       "   209.9640350341797,\n",
       "   452.6528015136719,\n",
       "   630.4013671875,\n",
       "   618.0028076171875,\n",
       "   576.36474609375,\n",
       "   547.5107421875,\n",
       "   494.68634033203125,\n",
       "   340.5199279785156,\n",
       "   229.0650177001953,\n",
       "   109.37994384765625,\n",
       "   17.979209899902344],\n",
       "  'ac_annual': 4090.97265625,\n",
       "  'solrad_annual': 3.4152956008911133,\n",
       "  'capacity_factor': 11.675150871276855}}"
      ]
     },
     "execution_count": 20,
     "metadata": {},
     "output_type": "execute_result"
    }
   ],
   "source": [
    "check_all_datasets(64.825257, -147.619578, 45)"
   ]
  },
  {
   "cell_type": "code",
   "execution_count": 27,
   "metadata": {},
   "outputs": [],
   "source": [
    "def call_pvwatts(latitude, longitude, tilt, dataset, azimuth = 180):\n",
    "    \"\"\"This function calls the PVWatts API from NREL, and returns a dataframe of \n",
    "    expected power production from a cell with given position and tilt\"\"\"\n",
    "    if not isinstance(latitude, (int, float)):\n",
    "        raise TypeError(\"Passed latitude is not a number! Instead, it is: \" + str(type(Testing_DataFrame)))\n",
    "        \n",
    "    #Call PVWatts API, and get response for specific tilt angle.\n",
    "    parameters = {\"format\": 'JSON', \"api_key\": \"2FGNWhrV7X5olr1eVu34xpySQLDytnRKKQtSOeI8\", \"system_capacity\": 4, \n",
    "                  \"module_type\": 0, \"losses\": 14.08, \"array_type\": 0, \"tilt\": tilt, \"azimuth\": azimuth, \n",
    "                  \"lat\": latitude, \"lon\": longitude, \"dataset\": dataset}\n",
    "    pvwatts_response = requests.get(\"https://developer.nrel.gov/api/pvwatts/v6\", params = parameters)\n",
    "    \n",
    "    #Check the response from pvwatts to ensure that data was actually received\n",
    "    assert pvwatts_response.status_code == 200, \"Error: \" + str(pvwatts_reponse.status_code)\n",
    "    \n",
    "    #Now we convert the response into a json format - \n",
    "    pvwatts_response_json = pvwatts_response.json()\n",
    "    \n",
    "    #Need a quick check to make sure that there was not a problem in the way PVWatts was called\n",
    "    #If PVWatts detects an error, it throw it here. \n",
    "    if pvwatts_response_json['errors'] != []:\n",
    "        print(\"An error occured when calling PVWatts. The error was: \")\n",
    "        print(pvwatts_response_json['errors'])\n",
    "        print(\"Please correct the error and call this function again.\")\n",
    "        raise ResponseError(\"Please correct the error and call the `call_pvwatts` function again\")\n",
    "    \n",
    "    #Load the response to a dataframe\n",
    "    dataframe = pd.DataFrame(pvwatts_response_json['outputs'])\n",
    "    \n",
    "    return pvwatts_response_json, dataframe"
   ]
  },
  {
   "cell_type": "code",
   "execution_count": 28,
   "metadata": {},
   "outputs": [
    {
     "data": {
      "text/plain": [
       "({'inputs': {'format': 'JSON',\n",
       "   'system_capacity': '4',\n",
       "   'module_type': '0',\n",
       "   'losses': '14.08',\n",
       "   'array_type': '0',\n",
       "   'tilt': '45',\n",
       "   'azimuth': '180',\n",
       "   'lat': '64.825257',\n",
       "   'lon': '-147.619578',\n",
       "   'dataset': 'tmy3'},\n",
       "  'errors': [],\n",
       "  'warnings': [],\n",
       "  'version': '1.0.1',\n",
       "  'ssc_info': {'version': 45,\n",
       "   'build': 'Linux 64 bit GNU/C++ Jul  7 2015 14:24:09'},\n",
       "  'station_info': {'lat': 64.81700134277344,\n",
       "   'lon': -147.85000610351562,\n",
       "   'elev': 133.0,\n",
       "   'tz': -9.0,\n",
       "   'location': '702610',\n",
       "   'city': '\"FAIRBANKS INTL ARPT\"',\n",
       "   'state': 'AK',\n",
       "   'solar_resource_file': '702610.csv',\n",
       "   'distance': 13133},\n",
       "  'outputs': {'ac_monthly': [62.9139404296875,\n",
       "    200.2245330810547,\n",
       "    432.4879150390625,\n",
       "    602.9970092773438,\n",
       "    589.9483032226562,\n",
       "    548.9074096679688,\n",
       "    521.2920532226562,\n",
       "    471.678466796875,\n",
       "    324.18096923828125,\n",
       "    217.62522888183594,\n",
       "    103.05846405029297,\n",
       "    15.657976150512695],\n",
       "   'poa_monthly': [16.747285842895508,\n",
       "    54.60322189331055,\n",
       "    124.02949523925781,\n",
       "    182.67860412597656,\n",
       "    184.71090698242188,\n",
       "    174.8232879638672,\n",
       "    167.80393981933594,\n",
       "    150.10162353515625,\n",
       "    98.84174346923828,\n",
       "    62.02627944946289,\n",
       "    27.795452117919922,\n",
       "    4.339876174926758],\n",
       "   'solrad_monthly': [0.5402350425720215,\n",
       "    1.9501150846481323,\n",
       "    4.000951290130615,\n",
       "    6.089286804199219,\n",
       "    5.95841646194458,\n",
       "    5.8274431228637695,\n",
       "    5.41303014755249,\n",
       "    4.8419880867004395,\n",
       "    3.294724702835083,\n",
       "    2.000847816467285,\n",
       "    0.9265150427818298,\n",
       "    0.1399960070848465],\n",
       "   'dc_monthly': [67.3192367553711,\n",
       "    209.9640350341797,\n",
       "    452.6528015136719,\n",
       "    630.4013671875,\n",
       "    618.0028076171875,\n",
       "    576.36474609375,\n",
       "    547.5107421875,\n",
       "    494.68634033203125,\n",
       "    340.5199279785156,\n",
       "    229.0650177001953,\n",
       "    109.37994384765625,\n",
       "    17.979209899902344],\n",
       "   'ac_annual': 4090.97265625,\n",
       "   'solrad_annual': 3.4152956008911133,\n",
       "   'capacity_factor': 11.675150871276855}},\n",
       "     ac_monthly  poa_monthly  solrad_monthly  dc_monthly    ac_annual  \\\n",
       " 0    62.913940    16.747286        0.540235   67.319237  4090.972656   \n",
       " 1   200.224533    54.603222        1.950115  209.964035  4090.972656   \n",
       " 2   432.487915   124.029495        4.000951  452.652802  4090.972656   \n",
       " 3   602.997009   182.678604        6.089287  630.401367  4090.972656   \n",
       " 4   589.948303   184.710907        5.958416  618.002808  4090.972656   \n",
       " 5   548.907410   174.823288        5.827443  576.364746  4090.972656   \n",
       " 6   521.292053   167.803940        5.413030  547.510742  4090.972656   \n",
       " 7   471.678467   150.101624        4.841988  494.686340  4090.972656   \n",
       " 8   324.180969    98.841743        3.294725  340.519928  4090.972656   \n",
       " 9   217.625229    62.026279        2.000848  229.065018  4090.972656   \n",
       " 10  103.058464    27.795452        0.926515  109.379944  4090.972656   \n",
       " 11   15.657976     4.339876        0.139996   17.979210  4090.972656   \n",
       " \n",
       "     solrad_annual  capacity_factor  \n",
       " 0        3.415296        11.675151  \n",
       " 1        3.415296        11.675151  \n",
       " 2        3.415296        11.675151  \n",
       " 3        3.415296        11.675151  \n",
       " 4        3.415296        11.675151  \n",
       " 5        3.415296        11.675151  \n",
       " 6        3.415296        11.675151  \n",
       " 7        3.415296        11.675151  \n",
       " 8        3.415296        11.675151  \n",
       " 9        3.415296        11.675151  \n",
       " 10       3.415296        11.675151  \n",
       " 11       3.415296        11.675151  )"
      ]
     },
     "execution_count": 28,
     "metadata": {},
     "output_type": "execute_result"
    }
   ],
   "source": [
    "call_pvwatts(64.825257, -147.619578, 45, 'tmy3')"
   ]
  },
  {
   "cell_type": "code",
   "execution_count": 4,
   "metadata": {},
   "outputs": [],
   "source": [
    "def test_pvwatts_wrapper():\n",
    "    return"
   ]
  },
  {
   "cell_type": "code",
   "execution_count": null,
   "metadata": {},
   "outputs": [],
   "source": [
    "def pvwatts_wrapper(latitude, longitude, tilt):\n",
    "    \n",
    "    #Write such that tilt can be an int or a list.\n",
    "    \n",
    "    #If tilt is passed as \"Best\", then we'll call the tilt optimizer and return optimal tilt and use that.\n"
   ]
  },
  {
   "cell_type": "markdown",
   "metadata": {},
   "source": [
    "### Maybe put together a set of functions that enable plotting of the various parameters of the pvwatts return parameters? \n",
    "I could see that there would be some interesting value to plotting solar resource over the course of the year, plotting the tilt vs. the output with both monthly and annual output, etc."
   ]
  },
  {
   "cell_type": "code",
   "execution_count": null,
   "metadata": {},
   "outputs": [],
   "source": [
    "def test_optimal_tilt_finder():\n",
    "    \n",
    "    "
   ]
  },
  {
   "cell_type": "code",
   "execution_count": null,
   "metadata": {},
   "outputs": [],
   "source": [
    "def optimal_tilt_finder(latitude, longitude):\n",
    "    \n",
    "    "
   ]
  },
  {
   "cell_type": "code",
   "execution_count": 15,
   "metadata": {},
   "outputs": [],
   "source": [
    "def test_plot_tilt_angle_annual():\n",
    "    \"\"\"This funtion tests the performance of the plot_tilt_angle_annual function to ensure proper output\"\"\"\n",
    "    #This function mostly checks the handling of the plot function to incorrect inputs.\n",
    "    \n",
    "    \n",
    "    return"
   ]
  },
  {
   "cell_type": "code",
   "execution_count": 12,
   "metadata": {},
   "outputs": [],
   "source": [
    "import matplotlib.pyplot as plt\n",
    "def plot_tilt_angle_annual(tilts, norm_annual_production_list):\n",
    "    \"\"\"This function takes tilt angles and an annual production list for a location and plots it\"\"\"\n",
    "    plt.plot(tilts, norm_annual_production_list)\n",
    "    plt.xlabel(\"Install Tilt Angle (Degrees)\")\n",
    "    plt.ylabel(\"Annual Energy Production (AC Ouput/DC Capacity)\")\n",
    "    plt.title(\"Annual Energy Generation vs Tilt\")\n",
    "    plt.show"
   ]
  },
  {
   "cell_type": "code",
   "execution_count": 13,
   "metadata": {},
   "outputs": [
    {
     "data": {
      "image/png": "[encoded data removed]",
      "text/plain": [
       "<Figure size 432x288 with 1 Axes>"
      ]
     },
     "metadata": {
      "needs_background": "light"
     },
     "output_type": "display_data"
    }
   ],
   "source": [
    "plot_tilt_angle_annual([20, 40], [200, 400])"
   ]
  },
  {
   "cell_type": "code",
   "execution_count": 17,
   "metadata": {},
   "outputs": [],
   "source": [
    "def test_plot_tilt_angle_monthly():\n",
    "    \"\"\"This function tests the operation of the plot_tilt_angle_monthly function\"\"\"\n",
    "    return"
   ]
  },
  {
   "cell_type": "code",
   "execution_count": 16,
   "metadata": {},
   "outputs": [],
   "source": [
    "def plot_tilt_angle_monthly(tilts, pvwatts_response_list):\n",
    "    \"\"\"This function takes in a list of pvwatts responses and a list of tilts and plots monthly\n",
    "    output of a panel with various tilts\"\"\"\n",
    "    #Error handling should have tilts as a list of ints or floats, and the response list as a list of dataframes.\n",
    "    #Also should check that the list of responses has as many elements as we have tilts.\n",
    "    \n",
    "    for i in range(len(tilts)):\n",
    "        plt.plot(pvwatts_response_list[i]['ac_monthly'], label = tilts[i])\n",
    "    plt.xlabel(\"Month\")\n",
    "    plt.ylabel(\"AC kWh Output\")\n",
    "    plt.title(\"Month and AC output with varying tilt angles from PVWatts\")\n",
    "    plt.legend()\n",
    "    plt.show"
   ]
  }
 ],
 "metadata": {
  "kernelspec": {
   "display_name": "Python 3",
   "language": "python",
   "name": "python3"
  },
  "language_info": {
   "codemirror_mode": {
    "name": "ipython",
    "version": 3
   },
   "file_extension": ".py",
   "mimetype": "text/x-python",
   "name": "python",
   "nbconvert_exporter": "python",
   "pygments_lexer": "ipython3",
   "version": "3.6.8"
  }
 },
 "nbformat": 4,
 "nbformat_minor": 2
}
