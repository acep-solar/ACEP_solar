{
 "cells": [
  {
   "cell_type": "markdown",
   "metadata": {},
   "source": [
    "This notebook will be used to develop tests and functions for making calls to the PVWatts API."
   ]
  },
  {
   "cell_type": "code",
   "execution_count": 2,
   "metadata": {},
   "outputs": [],
   "source": [
    "#import pvwatts_interface\n",
    "def test_call_pvwatts():\n",
    "    \"\"\"This is a function to test the functionality of the call_pvwatts function\"\"\"\n",
    "    #Test to be sure the function returns a dataframe. \n",
    "    #Test to make sure that the call always has the right number of columns, and that the columns contain labels \n",
    "    #that correspond to column titles we expect.\n",
    "    \n",
    "    #try calling pvwatts without a lattitude and logitude, and making sure the status code returned is 400\n",
    "    \n",
    "    #assert response.status_code == 200, \"The data is not being returned from PVWatts correctly\"\n",
    "    #\n",
    "    return "
   ]
  },
  {
   "cell_type": "code",
   "execution_count": 3,
   "metadata": {},
   "outputs": [],
   "source": [
    "def call_pvwatts(latitude, longitude, tilt, dataset, azimuth = 180):\n",
    "    \"\"\"This function calls the PVWatts API from NREL, and returns a dataframe of \n",
    "    expected power production from a cell with given position and tilt\"\"\"\n",
    "    #Write such that tilt is only an int/float.     \n",
    "    #NEED TO DOUBLE CHECK TO MAKE SURE THAT DATASET FOR SOLAR RESOURCE IS THE BEST ONE\n",
    "    if not isinstance(latitude, (int, float)):\n",
    "        raise TypeError(\"Passed latitude is not a number! Instead, it is: \" + str(type(Testing_DataFrame)))\n",
    "    else:\n",
    "        pass\n",
    "        \n",
    "    #Call PVWatts API, and get response for specific tilt angle.\n",
    "    parameters = {\"format\": 'JSON', \"api_key\": \"2FGNWhrV7X5olr1eVu34xpySQLDytnRKKQtSOeI8\", \"system_capacity\": 4, \n",
    "                  \"module_type\": 0, \"losses\": 14.08, \"array_type\": 0, \"tilt\": tilt, \"azimuth\": azimuth, \n",
    "                  \"lat\": latitude, \"lon\": longitude, \"dataset\": dataset}\n",
    "    pvwatts_response = requests.get(\"https://developer.nrel.gov/api/pvwatts/v6\", params = parameters).json()\n",
    "    \n",
    "    #Check the response from pvwatts to ensure that data was actually received\n",
    "    assert pvwatts_response.status_code == 200, \"Error: \" + str(pvwatts_reponse.status_code)\n",
    "    \n",
    "    #Need a quick check to make sure that there was not a problem due to the solar resource station\n",
    "    \n",
    "    \n",
    "    #Load the response to a dataframe\n",
    "    dataframe = pd.DataFrame(pvwatts_response['outputs'])\n",
    "    #Need some way to check whether or not the solar resource station is correct. I know it returns a specific\n",
    "    #response type to state if you have not gotten the solar resource data you wanted. Check for that. \n",
    "    #They want to see the response for all of the stations too. So, in order to implement our checkbox \n",
    "    #idea, we'll need to call all possible weather stations. Maybe then, we check each response and decide if we include.\n",
    "    #Gray out the checkboxes where we don't have the solar resource data for each. \n",
    "    #This means we'll hvae to calculate all of this and make all of these calls in advance of a user interacting,\n",
    "    #and store the data in something. Possibly HPF5? \n",
    "    \n",
    "    return dataframe"
   ]
  },
  {
   "cell_type": "code",
   "execution_count": null,
   "metadata": {},
   "outputs": [],
   "source": [
    "def lat_long_check(latitude, longitude):\n",
    "    \"\"\"This function allows users to input a latitude and longitude and receive info\n",
    "    relating to where that latitude and longitude is.\"\"\"\n",
    "    print(\"location is found \")\n",
    "    return"
   ]
  },
  {
   "cell_type": "code",
   "execution_count": 4,
   "metadata": {},
   "outputs": [],
   "source": [
    "def test_pvwatts_wrapper():\n",
    "    return"
   ]
  },
  {
   "cell_type": "code",
   "execution_count": null,
   "metadata": {},
   "outputs": [],
   "source": [
    "def pvwatts_wrapper(latitude, longitude, tilt):\n",
    "    \n",
    "    #Write such that tilt can be an int or a list.\n",
    "    \n",
    "    #If tilt is passed as \"Best\", then we'll call the tilt optimizer and return optimal tilt and use that.\n"
   ]
  },
  {
   "cell_type": "markdown",
   "metadata": {},
   "source": [
    "### Maybe put together a set of functions that enable plotting of the various parameters of the pvwatts return parameters? \n",
    "I could see that there would be some interesting value to plotting solar resource over the course of the year, plotting the tilt vs. the output with both monthly and annual output, etc."
   ]
  },
  {
   "cell_type": "code",
   "execution_count": null,
   "metadata": {},
   "outputs": [],
   "source": [
    "def test_optimal_tilt_finder():\n",
    "    \n",
    "    "
   ]
  },
  {
   "cell_type": "code",
   "execution_count": null,
   "metadata": {},
   "outputs": [],
   "source": [
    "def optimal_tilt_finder(latitude, longitude):\n",
    "    \n",
    "    "
   ]
  },
  {
   "cell_type": "code",
   "execution_count": 15,
   "metadata": {},
   "outputs": [],
   "source": [
    "def test_plot_tilt_angle_annual():\n",
    "    \"\"\"This funtion tests the performance of the plot_tilt_angle_annual function to ensure proper output\"\"\"\n",
    "    #This function mostly checks the handling of the plot function to incorrect inputs.\n",
    "    \n",
    "    \n",
    "    return"
   ]
  },
  {
   "cell_type": "code",
   "execution_count": 12,
   "metadata": {},
   "outputs": [],
   "source": [
    "import matplotlib.pyplot as plt\n",
    "def plot_tilt_angle_annual(tilts, norm_annual_production_list):\n",
    "    \"\"\"This function takes tilt angles and an annual production list for a location and plots it\"\"\"\n",
    "    plt.plot(tilts, norm_annual_production_list)\n",
    "    plt.xlabel(\"Install Tilt Angle (Degrees)\")\n",
    "    plt.ylabel(\"Annual Energy Production (AC Ouput/DC Capacity)\")\n",
    "    plt.title(\"Annual Energy Generation vs Tilt\")\n",
    "    plt.show"
   ]
  },
  {
   "cell_type": "code",
   "execution_count": 13,
   "metadata": {},
   "outputs": [
    {
     "data": {
      "image/png": "[encoded data removed]",
      "text/plain": [
       "<Figure size 432x288 with 1 Axes>"
      ]
     },
     "metadata": {
      "needs_background": "light"
     },
     "output_type": "display_data"
    }
   ],
   "source": [
    "plot_tilt_angle_annual([20, 40], [200, 400])"
   ]
  },
  {
   "cell_type": "code",
   "execution_count": 17,
   "metadata": {},
   "outputs": [],
   "source": [
    "def test_plot_tilt_angle_monthly():\n",
    "    \"\"\"This function tests the operation of the plot_tilt_angle_monthly function\"\"\"\n",
    "    return"
   ]
  },
  {
   "cell_type": "code",
   "execution_count": 16,
   "metadata": {},
   "outputs": [],
   "source": [
    "def plot_tilt_angle_monthly(tilts, pvwatts_response_list):\n",
    "    \"\"\"This function takes in a list of pvwatts responses and a list of tilts and plots monthly\n",
    "    output of a panel with various tilts\"\"\"\n",
    "    #Error handling should have tilts as a list of ints or floats, and the response list as a list of dataframes.\n",
    "    #Also should check that the list of responses has as many elements as we have tilts.\n",
    "    \n",
    "    for i in range(len(tilts)):\n",
    "        plt.plot(pvwatts_response_list[i]['ac_monthly'], label = tilts[i])\n",
    "    plt.xlabel(\"Month\")\n",
    "    plt.ylabel(\"AC kWh Output\")\n",
    "    plt.title(\"Month and AC output with varying tilt angles from PVWatts\")\n",
    "    plt.legend()\n",
    "    plt.show"
   ]
  },
  {
   "cell_type": "code",
   "execution_count": null,
   "metadata": {},
   "outputs": [],
   "source": []
  },
  {
   "cell_type": "code",
   "execution_count": null,
   "metadata": {},
   "outputs": [],
   "source": []
  },
  {
   "cell_type": "code",
   "execution_count": null,
   "metadata": {},
   "outputs": [],
   "source": []
  },
  {
   "cell_type": "code",
   "execution_count": null,
   "metadata": {},
   "outputs": [],
   "source": []
  }
 ],
 "metadata": {
  "kernelspec": {
   "display_name": "Python 3",
   "language": "python",
   "name": "python3"
  },
  "language_info": {
   "codemirror_mode": {
    "name": "ipython",
    "version": 3
   },
   "file_extension": ".py",
   "mimetype": "text/x-python",
   "name": "python",
   "nbconvert_exporter": "python",
   "pygments_lexer": "ipython3",
   "version": "3.6.8"
  }
 },
 "nbformat": 4,
 "nbformat_minor": 2
}
