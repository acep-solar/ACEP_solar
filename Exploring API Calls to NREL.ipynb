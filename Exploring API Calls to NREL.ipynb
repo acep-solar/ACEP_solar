{
 "cells": [
  {
   "cell_type": "markdown",
   "metadata": {},
   "source": [
    "To do this, we're going to start by following along with the tutorial found here: https://www.dataquest.io/blog/python-api-tutorial/\n",
    "in the hopes of getting a basic feel for calling APIs. After we get some idea of what we're doing, we'll move into actually working with the NREL API."
   ]
  },
  {
   "cell_type": "code",
   "execution_count": 1,
   "metadata": {},
   "outputs": [],
   "source": [
    "import requests"
   ]
  },
  {
   "cell_type": "code",
   "execution_count": 2,
   "metadata": {},
   "outputs": [
    {
     "name": "stdout",
     "output_type": "stream",
     "text": [
      "200\n"
     ]
    }
   ],
   "source": [
    "#First we'll work with the Open-Notify API to get a feel for working with requests, before we have to sign up with NREL.\n",
    "response = requests.get(\"http://api.open-notify.org/iss-now.json\")\n",
    "print(response.status_code)"
   ]
  },
  {
   "cell_type": "markdown",
   "metadata": {},
   "source": [
    "Ok, so 200 means that we got our data as expected. \n",
    "We can get other responses too."
   ]
  },
  {
   "cell_type": "code",
   "execution_count": 3,
   "metadata": {},
   "outputs": [
    {
     "name": "stdout",
     "output_type": "stream",
     "text": [
      "404\n"
     ]
    }
   ],
   "source": [
    "response = requests.get(\"http://api.open-notify.org/iss-pass\")\n",
    "print(response.status_code)"
   ]
  },
  {
   "cell_type": "markdown",
   "metadata": {},
   "source": [
    "By calling a bad url, we get 404, which means resource not found on the server."
   ]
  },
  {
   "cell_type": "code",
   "execution_count": 4,
   "metadata": {},
   "outputs": [
    {
     "name": "stdout",
     "output_type": "stream",
     "text": [
      "400\n"
     ]
    }
   ],
   "source": [
    "response = requests.get(\"http://api.open-notify.org/iss-pass.json\")\n",
    "print(response.status_code)"
   ]
  },
  {
   "cell_type": "markdown",
   "metadata": {},
   "source": [
    "We get 400 because we made a bad request. This particular request requires you to pass additional parameters, latitude and longitude. "
   ]
  },
  {
   "cell_type": "code",
   "execution_count": 5,
   "metadata": {},
   "outputs": [
    {
     "name": "stdout",
     "output_type": "stream",
     "text": [
      "b'{\\n  \"message\": \"success\", \\n  \"request\": {\\n    \"altitude\": 100, \\n    \"datetime\": 1556073369, \\n    \"latitude\": 40.71, \\n    \"longitude\": -74.0, \\n    \"passes\": 5\\n  }, \\n  \"response\": [\\n    {\\n      \"duration\": 487, \\n      \"risetime\": 1556099161\\n    }, \\n    {\\n      \"duration\": 646, \\n      \"risetime\": 1556104844\\n    }, \\n    {\\n      \"duration\": 599, \\n      \"risetime\": 1556110682\\n    }, \\n    {\\n      \"duration\": 550, \\n      \"risetime\": 1556116560\\n    }, \\n    {\\n      \"duration\": 604, \\n      \"risetime\": 1556122384\\n    }\\n  ]\\n}\\n'\n"
     ]
    }
   ],
   "source": [
    "#In order to add those parameters, we'll pass a dictionary to the requests package that contians those params.\n",
    "parameters = {\"lat\": 40.71, \"lon\": -74}\n",
    "response = requests.get(\"http://api.open-notify.org/iss-pass.json\", params = parameters)\n",
    "#To get the data that the request returned, we can specify .content\n",
    "print(response.content)"
   ]
  },
  {
   "cell_type": "markdown",
   "metadata": {},
   "source": [
    "Ok, so that above is obviously awful. We'll have to use JSON to format the string. \n",
    "We have to input the JSON package found in python to interact with them, but we can do a lot with it. "
   ]
  },
  {
   "cell_type": "code",
   "execution_count": 6,
   "metadata": {},
   "outputs": [],
   "source": [
    "import json"
   ]
  },
  {
   "cell_type": "code",
   "execution_count": 13,
   "metadata": {},
   "outputs": [
    {
     "name": "stdout",
     "output_type": "stream",
     "text": [
      "<class 'str'>\n",
      "<class 'list'>\n",
      "['Taco Bell', 'Shake Shack', 'Chipotle']\n",
      "[\"Taco Bell\", \"Shake Shack\", \"Chipotle\"]\n",
      "<class 'str'>\n",
      "<class 'dict'>\n"
     ]
    }
   ],
   "source": [
    "best_food_chains = [\"Taco Bell\", \"Shake Shack\", \"Chipotle\"]\n",
    "\n",
    "# Use json.dumps to convert best_food_chains to a string.\n",
    "best_food_chains_string = json.dumps(best_food_chains)\n",
    "\n",
    "# We've successfully converted our list to a string.\n",
    "print(type(best_food_chains_string))\n",
    "\n",
    "# Convert best_food_chains_string back into a list\n",
    "print(type(json.loads(best_food_chains_string)))\n",
    "print(json.loads(best_food_chains_string))\n",
    "print(best_food_chains_string)\n",
    "\n",
    "# Make a dictionary\n",
    "fast_food_franchise = {\n",
    "    \"Subway\": 24722,\n",
    "    \"McDonalds\": 14098,\n",
    "    \"Starbucks\": 10821,\n",
    "    \"Pizza Hut\": 7600\n",
    "}\n",
    "\n",
    "# We can also dump a dictionary to a string and load it.\n",
    "fast_food_franchise_string = json.dumps(fast_food_franchise)\n",
    "print(type(fast_food_franchise_string))\n",
    "print(type(fast_food_franchise))"
   ]
  },
  {
   "cell_type": "code",
   "execution_count": 14,
   "metadata": {},
   "outputs": [
    {
     "name": "stdout",
     "output_type": "stream",
     "text": [
      "<class 'dict'>\n",
      "{'message': 'success', 'request': {'altitude': 100, 'datetime': 1556074623, 'latitude': 37.78, 'longitude': -122.41, 'passes': 5}, 'response': [{'duration': 511, 'risetime': 1556110224}, {'duration': 645, 'risetime': 1556115925}, {'duration': 560, 'risetime': 1556121792}, {'duration': 477, 'risetime': 1556127702}, {'duration': 556, 'risetime': 1556133532}]}\n"
     ]
    }
   ],
   "source": [
    "#Ok, so there's some idiosyncracies there, but I think that's the gist of putting in and out of JSON. \n",
    "#Let's move to JSON and the API specifically\n",
    "\n",
    "# Make the same request we did earlier, but with the coordinates of San Francisco instead.\n",
    "parameters = {\"lat\": 37.78, \"lon\": -122.41}\n",
    "response = requests.get(\"http://api.open-notify.org/iss-pass.json\", params=parameters)\n",
    "\n",
    "# Get the response data as a python object.  Verify that it's a dictionary.\n",
    "data = response.json()\n",
    "print(type(data))\n",
    "print(data)"
   ]
  },
  {
   "cell_type": "code",
   "execution_count": 17,
   "metadata": {},
   "outputs": [
    {
     "name": "stdout",
     "output_type": "stream",
     "text": [
      "{'Server': 'nginx/1.10.3', 'Date': 'Wed, 24 Apr 2019 02:57:03 GMT', 'Content-Type': 'application/json', 'Content-Length': '521', 'Connection': 'keep-alive', 'Via': '1.1 vegur'}\n"
     ]
    }
   ],
   "source": [
    "print(response.headers)"
   ]
  },
  {
   "cell_type": "code",
   "execution_count": 18,
   "metadata": {},
   "outputs": [
    {
     "name": "stdout",
     "output_type": "stream",
     "text": [
      "application/json\n"
     ]
    }
   ],
   "source": [
    "#To access a specific entry\n",
    "print(response.headers['content-type'])"
   ]
  },
  {
   "cell_type": "markdown",
   "metadata": {},
   "source": [
    "Ok, that's the whole of the tutorial on APIs. I think there's enough there to get started on interacting with the NREL site. "
   ]
  },
  {
   "cell_type": "code",
   "execution_count": 24,
   "metadata": {},
   "outputs": [],
   "source": [
    "#GET /api/pvwatts/v6.format?parameters\n",
    "#tilt = [15, 20, 25, 30, 35, 40, 45, 50, 55, 60, 65, 70, 75, 80, 85]\n",
    "parameters = {\"format\": 'JSON', \"api_key\": \"DEMO_KEY\", \"system_capacity\": 4, \"module_type\": 0, \"losses\": 14.08,\n",
    "              \"array_type\": 0, \"tilt\": 45, \"azimuth\": 180, \"lat\": 64.82, \"lon\": -147.87, \"dataset\": 'tmy2'}\n",
    "nrel_response = requests.get(\"https://developer.nrel.gov/api/pvwatts/v6\", params = parameters)"
   ]
  },
  {
   "cell_type": "code",
   "execution_count": 32,
   "metadata": {},
   "outputs": [
    {
     "name": "stdout",
     "output_type": "stream",
     "text": [
      "b'{\"inputs\":{\"format\":\"JSON\",\"system_capacity\":\"4\",\"module_type\":\"0\",\"losses\":\"14.08\",\"array_type\":\"0\",\"tilt\":\"45\",\"azimuth\":\"180\",\"lat\":\"64.82\",\"lon\":\"-147.87\",\"dataset\":\"tmy2\"},\"errors\":[],\"warnings\":[],\"version\":\"1.0.1\",\"ssc_info\":{\"version\":45,\"build\":\"Linux 64 bit GNU/C++ Jul  7 2015 14:24:09\"},\"station_info\":{\"lat\":64.81666564941406,\"lon\":-147.86666870117188,\"elev\":138.0,\"tz\":-9.0,\"location\":\"26411\",\"city\":\"FAIRBANKS\",\"state\":\"AK\",\"solar_resource_file\":\"26411.tm2\",\"distance\":363},\"outputs\":{\"ac_monthly\":[75.29331970214844,212.30104064941406,450.2816467285156,572.53564453125,555.1434936523438,542.8285522460938,532.1309814453125,449.814697265625,330.38067626953125,217.23141479492188,105.97759246826172,37.46936798095703],\"poa_monthly\":[19.79026222229004,57.29265594482422,127.40550994873047,168.2696075439453,173.01815795898438,172.3505096435547,171.27613830566406,141.96417236328125,101.07383728027344,62.22165298461914,28.594524383544922,9.974127769470215],\"solrad_monthly\":[0.6383955478668213,2.046166181564331,4.1098551750183105,5.608986854553223,5.581231117248535,5.745017051696777,5.525036811828613,4.579489231109619,3.3691279888153076,2.007150173187256,0.9531508088111877,0.3217460513114929],\"dc_monthly\":[80.57490539550781,222.8466339111328,471.1372375488281,600.56298828125,582.278076171875,570.2353515625,558.8668212890625,472.423583984375,347.2431335449219,229.2576446533203,112.5851058959961,40.926231384277344],\"ac_annual\":4081.388427734375,\"solrad_annual\":3.373779535293579,\"capacity_factor\":11.647798538208008}}'\n"
     ]
    }
   ],
   "source": [
    "print(nrel_response.content)"
   ]
  },
  {
   "cell_type": "code",
   "execution_count": 31,
   "metadata": {},
   "outputs": [
    {
     "name": "stdout",
     "output_type": "stream",
     "text": [
      "{'Server': 'openresty', 'Date': 'Wed, 24 Apr 2019 03:45:05 GMT', 'Content-Type': 'application/json; charset=utf-8', 'Transfer-Encoding': 'chunked', 'Connection': 'keep-alive', 'Vary': 'Accept-Encoding', 'X-RateLimit-Limit': '40', 'X-RateLimit-Remaining': '38', 'Access-Control-Allow-Origin': '*', 'Access-Control-Allow-Methods': 'GET, POST, OPTIONS', 'Access-Control-Max-Age': '1728000', 'ETag': 'W/\"d2729409da502ff7d1a6f5ca61cd7ecc\"', 'Cache-Control': 'max-age=0, private, must-revalidate', 'X-Request-Id': '56549a40-6310-4d73-bc1f-e48317e16f6f', 'X-Runtime': '0.273151', 'Content-Encoding': 'gzip', 'Age': '0', 'Via': 'https/1.1 api-umbrella (ApacheTrafficServer [cMsSf ])', 'X-Cache': 'MISS', 'Strict-Transport-Security': 'max-age=31536000; preload'}\n"
     ]
    }
   ],
   "source": [
    "print(nrel_response.headers)"
   ]
  },
  {
   "cell_type": "code",
   "execution_count": 34,
   "metadata": {},
   "outputs": [
    {
     "name": "stdout",
     "output_type": "stream",
     "text": [
      "200\n"
     ]
    }
   ],
   "source": [
    "print(nrel_response.status_code)"
   ]
  },
  {
   "cell_type": "code",
   "execution_count": 36,
   "metadata": {},
   "outputs": [
    {
     "name": "stdout",
     "output_type": "stream",
     "text": [
      "<class 'requests.models.Response'>\n"
     ]
    }
   ],
   "source": [
    "print(type(nrel_response))"
   ]
  },
  {
   "cell_type": "code",
   "execution_count": 41,
   "metadata": {},
   "outputs": [
    {
     "data": {
      "text/plain": [
       "'{\"inputs\":{\"format\":\"JSON\",\"system_capacity\":\"4\",\"module_type\":\"0\",\"losses\":\"14.08\",\"array_type\":\"0\",\"tilt\":\"45\",\"azimuth\":\"180\",\"lat\":\"64.82\",\"lon\":\"-147.87\",\"dataset\":\"tmy2\"},\"errors\":[],\"warnings\":[],\"version\":\"1.0.1\",\"ssc_info\":{\"version\":45,\"build\":\"Linux 64 bit GNU/C++ Jul  7 2015 14:24:09\"},\"station_info\":{\"lat\":64.81666564941406,\"lon\":-147.86666870117188,\"elev\":138.0,\"tz\":-9.0,\"location\":\"26411\",\"city\":\"FAIRBANKS\",\"state\":\"AK\",\"solar_resource_file\":\"26411.tm2\",\"distance\":363},\"outputs\":{\"ac_monthly\":[75.29331970214844,212.30104064941406,450.2816467285156,572.53564453125,555.1434936523438,542.8285522460938,532.1309814453125,449.814697265625,330.38067626953125,217.23141479492188,105.97759246826172,37.46936798095703],\"poa_monthly\":[19.79026222229004,57.29265594482422,127.40550994873047,168.2696075439453,173.01815795898438,172.3505096435547,171.27613830566406,141.96417236328125,101.07383728027344,62.22165298461914,28.594524383544922,9.974127769470215],\"solrad_monthly\":[0.6383955478668213,2.046166181564331,4.1098551750183105,5.608986854553223,5.581231117248535,5.745017051696777,5.525036811828613,4.579489231109619,3.3691279888153076,2.007150173187256,0.9531508088111877,0.3217460513114929],\"dc_monthly\":[80.57490539550781,222.8466339111328,471.1372375488281,600.56298828125,582.278076171875,570.2353515625,558.8668212890625,472.423583984375,347.2431335449219,229.2576446533203,112.5851058959961,40.926231384277344],\"ac_annual\":4081.388427734375,\"solrad_annual\":3.373779535293579,\"capacity_factor\":11.647798538208008}}'"
      ]
     },
     "execution_count": 41,
     "metadata": {},
     "output_type": "execute_result"
    }
   ],
   "source": [
    "nrel_response.text"
   ]
  },
  {
   "cell_type": "code",
   "execution_count": 45,
   "metadata": {},
   "outputs": [
    {
     "data": {
      "text/plain": [
       "{'inputs': {'format': 'JSON',\n",
       "  'system_capacity': '4',\n",
       "  'module_type': '0',\n",
       "  'losses': '14.08',\n",
       "  'array_type': '0',\n",
       "  'tilt': '45',\n",
       "  'azimuth': '180',\n",
       "  'lat': '64.82',\n",
       "  'lon': '-147.87',\n",
       "  'dataset': 'tmy2'},\n",
       " 'errors': [],\n",
       " 'warnings': [],\n",
       " 'version': '1.0.1',\n",
       " 'ssc_info': {'version': 45,\n",
       "  'build': 'Linux 64 bit GNU/C++ Jul  7 2015 14:24:09'},\n",
       " 'station_info': {'lat': 64.81666564941406,\n",
       "  'lon': -147.86666870117188,\n",
       "  'elev': 138.0,\n",
       "  'tz': -9.0,\n",
       "  'location': '26411',\n",
       "  'city': 'FAIRBANKS',\n",
       "  'state': 'AK',\n",
       "  'solar_resource_file': '26411.tm2',\n",
       "  'distance': 363},\n",
       " 'outputs': {'ac_monthly': [75.29331970214844,\n",
       "   212.30104064941406,\n",
       "   450.2816467285156,\n",
       "   572.53564453125,\n",
       "   555.1434936523438,\n",
       "   542.8285522460938,\n",
       "   532.1309814453125,\n",
       "   449.814697265625,\n",
       "   330.38067626953125,\n",
       "   217.23141479492188,\n",
       "   105.97759246826172,\n",
       "   37.46936798095703],\n",
       "  'poa_monthly': [19.79026222229004,\n",
       "   57.29265594482422,\n",
       "   127.40550994873047,\n",
       "   168.2696075439453,\n",
       "   173.01815795898438,\n",
       "   172.3505096435547,\n",
       "   171.27613830566406,\n",
       "   141.96417236328125,\n",
       "   101.07383728027344,\n",
       "   62.22165298461914,\n",
       "   28.594524383544922,\n",
       "   9.974127769470215],\n",
       "  'solrad_monthly': [0.6383955478668213,\n",
       "   2.046166181564331,\n",
       "   4.1098551750183105,\n",
       "   5.608986854553223,\n",
       "   5.581231117248535,\n",
       "   5.745017051696777,\n",
       "   5.525036811828613,\n",
       "   4.579489231109619,\n",
       "   3.3691279888153076,\n",
       "   2.007150173187256,\n",
       "   0.9531508088111877,\n",
       "   0.3217460513114929],\n",
       "  'dc_monthly': [80.57490539550781,\n",
       "   222.8466339111328,\n",
       "   471.1372375488281,\n",
       "   600.56298828125,\n",
       "   582.278076171875,\n",
       "   570.2353515625,\n",
       "   558.8668212890625,\n",
       "   472.423583984375,\n",
       "   347.2431335449219,\n",
       "   229.2576446533203,\n",
       "   112.5851058959961,\n",
       "   40.926231384277344],\n",
       "  'ac_annual': 4081.388427734375,\n",
       "  'solrad_annual': 3.373779535293579,\n",
       "  'capacity_factor': 11.647798538208008}}"
      ]
     },
     "execution_count": 45,
     "metadata": {},
     "output_type": "execute_result"
    }
   ],
   "source": [
    "#Ok, so KEY DETAIL HERE: json is a method and requires the parenthetical after the call. Tragic. \n",
    "nrel_response.json()"
   ]
  },
  {
   "cell_type": "code",
   "execution_count": 46,
   "metadata": {},
   "outputs": [
    {
     "data": {
      "text/plain": [
       "{'ac_monthly': [75.29331970214844,\n",
       "  212.30104064941406,\n",
       "  450.2816467285156,\n",
       "  572.53564453125,\n",
       "  555.1434936523438,\n",
       "  542.8285522460938,\n",
       "  532.1309814453125,\n",
       "  449.814697265625,\n",
       "  330.38067626953125,\n",
       "  217.23141479492188,\n",
       "  105.97759246826172,\n",
       "  37.46936798095703],\n",
       " 'poa_monthly': [19.79026222229004,\n",
       "  57.29265594482422,\n",
       "  127.40550994873047,\n",
       "  168.2696075439453,\n",
       "  173.01815795898438,\n",
       "  172.3505096435547,\n",
       "  171.27613830566406,\n",
       "  141.96417236328125,\n",
       "  101.07383728027344,\n",
       "  62.22165298461914,\n",
       "  28.594524383544922,\n",
       "  9.974127769470215],\n",
       " 'solrad_monthly': [0.6383955478668213,\n",
       "  2.046166181564331,\n",
       "  4.1098551750183105,\n",
       "  5.608986854553223,\n",
       "  5.581231117248535,\n",
       "  5.745017051696777,\n",
       "  5.525036811828613,\n",
       "  4.579489231109619,\n",
       "  3.3691279888153076,\n",
       "  2.007150173187256,\n",
       "  0.9531508088111877,\n",
       "  0.3217460513114929],\n",
       " 'dc_monthly': [80.57490539550781,\n",
       "  222.8466339111328,\n",
       "  471.1372375488281,\n",
       "  600.56298828125,\n",
       "  582.278076171875,\n",
       "  570.2353515625,\n",
       "  558.8668212890625,\n",
       "  472.423583984375,\n",
       "  347.2431335449219,\n",
       "  229.2576446533203,\n",
       "  112.5851058959961,\n",
       "  40.926231384277344],\n",
       " 'ac_annual': 4081.388427734375,\n",
       " 'solrad_annual': 3.373779535293579,\n",
       " 'capacity_factor': 11.647798538208008}"
      ]
     },
     "execution_count": 46,
     "metadata": {},
     "output_type": "execute_result"
    }
   ],
   "source": [
    "dictionary_nrel_response = nrel_response.json()\n",
    "dictionary_nrel_response['outputs']"
   ]
  },
  {
   "cell_type": "markdown",
   "metadata": {},
   "source": [
    "### Ok! That's more like it.\n",
    "Now, the next step is to transmute this into a usable format for Ge to graph. Then, I'll pass a list of tilt angles with my request and see what I get out. "
   ]
  },
  {
   "cell_type": "code",
   "execution_count": 47,
   "metadata": {},
   "outputs": [],
   "source": [
    "import pandas as pd\n",
    "import numpy as np"
   ]
  },
  {
   "cell_type": "code",
   "execution_count": 49,
   "metadata": {},
   "outputs": [
    {
     "data": {
      "text/html": [
       "<div>\n",
       "<style scoped>\n",
       "    .dataframe tbody tr th:only-of-type {\n",
       "        vertical-align: middle;\n",
       "    }\n",
       "\n",
       "    .dataframe tbody tr th {\n",
       "        vertical-align: top;\n",
       "    }\n",
       "\n",
       "    .dataframe thead th {\n",
       "        text-align: right;\n",
       "    }\n",
       "</style>\n",
       "<table border=\"1\" class=\"dataframe\">\n",
       "  <thead>\n",
       "    <tr style=\"text-align: right;\">\n",
       "      <th></th>\n",
       "      <th>ac_monthly</th>\n",
       "      <th>poa_monthly</th>\n",
       "      <th>solrad_monthly</th>\n",
       "      <th>dc_monthly</th>\n",
       "      <th>ac_annual</th>\n",
       "      <th>solrad_annual</th>\n",
       "      <th>capacity_factor</th>\n",
       "    </tr>\n",
       "  </thead>\n",
       "  <tbody>\n",
       "    <tr>\n",
       "      <th>0</th>\n",
       "      <td>75.293320</td>\n",
       "      <td>19.790262</td>\n",
       "      <td>0.638396</td>\n",
       "      <td>80.574905</td>\n",
       "      <td>4081.388428</td>\n",
       "      <td>3.37378</td>\n",
       "      <td>11.647799</td>\n",
       "    </tr>\n",
       "    <tr>\n",
       "      <th>1</th>\n",
       "      <td>212.301041</td>\n",
       "      <td>57.292656</td>\n",
       "      <td>2.046166</td>\n",
       "      <td>222.846634</td>\n",
       "      <td>4081.388428</td>\n",
       "      <td>3.37378</td>\n",
       "      <td>11.647799</td>\n",
       "    </tr>\n",
       "    <tr>\n",
       "      <th>2</th>\n",
       "      <td>450.281647</td>\n",
       "      <td>127.405510</td>\n",
       "      <td>4.109855</td>\n",
       "      <td>471.137238</td>\n",
       "      <td>4081.388428</td>\n",
       "      <td>3.37378</td>\n",
       "      <td>11.647799</td>\n",
       "    </tr>\n",
       "    <tr>\n",
       "      <th>3</th>\n",
       "      <td>572.535645</td>\n",
       "      <td>168.269608</td>\n",
       "      <td>5.608987</td>\n",
       "      <td>600.562988</td>\n",
       "      <td>4081.388428</td>\n",
       "      <td>3.37378</td>\n",
       "      <td>11.647799</td>\n",
       "    </tr>\n",
       "    <tr>\n",
       "      <th>4</th>\n",
       "      <td>555.143494</td>\n",
       "      <td>173.018158</td>\n",
       "      <td>5.581231</td>\n",
       "      <td>582.278076</td>\n",
       "      <td>4081.388428</td>\n",
       "      <td>3.37378</td>\n",
       "      <td>11.647799</td>\n",
       "    </tr>\n",
       "  </tbody>\n",
       "</table>\n",
       "</div>"
      ],
      "text/plain": [
       "   ac_monthly  poa_monthly  solrad_monthly  dc_monthly    ac_annual  \\\n",
       "0   75.293320    19.790262        0.638396   80.574905  4081.388428   \n",
       "1  212.301041    57.292656        2.046166  222.846634  4081.388428   \n",
       "2  450.281647   127.405510        4.109855  471.137238  4081.388428   \n",
       "3  572.535645   168.269608        5.608987  600.562988  4081.388428   \n",
       "4  555.143494   173.018158        5.581231  582.278076  4081.388428   \n",
       "\n",
       "   solrad_annual  capacity_factor  \n",
       "0        3.37378        11.647799  \n",
       "1        3.37378        11.647799  \n",
       "2        3.37378        11.647799  \n",
       "3        3.37378        11.647799  \n",
       "4        3.37378        11.647799  "
      ]
     },
     "execution_count": 49,
     "metadata": {},
     "output_type": "execute_result"
    }
   ],
   "source": [
    "nrel_dataframe = pd.DataFrame(data = dictionary_nrel_response['outputs'])\n",
    "nrel_dataframe.head()"
   ]
  },
  {
   "cell_type": "code",
   "execution_count": 50,
   "metadata": {},
   "outputs": [],
   "source": [
    "#GOD BLESS PANDAS.\n"
   ]
  },
  {
   "cell_type": "markdown",
   "metadata": {},
   "source": [
    "### Ok, now the next step is to figure out how to handle passing a whole list of tilt angles and getting this type of data out of nrel, and into a dataframe.\n",
    "The big question here is how best to present the data. I guess I could make a list of dataframes? That would allow each of the tilt angles to contain a dataframe that looks like the above? I could reference the position in that list against the position in the list of tilt angles passed to the dataframe to figure out how to label the dataframes too. That seems sensible. "
   ]
  },
  {
   "cell_type": "code",
   "execution_count": 51,
   "metadata": {},
   "outputs": [],
   "source": [
    "tilt = [10, 30, 50, 70]\n",
    "list_parameters = {\"format\": 'JSON', \"api_key\": \"DEMO_KEY\", \"system_capacity\": 4, \"module_type\": 0, \"losses\": 14.08,\n",
    "              \"array_type\": 0, \"tilt\": tilt, \"azimuth\": 180, \"lat\": 64.82, \"lon\": -147.87, \"dataset\": 'tmy2'}\n",
    "nrel_list_response = requests.get(\"https://developer.nrel.gov/api/pvwatts/v6\", params = list_parameters)"
   ]
  },
  {
   "cell_type": "code",
   "execution_count": 52,
   "metadata": {},
   "outputs": [
    {
     "data": {
      "text/plain": [
       "b'{\"inputs\":{\"format\":\"JSON\",\"system_capacity\":\"4\",\"module_type\":\"0\",\"losses\":\"14.08\",\"array_type\":\"0\",\"tilt\":[\"10\",\"30\",\"50\",\"70\"],\"azimuth\":\"180\",\"lat\":\"64.82\",\"lon\":\"-147.87\",\"dataset\":\"tmy2\"},\"errors\":[\"\\'tilt\\' must be a number\"],\"warnings\":[],\"version\":\"1.0.1\",\"ssc_info\":{\"version\":45,\"build\":\"Linux 64 bit GNU/C++ Jul  7 2015 14:24:09\"},\"outputs\":{}}'"
      ]
     },
     "execution_count": 52,
     "metadata": {},
     "output_type": "execute_result"
    }
   ],
   "source": [
    "nrel_list_response.content"
   ]
  },
  {
   "cell_type": "code",
   "execution_count": null,
   "metadata": {},
   "outputs": [],
   "source": [
    "#OK! Really good thing to note! Tilt can't be passed as a list. Not a limit of requests, but the NREL API.\n",
    "#Instead, I guess we make an empty list and append the resultant DataFrames of each request into it. "
   ]
  },
  {
   "cell_type": "code",
   "execution_count": 54,
   "metadata": {},
   "outputs": [
    {
     "data": {
      "text/plain": [
       "50"
      ]
     },
     "execution_count": 54,
     "metadata": {},
     "output_type": "execute_result"
    }
   ],
   "source": [
    "tilt[2]"
   ]
  },
  {
   "cell_type": "code",
   "execution_count": 55,
   "metadata": {},
   "outputs": [
    {
     "name": "stdout",
     "output_type": "stream",
     "text": [
      "    ac_monthly  poa_monthly  solrad_monthly  dc_monthly    ac_annual  \\\n",
      "0    79.867310    20.936970        0.675386   85.286110  4087.587646   \n",
      "1   221.018539    59.637424        2.129908  231.851715  4087.587646   \n",
      "2   459.006989   130.105988        4.196967  480.733307  4087.587646   \n",
      "3   571.288330   168.225449        5.607515  600.020569  4087.587646   \n",
      "4   546.803711   170.411606        5.497149  573.688721  4087.587646   \n",
      "5   531.402588   168.728546        5.624285  558.451782  4087.587646   \n",
      "6   523.032959   168.407486        5.432499  549.494629  4087.587646   \n",
      "7   446.199310   140.970047        4.547421  468.718170  4087.587646   \n",
      "8   333.627411   102.146194        3.404873  350.625366  4087.587646   \n",
      "9   223.574249    64.034477        2.065628  235.828796  4087.587646   \n",
      "10  111.540329    30.056746        1.001891  118.315453  4087.587646   \n",
      "11   40.226490    10.648455        0.343499   43.760967  4087.587646   \n",
      "\n",
      "    solrad_annual  capacity_factor  \n",
      "0        3.377252         11.66549  \n",
      "1        3.377252         11.66549  \n",
      "2        3.377252         11.66549  \n",
      "3        3.377252         11.66549  \n",
      "4        3.377252         11.66549  \n",
      "5        3.377252         11.66549  \n",
      "6        3.377252         11.66549  \n",
      "7        3.377252         11.66549  \n",
      "8        3.377252         11.66549  \n",
      "9        3.377252         11.66549  \n",
      "10       3.377252         11.66549  \n",
      "11       3.377252         11.66549  \n"
     ]
    }
   ],
   "source": [
    "nrel_list_of_responses = []\n",
    "for i in range(len(tilt)):\n",
    "    list_parameters = {\"format\": 'JSON', \"api_key\": \"DEMO_KEY\", \"system_capacity\": 4, \"module_type\": 0, \"losses\": 14.08,\n",
    "              \"array_type\": 0, \"tilt\": tilt[i], \"azimuth\": 180, \"lat\": 64.82, \"lon\": -147.87, \"dataset\": 'tmy2'}\n",
    "    json_response = requests.get(\"https://developer.nrel.gov/api/pvwatts/v6\", params = list_parameters).json()\n",
    "    new_dataframe = pd.DataFrame(data = json_response['outputs'])\n",
    "    nrel_list_of_responses.append(new_dataframe)\n",
    "print(nrel_list_of_responses[2])"
   ]
  },
  {
   "cell_type": "code",
   "execution_count": 56,
   "metadata": {},
   "outputs": [],
   "source": [
    "import matplotlib.pyplot as plt"
   ]
  },
  {
   "cell_type": "code",
   "execution_count": 57,
   "metadata": {},
   "outputs": [
    {
     "name": "stdout",
     "output_type": "stream",
     "text": [
      "0      79.867310\n",
      "1     221.018539\n",
      "2     459.006989\n",
      "3     571.288330\n",
      "4     546.803711\n",
      "5     531.402588\n",
      "6     523.032959\n",
      "7     446.199310\n",
      "8     333.627411\n",
      "9     223.574249\n",
      "10    111.540329\n",
      "11     40.226490\n",
      "Name: ac_monthly, dtype: float64\n"
     ]
    }
   ],
   "source": [
    "print(nrel_list_of_responses[2]['ac_monthly'])"
   ]
  },
  {
   "cell_type": "code",
   "execution_count": 68,
   "metadata": {},
   "outputs": [
    {
     "data": {
      "text/plain": [
       "<matplotlib.legend.Legend at 0x27a0a160748>"
      ]
     },
     "execution_count": 68,
     "metadata": {},
     "output_type": "execute_result"
    },
    {
     "data": {
      "image/png": "[encoded data removed]",
      "text/plain": [
       "<Figure size 432x288 with 1 Axes>"
      ]
     },
     "metadata": {
      "needs_background": "light"
     },
     "output_type": "display_data"
    }
   ],
   "source": [
    "for i in range(len(tilt)):\n",
    "    plt.plot(nrel_list_of_responses[i]['ac_monthly'], label = tilt[i])\n",
    "plt.xlabel(\"Month\")\n",
    "plt.ylabel(\"AC kWh Output\")\n",
    "plt.title(\"Month and AC output with varying tilt angles from PVWatts\")\n",
    "plt.legend()"
   ]
  },
  {
   "cell_type": "code",
   "execution_count": 69,
   "metadata": {},
   "outputs": [
    {
     "name": "stdout",
     "output_type": "stream",
     "text": [
      "[3385.348388671875, 3922.596923828125, 4087.587646484375, 3883.735107421875]\n"
     ]
    }
   ],
   "source": [
    "#Graph of annual production vs. tilt.\n",
    "annual_production = []\n",
    "for i in range(len(tilt)):\n",
    "    annual_production.append(nrel_list_of_responses[i]['ac_annual'][2])\n",
    "print(annual_production)"
   ]
  },
  {
   "cell_type": "code",
   "execution_count": 76,
   "metadata": {
    "collapsed": true
   },
   "outputs": [
    {
     "data": {
      "text/plain": [
       "Text(0.5, 1.0, 'Annual Production vs Tilt')"
      ]
     },
     "execution_count": 76,
     "metadata": {},
     "output_type": "execute_result"
    },
    {
     "data": {
      "image/png": "[encoded data removed]",
      "text/plain": [
       "<Figure size 432x288 with 1 Axes>"
      ]
     },
     "metadata": {
      "needs_background": "light"
     },
     "output_type": "display_data"
    }
   ],
   "source": [
    "plt.plot(tilt, annual_production)\n",
    "plt.xlabel(\"Install Tilt Angle (Degrees)\")\n",
    "plt.ylabel(\"Annual AC Output (kWh)\")\n",
    "plt.title(\"Annual Production vs Tilt\")"
   ]
  },
  {
   "cell_type": "code",
   "execution_count": 79,
   "metadata": {
    "collapsed": true
   },
   "outputs": [
    {
     "name": "stdout",
     "output_type": "stream",
     "text": [
      "[    ac_monthly  poa_monthly  solrad_monthly  dc_monthly    ac_annual  \\\n",
      "0    18.987301     6.631680        0.213925   22.725245  3200.612793   \n",
      "1    91.035156    27.050930        0.966105   98.086250  3200.612793   \n",
      "2   272.492188    79.314285        2.558525  286.772400  3200.612793   \n",
      "3   462.213074   135.295914        4.509864  483.805542  3200.612793   \n",
      "4   519.547302   160.983749        5.193024  544.729736  3200.612793   \n",
      "5   542.937012   171.665359        5.722178  569.626465  3200.612793   \n",
      "6   511.257385   163.397552        5.270889  536.649658  3200.612793   \n",
      "7   392.010071   122.991150        3.967456  412.263336  3200.612793   \n",
      "8   233.482666    72.418793        2.413960  247.120529  3200.612793   \n",
      "9   116.754417    35.631821        1.149414  125.749321  3200.612793   \n",
      "10   34.762928    11.159619        0.371987   39.408035  3200.612793   \n",
      "11    5.133535     2.533939        0.081740    7.657297  3200.612793   \n",
      "\n",
      "    solrad_annual  capacity_factor  \n",
      "0        2.701589          9.13417  \n",
      "1        2.701589          9.13417  \n",
      "2        2.701589          9.13417  \n",
      "3        2.701589          9.13417  \n",
      "4        2.701589          9.13417  \n",
      "5        2.701589          9.13417  \n",
      "6        2.701589          9.13417  \n",
      "7        2.701589          9.13417  \n",
      "8        2.701589          9.13417  \n",
      "9        2.701589          9.13417  \n",
      "10       2.701589          9.13417  \n",
      "11       2.701589          9.13417  ,     ac_monthly  poa_monthly  solrad_monthly  dc_monthly    ac_annual  \\\n",
      "0    26.884842     8.549420        0.275788   30.846272  3385.348389   \n",
      "1   110.138519    31.686785        1.131671  117.687958  3385.348389   \n",
      "2   304.432861    87.493675        2.822377  319.729095  3385.348389   \n",
      "3   487.550598   142.406326        4.746878  510.094604  3385.348389   \n",
      "4   533.774231   165.407532        5.335727  559.552673  3385.348389   \n",
      "5   551.395203   174.371017        5.812367  578.498413  3385.348389   \n",
      "6   523.008484   167.274017        5.395936  548.893555  3385.348389   \n",
      "7   407.745300   127.854668        4.124344  428.563049  3385.348389   \n",
      "8   252.308243    77.710175        2.590339  266.513428  3385.348389   \n",
      "9   133.498474    39.903278        1.287202  142.938599  3385.348389   \n",
      "10   45.340073    13.745504        0.458183   50.260033  3385.348389   \n",
      "11    9.271515     3.597888        0.116061   11.949650  3385.348389   \n",
      "\n",
      "    solrad_annual  capacity_factor  \n",
      "0        2.841406         9.661383  \n",
      "1        2.841406         9.661383  \n",
      "2        2.841406         9.661383  \n",
      "3        2.841406         9.661383  \n",
      "4        2.841406         9.661383  \n",
      "5        2.841406         9.661383  \n",
      "6        2.841406         9.661383  \n",
      "7        2.841406         9.661383  \n",
      "8        2.841406         9.661383  \n",
      "9        2.841406         9.661383  \n",
      "10       2.841406         9.661383  \n",
      "11       2.841406         9.661383  ,     ac_monthly  poa_monthly  solrad_monthly  dc_monthly    ac_annual  \\\n",
      "0    35.106636    10.416152        0.336005   39.277702  3552.159912   \n",
      "1   128.644897    36.141415        1.290765  136.692993  3552.159912   \n",
      "2   333.818604    95.158379        3.069625  350.102051  3552.159912   \n",
      "3   509.691620   148.750122        4.958337  533.102478  3552.159912   \n",
      "4   545.316101   169.090500        5.454532  571.601929  3552.159912   \n",
      "5   557.807922   176.559860        5.885329  585.247070  3552.159912   \n",
      "6   532.229980   170.415588        5.497277  558.524292  3552.159912   \n",
      "7   421.106140   132.087845        4.260898  442.421967  3552.159912   \n",
      "8   269.292206    82.576073        2.752536  284.029602  3552.159912   \n",
      "9   149.359085    43.960632        1.418085  159.239594  3552.159912   \n",
      "10   55.902615    16.251221        0.541707   61.104649  3552.159912   \n",
      "11   13.884660     4.638710        0.149636   16.694914  3552.159912   \n",
      "\n",
      "    solrad_annual  capacity_factor  \n",
      "0        2.967894        10.137443  \n",
      "1        2.967894        10.137443  \n",
      "2        2.967894        10.137443  \n",
      "3        2.967894        10.137443  \n",
      "4        2.967894        10.137443  \n",
      "5        2.967894        10.137443  \n",
      "6        2.967894        10.137443  \n",
      "7        2.967894        10.137443  \n",
      "8        2.967894        10.137443  \n",
      "9        2.967894        10.137443  \n",
      "10       2.967894        10.137443  \n",
      "11       2.967894        10.137443  ,     ac_monthly  poa_monthly  solrad_monthly  dc_monthly    ac_annual  \\\n",
      "0    43.135105    12.217672        0.394118   47.515182  3697.927734   \n",
      "1   146.094589    40.380878        1.442174  154.627075  3697.927734   \n",
      "2   360.462006   102.250206        3.298394  377.682465  3697.927734   \n",
      "3   528.560425   154.261551        5.142052  552.741150  3697.927734   \n",
      "4   554.121887   171.957153        5.547005  580.819763  3697.927734   \n",
      "5   561.664001   177.840652        5.928022  589.345642  3697.927734   \n",
      "6   538.862427   172.682327        5.570398  565.477112  3697.927734   \n",
      "7   432.016846   135.629959        4.375160  453.757812  3697.927734   \n",
      "8   284.383026    86.986153        2.899539  299.611267  3697.927734   \n",
      "9   164.069839    47.773014        1.541065  174.377609  3697.927734   \n",
      "10   66.049789    18.657692        0.621923   71.520248  3697.927734   \n",
      "11   18.508026     5.648484        0.182209   21.446720  3697.927734   \n",
      "\n",
      "    solrad_annual  capacity_factor  \n",
      "0        3.078505        10.553447  \n",
      "1        3.078505        10.553447  \n",
      "2        3.078505        10.553447  \n",
      "3        3.078505        10.553447  \n",
      "4        3.078505        10.553447  \n",
      "5        3.078505        10.553447  \n",
      "6        3.078505        10.553447  \n",
      "7        3.078505        10.553447  \n",
      "8        3.078505        10.553447  \n",
      "9        3.078505        10.553447  \n",
      "10       3.078505        10.553447  \n",
      "11       3.078505        10.553447  ,     ac_monthly  poa_monthly  solrad_monthly  dc_monthly    ac_annual  \\\n",
      "0    50.732082    13.940269        0.449686   55.315178  3821.869385   \n",
      "1   162.251114    44.372986        1.584749  171.249008  3821.869385   \n",
      "2   384.269501   108.715912        3.506965  402.361298  3821.869385   \n",
      "3   544.175842   158.901077        5.296702  569.020203  3821.869385   \n",
      "4   560.151367   174.000916        5.612933  587.159485  3821.869385   \n",
      "5   563.275452   178.402725        5.946757  591.109070  3821.869385   \n",
      "6   543.054138   174.267654        5.621537  569.897461  3821.869385   \n",
      "7   440.423889   138.421768        4.465219  462.509888  3821.869385   \n",
      "8   297.532440    90.898270        3.029942  313.203400  3821.869385   \n",
      "9   177.492035    51.311375        1.655206  188.206116  3821.869385   \n",
      "10   75.570450    20.946617        0.698221   81.298721  3821.869385   \n",
      "11   22.941336     6.619525        0.213533   25.997704  3821.869385   \n",
      "\n",
      "    solrad_annual  capacity_factor  \n",
      "0        3.173454        10.907162  \n",
      "1        3.173454        10.907162  \n",
      "2        3.173454        10.907162  \n",
      "3        3.173454        10.907162  \n",
      "4        3.173454        10.907162  \n",
      "5        3.173454        10.907162  \n",
      "6        3.173454        10.907162  \n",
      "7        3.173454        10.907162  \n",
      "8        3.173454        10.907162  \n",
      "9        3.173454        10.907162  \n",
      "10       3.173454        10.907162  \n",
      "11       3.173454        10.907162  ,     ac_monthly  poa_monthly  solrad_monthly  dc_monthly    ac_annual  \\\n",
      "0    57.784569    15.570829        0.502285   62.562904  3922.596924   \n",
      "1   176.997711    48.087284        1.717403  186.435379  3922.596924   \n",
      "2   405.193573   114.505867        3.693738  424.079163  3922.596924   \n",
      "3   556.567078   162.648621        5.421621  581.960632  3922.596924   \n",
      "4   563.262451   175.195511        5.651468  590.472351  3922.596924   \n",
      "5   562.245361   178.342957        5.944765  590.129700  3922.596924   \n",
      "6   544.461182   174.989731        5.644830  571.432556  3922.596924   \n",
      "7   446.369385   140.446640        4.530537  468.716278  3922.596924   \n",
      "8   308.718292    94.284317        3.142811  324.778198  3922.596924   \n",
      "9   189.551682    54.548782        1.759638  200.645905  3922.596924   \n",
      "10   84.361984    23.100567        0.770019   90.336998  3922.596924   \n",
      "11   27.083607     7.544442        0.243369   30.252575  3922.596924   \n",
      "\n",
      "    solrad_annual  capacity_factor  \n",
      "0        3.251874        11.194626  \n",
      "1        3.251874        11.194626  \n",
      "2        3.251874        11.194626  \n",
      "3        3.251874        11.194626  \n",
      "4        3.251874        11.194626  \n",
      "5        3.251874        11.194626  \n",
      "6        3.251874        11.194626  \n",
      "7        3.251874        11.194626  \n",
      "8        3.251874        11.194626  \n",
      "9        3.251874        11.194626  \n",
      "10       3.251874        11.194626  \n",
      "11       3.251874        11.194626  ,     ac_monthly  poa_monthly  solrad_monthly  dc_monthly    ac_annual  \\\n",
      "0    64.243591    17.096939        0.551514   69.203590  3999.150146   \n",
      "1   190.275406    51.495529        1.839126  200.119522  3999.150146   \n",
      "2   423.204132   119.575645        3.857279  442.797119  3999.150146   \n",
      "3   565.307678   165.485184        5.516173  591.538452  3999.150146   \n",
      "4   563.385925   175.389069        5.657712  590.683655  3999.150146   \n",
      "5   558.432983   177.314728        5.910491  586.261414  3999.150146   \n",
      "6   543.017212   174.723145        5.636230  570.011902  3999.150146   \n",
      "7   449.883728   141.696152        4.570844  472.406067  3999.150146   \n",
      "8   317.920868    97.126213        3.237540  334.311371  3999.150146   \n",
      "9   200.208557    57.460629        1.853569  211.651230  3999.150146   \n",
      "10   92.375206    25.103148        0.836772   98.581154  3999.150146   \n",
      "11   30.894541     8.416192        0.271490   34.168350  3999.150146   \n",
      "\n",
      "    solrad_annual  capacity_factor  \n",
      "0        3.311562          11.4131  \n",
      "1        3.311562          11.4131  \n",
      "2        3.311562          11.4131  \n",
      "3        3.311562          11.4131  \n",
      "4        3.311562          11.4131  \n",
      "5        3.311562          11.4131  \n",
      "6        3.311562          11.4131  \n",
      "7        3.311562          11.4131  \n",
      "8        3.311562          11.4131  \n",
      "9        3.311562          11.4131  \n",
      "10       3.311562          11.4131  \n",
      "11       3.311562          11.4131  ,     ac_monthly  poa_monthly  solrad_monthly  dc_monthly    ac_annual  \\\n",
      "0    70.083786    18.507000        0.597000   75.211967  4051.975342   \n",
      "1   202.049530    54.571808        1.948993  212.264221  4051.975342   \n",
      "2   438.286194   123.886459        3.996337  458.488556  4051.975342   \n",
      "3   570.589294   167.359924        5.578664  597.741943  4051.975342   \n",
      "4   560.685364   174.642288        5.633622  587.958008  4051.975342   \n",
      "5   551.869873   175.289688        5.842989  579.537048  4051.975342   \n",
      "6   538.839172   173.470230        5.595814  565.754517  4051.975342   \n",
      "7   451.042786   142.185501        4.586629  473.652130  4051.975342   \n",
      "8   325.146271    99.396240        3.313208  341.805054  4051.975342   \n",
      "9   209.439987    60.024750        1.936282  221.194458  4051.975342   \n",
      "10   99.585754    26.939119        0.897971  106.002800  4051.975342   \n",
      "11   34.358292     9.228149        0.297682   37.727989  4051.975342   \n",
      "\n",
      "    solrad_annual  capacity_factor  \n",
      "0          3.3521        11.563857  \n",
      "1          3.3521        11.563857  \n",
      "2          3.3521        11.563857  \n",
      "3          3.3521        11.563857  \n",
      "4          3.3521        11.563857  \n",
      "5          3.3521        11.563857  \n",
      "6          3.3521        11.563857  \n",
      "7          3.3521        11.563857  \n",
      "8          3.3521        11.563857  \n",
      "9          3.3521        11.563857  \n",
      "10         3.3521        11.563857  \n",
      "11         3.3521        11.563857  ,     ac_monthly  poa_monthly  solrad_monthly  dc_monthly    ac_annual  \\\n",
      "0    75.293320    19.790262        0.638396   80.574905  4081.388428   \n",
      "1   212.301041    57.292656        2.046166  222.846634  4081.388428   \n",
      "2   450.281647   127.405510        4.109855  471.137238  4081.388428   \n",
      "3   572.535645   168.269608        5.608987  600.562988  4081.388428   \n",
      "4   555.143494   173.018158        5.581231  582.278076  4081.388428   \n",
      "5   542.828552   172.350510        5.745017  570.235352  4081.388428   \n",
      "6   532.130981   171.276138        5.525037  558.866821  4081.388428   \n",
      "7   449.814697   141.964172        4.579489  472.423584  4081.388428   \n",
      "8   330.380676   101.073837        3.369128  347.243134  4081.388428   \n",
      "9   217.231415    62.221653        2.007150  229.257645  4081.388428   \n",
      "10  105.977592    28.594524        0.953151  112.585106  4081.388428   \n",
      "11   37.469368     9.974128        0.321746   40.926231  4081.388428   \n",
      "\n",
      "    solrad_annual  capacity_factor  \n",
      "0         3.37378        11.647799  \n",
      "1         3.37378        11.647799  \n",
      "2         3.37378        11.647799  \n",
      "3         3.37378        11.647799  \n",
      "4         3.37378        11.647799  \n",
      "5         3.37378        11.647799  \n",
      "6         3.37378        11.647799  \n",
      "7         3.37378        11.647799  \n",
      "8         3.37378        11.647799  \n",
      "9         3.37378        11.647799  \n",
      "10        3.37378        11.647799  \n",
      "11        3.37378        11.647799  ,     ac_monthly  poa_monthly  solrad_monthly  dc_monthly    ac_annual  \\\n",
      "0    79.867310    20.936970        0.675386   85.286110  4087.587646   \n",
      "1   221.018539    59.637424        2.129908  231.851715  4087.587646   \n",
      "2   459.006989   130.105988        4.196967  480.733307  4087.587646   \n",
      "3   571.288330   168.225449        5.607515  600.020569  4087.587646   \n",
      "4   546.803711   170.411606        5.497149  573.688721  4087.587646   \n",
      "5   531.402588   168.728546        5.624285  558.451782  4087.587646   \n",
      "6   523.032959   168.407486        5.432499  549.494629  4087.587646   \n",
      "7   446.199310   140.970047        4.547421  468.718170  4087.587646   \n",
      "8   333.627411   102.146194        3.404873  350.625366  4087.587646   \n",
      "9   223.574249    64.034477        2.065628  235.828796  4087.587646   \n",
      "10  111.540329    30.056746        1.001891  118.315453  4087.587646   \n",
      "11   40.226490    10.648455        0.343499   43.760967  4087.587646   \n",
      "\n",
      "    solrad_annual  capacity_factor  \n",
      "0        3.377252         11.66549  \n",
      "1        3.377252         11.66549  \n",
      "2        3.377252         11.66549  \n",
      "3        3.377252         11.66549  \n",
      "4        3.377252         11.66549  \n",
      "5        3.377252         11.66549  \n",
      "6        3.377252         11.66549  \n",
      "7        3.377252         11.66549  \n",
      "8        3.377252         11.66549  \n",
      "9        3.377252         11.66549  \n",
      "10       3.377252         11.66549  \n",
      "11       3.377252         11.66549  ,     ac_monthly  poa_monthly  solrad_monthly  dc_monthly    ac_annual  \\\n",
      "0    83.802414    21.938393        0.707690   89.340881  4070.912109   \n",
      "1   228.192108    61.588245        2.199580  239.266083  4070.912109   \n",
      "2   464.774841   131.967407        4.257013  487.270630  4070.912109   \n",
      "3   567.097595   167.193497        5.573117  596.119873  4070.912109   \n",
      "4   535.777161   166.999603        5.387084  562.304749  4070.912109   \n",
      "5   517.502563   164.368744        5.478958  544.097961  4070.912109   \n",
      "6   511.352448   164.774963        5.315321  537.439331  4070.912109   \n",
      "7   440.160034   139.177704        4.489604  462.496613  4070.912109   \n",
      "8   334.893188   102.605049        3.420168  351.958160  4070.912109   \n",
      "9   228.463745    65.449631        2.111278  240.900162  4070.912109   \n",
      "10  116.266701    31.314661        1.043822  123.185593  4070.912109   \n",
      "11   42.628605    11.245990        0.362774   46.230789  4070.912109   \n",
      "\n",
      "    solrad_annual  capacity_factor  \n",
      "0        3.362201        11.617901  \n",
      "1        3.362201        11.617901  \n",
      "2        3.362201        11.617901  \n",
      "3        3.362201        11.617901  \n",
      "4        3.362201        11.617901  \n",
      "5        3.362201        11.617901  \n",
      "6        3.362201        11.617901  \n",
      "7        3.362201        11.617901  \n",
      "8        3.362201        11.617901  \n",
      "9        3.362201        11.617901  \n",
      "10       3.362201        11.617901  \n",
      "11       3.362201        11.617901  ,     ac_monthly  poa_monthly  solrad_monthly  dc_monthly   ac_annual  \\\n",
      "0    87.095520    22.786921        0.735062   92.734856  4031.05542   \n",
      "1   233.815262    63.130230        2.254651  245.081131  4031.05542   \n",
      "2   467.535492   132.975418        4.289530  490.749237  4031.05542   \n",
      "3   559.996338   165.174591        5.505820  588.873291  4031.05542   \n",
      "4   521.967834   162.783646        5.251085  548.027405  4031.05542   \n",
      "5   501.036011   159.264420        5.308814  527.083008  4031.05542   \n",
      "6   496.955353   160.232330        5.168785  522.570007  4031.05542   \n",
      "7   431.741119   136.600540        4.406469  453.805267  4031.05542   \n",
      "8   334.191467   102.447014        3.414901  351.251740  4031.05542   \n",
      "9   231.897430    66.456223        2.143749  244.467529  4031.05542   \n",
      "10  120.149185    32.358673        1.078622  127.187111  4031.05542   \n",
      "11   44.674164    11.762192        0.379426   48.334270  4031.05542   \n",
      "\n",
      "    solrad_annual  capacity_factor  \n",
      "0        3.328076        11.504154  \n",
      "1        3.328076        11.504154  \n",
      "2        3.328076        11.504154  \n",
      "3        3.328076        11.504154  \n",
      "4        3.328076        11.504154  \n",
      "5        3.328076        11.504154  \n",
      "6        3.328076        11.504154  \n",
      "7        3.328076        11.504154  \n",
      "8        3.328076        11.504154  \n",
      "9        3.328076        11.504154  \n",
      "10       3.328076        11.504154  \n",
      "11       3.328076        11.504154  ,     ac_monthly  poa_monthly  solrad_monthly  dc_monthly    ac_annual  \\\n",
      "0    89.743164    23.476070        0.757293   95.463905  3968.477783   \n",
      "1   237.883163    64.251709        2.294704  249.289688  3968.477783   \n",
      "2   467.621490   133.122498        4.294274  491.173279  3968.477783   \n",
      "3   550.040466   162.184036        5.406135  578.328918  3968.477783   \n",
      "4   505.332275   157.645264        5.085331  530.818481  3968.477783   \n",
      "5   481.967102   153.300293        5.110010  507.375122  3968.477783   \n",
      "6   479.939697   154.813431        4.993982  504.989502  3968.477783   \n",
      "7   420.994232   133.258484        4.298661  442.700928  3968.477783   \n",
      "8   331.534607   101.673248        3.389108  348.519714  3968.477783   \n",
      "9   233.877701    67.046593        2.162793  246.529633  3968.477783   \n",
      "10  123.182640    33.180889        1.106030  130.313492  3968.477783   \n",
      "11   46.361496    12.193131        0.393327   50.069202  3968.477783   \n",
      "\n",
      "    solrad_annual  capacity_factor  \n",
      "0        3.274304        11.325564  \n",
      "1        3.274304        11.325564  \n",
      "2        3.274304        11.325564  \n",
      "3        3.274304        11.325564  \n",
      "4        3.274304        11.325564  \n",
      "5        3.274304        11.325564  \n",
      "6        3.274304        11.325564  \n",
      "7        3.274304        11.325564  \n",
      "8        3.274304        11.325564  \n",
      "9        3.274304        11.325564  \n",
      "10       3.274304        11.325564  \n",
      "11       3.274304        11.325564  ,     ac_monthly  poa_monthly  solrad_monthly  dc_monthly    ac_annual  \\\n",
      "0    91.743683    24.000618        0.774213   97.525467  3883.735107   \n",
      "1   240.393021    64.944107        2.319432  251.887741  3883.735107   \n",
      "2   465.085358   132.407501        4.271210  488.552277  3883.735107   \n",
      "3   537.209961   158.244720        5.274824  564.545227  3883.735107   \n",
      "4   486.002472   151.623535        4.891082  510.817444  3883.735107   \n",
      "5   460.477692   146.522110        4.884070  485.164398  3883.735107   \n",
      "6   460.437042   148.559738        4.792250  484.832642  3883.735107   \n",
      "7   407.982513   129.176819        4.166994  429.249420  3883.735107   \n",
      "8   326.941833   100.289696        3.342990  343.781952  3883.735107   \n",
      "9   234.407715    67.216301        2.168268  247.089813  3883.735107   \n",
      "10  125.363297    33.775002        1.125833  132.559402  3883.735107   \n",
      "11   47.690315    12.535530        0.404372   51.434311  3883.735107   \n",
      "\n",
      "    solrad_annual  capacity_factor  \n",
      "0        3.201295        11.083719  \n",
      "1        3.201295        11.083719  \n",
      "2        3.201295        11.083719  \n",
      "3        3.201295        11.083719  \n",
      "4        3.201295        11.083719  \n",
      "5        3.201295        11.083719  \n",
      "6        3.201295        11.083719  \n",
      "7        3.201295        11.083719  \n",
      "8        3.201295        11.083719  \n",
      "9        3.201295        11.083719  \n",
      "10       3.201295        11.083719  \n",
      "11       3.201295        11.083719  ]\n"
     ]
    }
   ],
   "source": [
    "nrel_long_tilt = []\n",
    "tilts = [5, 10, 15, 20, 25, 30, 35, 40, 45, 50, 55, 60, 65, 70]\n",
    "for i in range(len(tilts)):\n",
    "    list_parameters = {\"format\": 'JSON', \"api_key\": \"DEMO_KEY\", \"system_capacity\": 4, \"module_type\": 0, \"losses\": 14.08,\n",
    "              \"array_type\": 0, \"tilt\": tilts[i], \"azimuth\": 180, \"lat\": 64.82, \"lon\": -147.87, \"dataset\": 'tmy2'}\n",
    "    json_response = requests.get(\"https://developer.nrel.gov/api/pvwatts/v6\", params = list_parameters).json()\n",
    "    new_dataframe = pd.DataFrame(data = json_response['outputs'])\n",
    "    nrel_long_tilt.append(new_dataframe)\n",
    "print(nrel_long_tilt)"
   ]
  },
  {
   "cell_type": "code",
   "execution_count": 81,
   "metadata": {
    "collapsed": true
   },
   "outputs": [
    {
     "name": "stdout",
     "output_type": "stream",
     "text": [
      "[3200.61279296875, 3385.348388671875, 3552.159912109375, 3697.927734375, 3821.869384765625, 3922.596923828125, 3999.150146484375, 4051.975341796875, 4081.388427734375, 4087.587646484375, 4070.912109375, 4031.055419921875, 3968.477783203125, 3883.735107421875]\n"
     ]
    }
   ],
   "source": [
    "long_annual_production = []\n",
    "for i in range(len(tilts)):\n",
    "    long_annual_production.append(nrel_long_tilt[i]['ac_annual'][2])\n",
    "print(long_annual_production)"
   ]
  },
  {
   "cell_type": "code",
   "execution_count": 82,
   "metadata": {},
   "outputs": [
    {
     "data": {
      "text/plain": [
       "Text(0.5, 1.0, 'Annual Production vs Tilt')"
      ]
     },
     "execution_count": 82,
     "metadata": {},
     "output_type": "execute_result"
    },
    {
     "data": {
      "image/png": "[encoded data removed]",
      "text/plain": [
       "<Figure size 432x288 with 1 Axes>"
      ]
     },
     "metadata": {
      "needs_background": "light"
     },
     "output_type": "display_data"
    }
   ],
   "source": [
    "plt.plot(tilts, long_annual_production)\n",
    "plt.xlabel(\"Install Tilt Angle (Degrees)\")\n",
    "plt.ylabel(\"Annual AC Output (kWh)\")\n",
    "plt.title(\"Annual Production vs Tilt\")"
   ]
  },
  {
   "cell_type": "code",
   "execution_count": null,
   "metadata": {},
   "outputs": [],
   "source": []
  }
 ],
 "metadata": {
  "kernelspec": {
   "display_name": "Python 3",
   "language": "python",
   "name": "python3"
  },
  "language_info": {
   "codemirror_mode": {
    "name": "ipython",
    "version": 3
   },
   "file_extension": ".py",
   "mimetype": "text/x-python",
   "name": "python",
   "nbconvert_exporter": "python",
   "pygments_lexer": "ipython3",
   "version": "3.6.8"
  }
 },
 "nbformat": 4,
 "nbformat_minor": 2
}
