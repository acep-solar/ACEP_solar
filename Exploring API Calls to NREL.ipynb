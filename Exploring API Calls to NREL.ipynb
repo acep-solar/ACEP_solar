{
 "cells": [
  {
   "cell_type": "markdown",
   "metadata": {},
   "source": [
    "To do this, we're going to start by following along with the tutorial found here: https://www.dataquest.io/blog/python-api-tutorial/\n",
    "in the hopes of getting a basic feel for calling APIs. After we get some idea of what we're doing, we'll move into actually working with the NREL API."
   ]
  },
  {
   "cell_type": "code",
   "execution_count": 1,
   "metadata": {},
   "outputs": [],
   "source": [
    "import requests"
   ]
  },
  {
   "cell_type": "code",
   "execution_count": 2,
   "metadata": {},
   "outputs": [
    {
     "name": "stdout",
     "output_type": "stream",
     "text": [
      "200\n"
     ]
    }
   ],
   "source": [
    "#First we'll work with the Open-Notify API to get a feel for working with requests, before we have to sign up with NREL.\n",
    "response = requests.get(\"http://api.open-notify.org/iss-now.json\")\n",
    "print(response.status_code)"
   ]
  },
  {
   "cell_type": "markdown",
   "metadata": {},
   "source": [
    "Ok, so 200 means that we got our data as expected. \n",
    "We can get other responses too."
   ]
  },
  {
   "cell_type": "code",
   "execution_count": 3,
   "metadata": {},
   "outputs": [
    {
     "name": "stdout",
     "output_type": "stream",
     "text": [
      "404\n"
     ]
    }
   ],
   "source": [
    "response = requests.get(\"http://api.open-notify.org/iss-pass\")\n",
    "print(response.status_code)"
   ]
  },
  {
   "cell_type": "markdown",
   "metadata": {},
   "source": [
    "By calling a bad url, we get 404, which means resource not found on the server."
   ]
  },
  {
   "cell_type": "code",
   "execution_count": 4,
   "metadata": {},
   "outputs": [
    {
     "name": "stdout",
     "output_type": "stream",
     "text": [
      "400\n"
     ]
    }
   ],
   "source": [
    "response = requests.get(\"http://api.open-notify.org/iss-pass.json\")\n",
    "print(response.status_code)"
   ]
  },
  {
   "cell_type": "markdown",
   "metadata": {},
   "source": [
    "We get 400 because we made a bad request. This particular request requires you to pass additional parameters, latitude and longitude. "
   ]
  },
  {
   "cell_type": "code",
   "execution_count": 5,
   "metadata": {},
   "outputs": [
    {
     "name": "stdout",
     "output_type": "stream",
     "text": [
      "b'{\\n  \"message\": \"success\", \\n  \"request\": {\\n    \"altitude\": 100, \\n    \"datetime\": 1556073369, \\n    \"latitude\": 40.71, \\n    \"longitude\": -74.0, \\n    \"passes\": 5\\n  }, \\n  \"response\": [\\n    {\\n      \"duration\": 487, \\n      \"risetime\": 1556099161\\n    }, \\n    {\\n      \"duration\": 646, \\n      \"risetime\": 1556104844\\n    }, \\n    {\\n      \"duration\": 599, \\n      \"risetime\": 1556110682\\n    }, \\n    {\\n      \"duration\": 550, \\n      \"risetime\": 1556116560\\n    }, \\n    {\\n      \"duration\": 604, \\n      \"risetime\": 1556122384\\n    }\\n  ]\\n}\\n'\n"
     ]
    }
   ],
   "source": [
    "#In order to add those parameters, we'll pass a dictionary to the requests package that contians those params.\n",
    "parameters = {\"lat\": 40.71, \"lon\": -74}\n",
    "response = requests.get(\"http://api.open-notify.org/iss-pass.json\", params = parameters)\n",
    "#To get the data that the request returned, we can specify .content\n",
    "print(response.content)"
   ]
  },
  {
   "cell_type": "markdown",
   "metadata": {},
   "source": [
    "Ok, so that above is obviously awful. We'll have to use JSON to format the string. \n",
    "We have to input the JSON package found in python to interact with them, but we can do a lot with it. "
   ]
  },
  {
   "cell_type": "code",
   "execution_count": 6,
   "metadata": {},
   "outputs": [],
   "source": [
    "import json"
   ]
  },
  {
   "cell_type": "code",
   "execution_count": 13,
   "metadata": {},
   "outputs": [
    {
     "name": "stdout",
     "output_type": "stream",
     "text": [
      "<class 'str'>\n",
      "<class 'list'>\n",
      "['Taco Bell', 'Shake Shack', 'Chipotle']\n",
      "[\"Taco Bell\", \"Shake Shack\", \"Chipotle\"]\n",
      "<class 'str'>\n",
      "<class 'dict'>\n"
     ]
    }
   ],
   "source": [
    "best_food_chains = [\"Taco Bell\", \"Shake Shack\", \"Chipotle\"]\n",
    "\n",
    "# Use json.dumps to convert best_food_chains to a string.\n",
    "best_food_chains_string = json.dumps(best_food_chains)\n",
    "\n",
    "# We've successfully converted our list to a string.\n",
    "print(type(best_food_chains_string))\n",
    "\n",
    "# Convert best_food_chains_string back into a list\n",
    "print(type(json.loads(best_food_chains_string)))\n",
    "print(json.loads(best_food_chains_string))\n",
    "print(best_food_chains_string)\n",
    "\n",
    "# Make a dictionary\n",
    "fast_food_franchise = {\n",
    "    \"Subway\": 24722,\n",
    "    \"McDonalds\": 14098,\n",
    "    \"Starbucks\": 10821,\n",
    "    \"Pizza Hut\": 7600\n",
    "}\n",
    "\n",
    "# We can also dump a dictionary to a string and load it.\n",
    "fast_food_franchise_string = json.dumps(fast_food_franchise)\n",
    "print(type(fast_food_franchise_string))\n",
    "print(type(fast_food_franchise))"
   ]
  },
  {
   "cell_type": "code",
   "execution_count": 14,
   "metadata": {},
   "outputs": [
    {
     "name": "stdout",
     "output_type": "stream",
     "text": [
      "<class 'dict'>\n",
      "{'message': 'success', 'request': {'altitude': 100, 'datetime': 1556074623, 'latitude': 37.78, 'longitude': -122.41, 'passes': 5}, 'response': [{'duration': 511, 'risetime': 1556110224}, {'duration': 645, 'risetime': 1556115925}, {'duration': 560, 'risetime': 1556121792}, {'duration': 477, 'risetime': 1556127702}, {'duration': 556, 'risetime': 1556133532}]}\n"
     ]
    }
   ],
   "source": [
    "#Ok, so there's some idiosyncracies there, but I think that's the gist of putting in and out of JSON. \n",
    "#Let's move to JSON and the API specifically\n",
    "\n",
    "# Make the same request we did earlier, but with the coordinates of San Francisco instead.\n",
    "parameters = {\"lat\": 37.78, \"lon\": -122.41}\n",
    "response = requests.get(\"http://api.open-notify.org/iss-pass.json\", params=parameters)\n",
    "\n",
    "# Get the response data as a python object.  Verify that it's a dictionary.\n",
    "data = response.json()\n",
    "print(type(data))\n",
    "print(data)"
   ]
  },
  {
   "cell_type": "code",
   "execution_count": 17,
   "metadata": {},
   "outputs": [
    {
     "name": "stdout",
     "output_type": "stream",
     "text": [
      "{'Server': 'nginx/1.10.3', 'Date': 'Wed, 24 Apr 2019 02:57:03 GMT', 'Content-Type': 'application/json', 'Content-Length': '521', 'Connection': 'keep-alive', 'Via': '1.1 vegur'}\n"
     ]
    }
   ],
   "source": [
    "print(response.headers)"
   ]
  },
  {
   "cell_type": "code",
   "execution_count": 18,
   "metadata": {},
   "outputs": [
    {
     "name": "stdout",
     "output_type": "stream",
     "text": [
      "application/json\n"
     ]
    }
   ],
   "source": [
    "#To access a specific entry\n",
    "print(response.headers['content-type'])"
   ]
  },
  {
   "cell_type": "markdown",
   "metadata": {},
   "source": [
    "Ok, that's the whole of the tutorial on APIs. I think there's enough there to get started on interacting with the NREL site. "
   ]
  },
  {
   "cell_type": "code",
   "execution_count": 24,
   "metadata": {},
   "outputs": [],
   "source": [
    "#GET /api/pvwatts/v6.format?parameters\n",
    "#tilt = [15, 20, 25, 30, 35, 40, 45, 50, 55, 60, 65, 70, 75, 80, 85]\n",
    "parameters = {\"format\": 'JSON', \"api_key\": \"DEMO_KEY\", \"system_capacity\": 4, \"module_type\": 0, \"losses\": 14.08,\n",
    "              \"array_type\": 0, \"tilt\": 45, \"azimuth\": 180, \"lat\": 64.82, \"lon\": -147.87, \"dataset\": 'tmy2'}\n",
    "nrel_response = requests.get(\"https://developer.nrel.gov/api/pvwatts/v6\", params = parameters)"
   ]
  },
  {
   "cell_type": "code",
   "execution_count": 32,
   "metadata": {},
   "outputs": [
    {
     "name": "stdout",
     "output_type": "stream",
     "text": [
      "b'{\"inputs\":{\"format\":\"JSON\",\"system_capacity\":\"4\",\"module_type\":\"0\",\"losses\":\"14.08\",\"array_type\":\"0\",\"tilt\":\"45\",\"azimuth\":\"180\",\"lat\":\"64.82\",\"lon\":\"-147.87\",\"dataset\":\"tmy2\"},\"errors\":[],\"warnings\":[],\"version\":\"1.0.1\",\"ssc_info\":{\"version\":45,\"build\":\"Linux 64 bit GNU/C++ Jul  7 2015 14:24:09\"},\"station_info\":{\"lat\":64.81666564941406,\"lon\":-147.86666870117188,\"elev\":138.0,\"tz\":-9.0,\"location\":\"26411\",\"city\":\"FAIRBANKS\",\"state\":\"AK\",\"solar_resource_file\":\"26411.tm2\",\"distance\":363},\"outputs\":{\"ac_monthly\":[75.29331970214844,212.30104064941406,450.2816467285156,572.53564453125,555.1434936523438,542.8285522460938,532.1309814453125,449.814697265625,330.38067626953125,217.23141479492188,105.97759246826172,37.46936798095703],\"poa_monthly\":[19.79026222229004,57.29265594482422,127.40550994873047,168.2696075439453,173.01815795898438,172.3505096435547,171.27613830566406,141.96417236328125,101.07383728027344,62.22165298461914,28.594524383544922,9.974127769470215],\"solrad_monthly\":[0.6383955478668213,2.046166181564331,4.1098551750183105,5.608986854553223,5.581231117248535,5.745017051696777,5.525036811828613,4.579489231109619,3.3691279888153076,2.007150173187256,0.9531508088111877,0.3217460513114929],\"dc_monthly\":[80.57490539550781,222.8466339111328,471.1372375488281,600.56298828125,582.278076171875,570.2353515625,558.8668212890625,472.423583984375,347.2431335449219,229.2576446533203,112.5851058959961,40.926231384277344],\"ac_annual\":4081.388427734375,\"solrad_annual\":3.373779535293579,\"capacity_factor\":11.647798538208008}}'\n"
     ]
    }
   ],
   "source": [
    "print(nrel_response.content)"
   ]
  },
  {
   "cell_type": "code",
   "execution_count": 31,
   "metadata": {},
   "outputs": [
    {
     "name": "stdout",
     "output_type": "stream",
     "text": [
      "{'Server': 'openresty', 'Date': 'Wed, 24 Apr 2019 03:45:05 GMT', 'Content-Type': 'application/json; charset=utf-8', 'Transfer-Encoding': 'chunked', 'Connection': 'keep-alive', 'Vary': 'Accept-Encoding', 'X-RateLimit-Limit': '40', 'X-RateLimit-Remaining': '38', 'Access-Control-Allow-Origin': '*', 'Access-Control-Allow-Methods': 'GET, POST, OPTIONS', 'Access-Control-Max-Age': '1728000', 'ETag': 'W/\"d2729409da502ff7d1a6f5ca61cd7ecc\"', 'Cache-Control': 'max-age=0, private, must-revalidate', 'X-Request-Id': '56549a40-6310-4d73-bc1f-e48317e16f6f', 'X-Runtime': '0.273151', 'Content-Encoding': 'gzip', 'Age': '0', 'Via': 'https/1.1 api-umbrella (ApacheTrafficServer [cMsSf ])', 'X-Cache': 'MISS', 'Strict-Transport-Security': 'max-age=31536000; preload'}\n"
     ]
    }
   ],
   "source": [
    "print(nrel_response.headers)"
   ]
  },
  {
   "cell_type": "code",
   "execution_count": 34,
   "metadata": {},
   "outputs": [
    {
     "name": "stdout",
     "output_type": "stream",
     "text": [
      "200\n"
     ]
    }
   ],
   "source": [
    "print(nrel_response.status_code)"
   ]
  },
  {
   "cell_type": "code",
   "execution_count": 36,
   "metadata": {},
   "outputs": [
    {
     "name": "stdout",
     "output_type": "stream",
     "text": [
      "<class 'requests.models.Response'>\n"
     ]
    }
   ],
   "source": [
    "print(type(nrel_response))"
   ]
  },
  {
   "cell_type": "code",
   "execution_count": 41,
   "metadata": {},
   "outputs": [
    {
     "data": {
      "text/plain": [
       "'{\"inputs\":{\"format\":\"JSON\",\"system_capacity\":\"4\",\"module_type\":\"0\",\"losses\":\"14.08\",\"array_type\":\"0\",\"tilt\":\"45\",\"azimuth\":\"180\",\"lat\":\"64.82\",\"lon\":\"-147.87\",\"dataset\":\"tmy2\"},\"errors\":[],\"warnings\":[],\"version\":\"1.0.1\",\"ssc_info\":{\"version\":45,\"build\":\"Linux 64 bit GNU/C++ Jul  7 2015 14:24:09\"},\"station_info\":{\"lat\":64.81666564941406,\"lon\":-147.86666870117188,\"elev\":138.0,\"tz\":-9.0,\"location\":\"26411\",\"city\":\"FAIRBANKS\",\"state\":\"AK\",\"solar_resource_file\":\"26411.tm2\",\"distance\":363},\"outputs\":{\"ac_monthly\":[75.29331970214844,212.30104064941406,450.2816467285156,572.53564453125,555.1434936523438,542.8285522460938,532.1309814453125,449.814697265625,330.38067626953125,217.23141479492188,105.97759246826172,37.46936798095703],\"poa_monthly\":[19.79026222229004,57.29265594482422,127.40550994873047,168.2696075439453,173.01815795898438,172.3505096435547,171.27613830566406,141.96417236328125,101.07383728027344,62.22165298461914,28.594524383544922,9.974127769470215],\"solrad_monthly\":[0.6383955478668213,2.046166181564331,4.1098551750183105,5.608986854553223,5.581231117248535,5.745017051696777,5.525036811828613,4.579489231109619,3.3691279888153076,2.007150173187256,0.9531508088111877,0.3217460513114929],\"dc_monthly\":[80.57490539550781,222.8466339111328,471.1372375488281,600.56298828125,582.278076171875,570.2353515625,558.8668212890625,472.423583984375,347.2431335449219,229.2576446533203,112.5851058959961,40.926231384277344],\"ac_annual\":4081.388427734375,\"solrad_annual\":3.373779535293579,\"capacity_factor\":11.647798538208008}}'"
      ]
     },
     "execution_count": 41,
     "metadata": {},
     "output_type": "execute_result"
    }
   ],
   "source": [
    "nrel_response.text"
   ]
  },
  {
   "cell_type": "code",
   "execution_count": 45,
   "metadata": {},
   "outputs": [
    {
     "data": {
      "text/plain": [
       "{'inputs': {'format': 'JSON',\n",
       "  'system_capacity': '4',\n",
       "  'module_type': '0',\n",
       "  'losses': '14.08',\n",
       "  'array_type': '0',\n",
       "  'tilt': '45',\n",
       "  'azimuth': '180',\n",
       "  'lat': '64.82',\n",
       "  'lon': '-147.87',\n",
       "  'dataset': 'tmy2'},\n",
       " 'errors': [],\n",
       " 'warnings': [],\n",
       " 'version': '1.0.1',\n",
       " 'ssc_info': {'version': 45,\n",
       "  'build': 'Linux 64 bit GNU/C++ Jul  7 2015 14:24:09'},\n",
       " 'station_info': {'lat': 64.81666564941406,\n",
       "  'lon': -147.86666870117188,\n",
       "  'elev': 138.0,\n",
       "  'tz': -9.0,\n",
       "  'location': '26411',\n",
       "  'city': 'FAIRBANKS',\n",
       "  'state': 'AK',\n",
       "  'solar_resource_file': '26411.tm2',\n",
       "  'distance': 363},\n",
       " 'outputs': {'ac_monthly': [75.29331970214844,\n",
       "   212.30104064941406,\n",
       "   450.2816467285156,\n",
       "   572.53564453125,\n",
       "   555.1434936523438,\n",
       "   542.8285522460938,\n",
       "   532.1309814453125,\n",
       "   449.814697265625,\n",
       "   330.38067626953125,\n",
       "   217.23141479492188,\n",
       "   105.97759246826172,\n",
       "   37.46936798095703],\n",
       "  'poa_monthly': [19.79026222229004,\n",
       "   57.29265594482422,\n",
       "   127.40550994873047,\n",
       "   168.2696075439453,\n",
       "   173.01815795898438,\n",
       "   172.3505096435547,\n",
       "   171.27613830566406,\n",
       "   141.96417236328125,\n",
       "   101.07383728027344,\n",
       "   62.22165298461914,\n",
       "   28.594524383544922,\n",
       "   9.974127769470215],\n",
       "  'solrad_monthly': [0.6383955478668213,\n",
       "   2.046166181564331,\n",
       "   4.1098551750183105,\n",
       "   5.608986854553223,\n",
       "   5.581231117248535,\n",
       "   5.745017051696777,\n",
       "   5.525036811828613,\n",
       "   4.579489231109619,\n",
       "   3.3691279888153076,\n",
       "   2.007150173187256,\n",
       "   0.9531508088111877,\n",
       "   0.3217460513114929],\n",
       "  'dc_monthly': [80.57490539550781,\n",
       "   222.8466339111328,\n",
       "   471.1372375488281,\n",
       "   600.56298828125,\n",
       "   582.278076171875,\n",
       "   570.2353515625,\n",
       "   558.8668212890625,\n",
       "   472.423583984375,\n",
       "   347.2431335449219,\n",
       "   229.2576446533203,\n",
       "   112.5851058959961,\n",
       "   40.926231384277344],\n",
       "  'ac_annual': 4081.388427734375,\n",
       "  'solrad_annual': 3.373779535293579,\n",
       "  'capacity_factor': 11.647798538208008}}"
      ]
     },
     "execution_count": 45,
     "metadata": {},
     "output_type": "execute_result"
    }
   ],
   "source": [
    "#Ok, so KEY DETAIL HERE: json is a method and requires the parenthetical after the call. Tragic. \n",
    "nrel_response.json()"
   ]
  },
  {
   "cell_type": "code",
   "execution_count": 46,
   "metadata": {},
   "outputs": [
    {
     "data": {
      "text/plain": [
       "{'ac_monthly': [75.29331970214844,\n",
       "  212.30104064941406,\n",
       "  450.2816467285156,\n",
       "  572.53564453125,\n",
       "  555.1434936523438,\n",
       "  542.8285522460938,\n",
       "  532.1309814453125,\n",
       "  449.814697265625,\n",
       "  330.38067626953125,\n",
       "  217.23141479492188,\n",
       "  105.97759246826172,\n",
       "  37.46936798095703],\n",
       " 'poa_monthly': [19.79026222229004,\n",
       "  57.29265594482422,\n",
       "  127.40550994873047,\n",
       "  168.2696075439453,\n",
       "  173.01815795898438,\n",
       "  172.3505096435547,\n",
       "  171.27613830566406,\n",
       "  141.96417236328125,\n",
       "  101.07383728027344,\n",
       "  62.22165298461914,\n",
       "  28.594524383544922,\n",
       "  9.974127769470215],\n",
       " 'solrad_monthly': [0.6383955478668213,\n",
       "  2.046166181564331,\n",
       "  4.1098551750183105,\n",
       "  5.608986854553223,\n",
       "  5.581231117248535,\n",
       "  5.745017051696777,\n",
       "  5.525036811828613,\n",
       "  4.579489231109619,\n",
       "  3.3691279888153076,\n",
       "  2.007150173187256,\n",
       "  0.9531508088111877,\n",
       "  0.3217460513114929],\n",
       " 'dc_monthly': [80.57490539550781,\n",
       "  222.8466339111328,\n",
       "  471.1372375488281,\n",
       "  600.56298828125,\n",
       "  582.278076171875,\n",
       "  570.2353515625,\n",
       "  558.8668212890625,\n",
       "  472.423583984375,\n",
       "  347.2431335449219,\n",
       "  229.2576446533203,\n",
       "  112.5851058959961,\n",
       "  40.926231384277344],\n",
       " 'ac_annual': 4081.388427734375,\n",
       " 'solrad_annual': 3.373779535293579,\n",
       " 'capacity_factor': 11.647798538208008}"
      ]
     },
     "execution_count": 46,
     "metadata": {},
     "output_type": "execute_result"
    }
   ],
   "source": [
    "dictionary_nrel_response = nrel_response.json()\n",
    "dictionary_nrel_response['outputs']"
   ]
  },
  {
   "cell_type": "markdown",
   "metadata": {},
   "source": [
    "### Ok! That's more like it.\n",
    "Now, the next step is to transmute this into a usable format for Ge to graph. Then, I'll pass a list of tilt angles with my request and see what I get out. "
   ]
  },
  {
   "cell_type": "code",
   "execution_count": 47,
   "metadata": {},
   "outputs": [],
   "source": [
    "import pandas as pd\n",
    "import numpy as np"
   ]
  },
  {
   "cell_type": "code",
   "execution_count": 49,
   "metadata": {},
   "outputs": [
    {
     "data": {
      "text/html": [
       "<div>\n",
       "<style scoped>\n",
       "    .dataframe tbody tr th:only-of-type {\n",
       "        vertical-align: middle;\n",
       "    }\n",
       "\n",
       "    .dataframe tbody tr th {\n",
       "        vertical-align: top;\n",
       "    }\n",
       "\n",
       "    .dataframe thead th {\n",
       "        text-align: right;\n",
       "    }\n",
       "</style>\n",
       "<table border=\"1\" class=\"dataframe\">\n",
       "  <thead>\n",
       "    <tr style=\"text-align: right;\">\n",
       "      <th></th>\n",
       "      <th>ac_monthly</th>\n",
       "      <th>poa_monthly</th>\n",
       "      <th>solrad_monthly</th>\n",
       "      <th>dc_monthly</th>\n",
       "      <th>ac_annual</th>\n",
       "      <th>solrad_annual</th>\n",
       "      <th>capacity_factor</th>\n",
       "    </tr>\n",
       "  </thead>\n",
       "  <tbody>\n",
       "    <tr>\n",
       "      <th>0</th>\n",
       "      <td>75.293320</td>\n",
       "      <td>19.790262</td>\n",
       "      <td>0.638396</td>\n",
       "      <td>80.574905</td>\n",
       "      <td>4081.388428</td>\n",
       "      <td>3.37378</td>\n",
       "      <td>11.647799</td>\n",
       "    </tr>\n",
       "    <tr>\n",
       "      <th>1</th>\n",
       "      <td>212.301041</td>\n",
       "      <td>57.292656</td>\n",
       "      <td>2.046166</td>\n",
       "      <td>222.846634</td>\n",
       "      <td>4081.388428</td>\n",
       "      <td>3.37378</td>\n",
       "      <td>11.647799</td>\n",
       "    </tr>\n",
       "    <tr>\n",
       "      <th>2</th>\n",
       "      <td>450.281647</td>\n",
       "      <td>127.405510</td>\n",
       "      <td>4.109855</td>\n",
       "      <td>471.137238</td>\n",
       "      <td>4081.388428</td>\n",
       "      <td>3.37378</td>\n",
       "      <td>11.647799</td>\n",
       "    </tr>\n",
       "    <tr>\n",
       "      <th>3</th>\n",
       "      <td>572.535645</td>\n",
       "      <td>168.269608</td>\n",
       "      <td>5.608987</td>\n",
       "      <td>600.562988</td>\n",
       "      <td>4081.388428</td>\n",
       "      <td>3.37378</td>\n",
       "      <td>11.647799</td>\n",
       "    </tr>\n",
       "    <tr>\n",
       "      <th>4</th>\n",
       "      <td>555.143494</td>\n",
       "      <td>173.018158</td>\n",
       "      <td>5.581231</td>\n",
       "      <td>582.278076</td>\n",
       "      <td>4081.388428</td>\n",
       "      <td>3.37378</td>\n",
       "      <td>11.647799</td>\n",
       "    </tr>\n",
       "  </tbody>\n",
       "</table>\n",
       "</div>"
      ],
      "text/plain": [
       "   ac_monthly  poa_monthly  solrad_monthly  dc_monthly    ac_annual  \\\n",
       "0   75.293320    19.790262        0.638396   80.574905  4081.388428   \n",
       "1  212.301041    57.292656        2.046166  222.846634  4081.388428   \n",
       "2  450.281647   127.405510        4.109855  471.137238  4081.388428   \n",
       "3  572.535645   168.269608        5.608987  600.562988  4081.388428   \n",
       "4  555.143494   173.018158        5.581231  582.278076  4081.388428   \n",
       "\n",
       "   solrad_annual  capacity_factor  \n",
       "0        3.37378        11.647799  \n",
       "1        3.37378        11.647799  \n",
       "2        3.37378        11.647799  \n",
       "3        3.37378        11.647799  \n",
       "4        3.37378        11.647799  "
      ]
     },
     "execution_count": 49,
     "metadata": {},
     "output_type": "execute_result"
    }
   ],
   "source": [
    "nrel_dataframe = pd.DataFrame(data = dictionary_nrel_response['outputs'])\n",
    "nrel_dataframe.head()"
   ]
  },
  {
   "cell_type": "code",
   "execution_count": 50,
   "metadata": {},
   "outputs": [],
   "source": [
    "#GOD BLESS PANDAS.\n"
   ]
  },
  {
   "cell_type": "markdown",
   "metadata": {},
   "source": [
    "### Ok, now the next step is to figure out how to handle passing a whole list of tilt angles and getting this type of data out of nrel, and into a dataframe.\n",
    "The big question here is how best to present the data. I guess I could make a list of dataframes? That would allow each of the tilt angles to contain a dataframe that looks like the above? I could reference the position in that list against the position in the list of tilt angles passed to the dataframe to figure out how to label the dataframes too. That seems sensible. "
   ]
  },
  {
   "cell_type": "code",
   "execution_count": 51,
   "metadata": {},
   "outputs": [],
   "source": [
    "tilt = [10, 30, 50, 70]\n",
    "list_parameters = {\"format\": 'JSON', \"api_key\": \"DEMO_KEY\", \"system_capacity\": 4, \"module_type\": 0, \"losses\": 14.08,\n",
    "              \"array_type\": 0, \"tilt\": tilt, \"azimuth\": 180, \"lat\": 64.82, \"lon\": -147.87, \"dataset\": 'tmy2'}\n",
    "nrel_list_response = requests.get(\"https://developer.nrel.gov/api/pvwatts/v6\", params = list_parameters)"
   ]
  },
  {
   "cell_type": "code",
   "execution_count": 52,
   "metadata": {},
   "outputs": [
    {
     "data": {
      "text/plain": [
       "b'{\"inputs\":{\"format\":\"JSON\",\"system_capacity\":\"4\",\"module_type\":\"0\",\"losses\":\"14.08\",\"array_type\":\"0\",\"tilt\":[\"10\",\"30\",\"50\",\"70\"],\"azimuth\":\"180\",\"lat\":\"64.82\",\"lon\":\"-147.87\",\"dataset\":\"tmy2\"},\"errors\":[\"\\'tilt\\' must be a number\"],\"warnings\":[],\"version\":\"1.0.1\",\"ssc_info\":{\"version\":45,\"build\":\"Linux 64 bit GNU/C++ Jul  7 2015 14:24:09\"},\"outputs\":{}}'"
      ]
     },
     "execution_count": 52,
     "metadata": {},
     "output_type": "execute_result"
    }
   ],
   "source": [
    "nrel_list_response.content"
   ]
  },
  {
   "cell_type": "code",
   "execution_count": null,
   "metadata": {},
   "outputs": [],
   "source": [
    "#OK! Really good thing to note! Tilt can't be passed as a list. Not a limit of requests, but the NREL API.\n",
    "#Instead, I guess we make an empty list and append the resultant DataFrames of each request into it. "
   ]
  },
  {
   "cell_type": "code",
   "execution_count": 54,
   "metadata": {},
   "outputs": [
    {
     "data": {
      "text/plain": [
       "50"
      ]
     },
     "execution_count": 54,
     "metadata": {},
     "output_type": "execute_result"
    }
   ],
   "source": [
    "tilt[2]"
   ]
  },
  {
   "cell_type": "code",
   "execution_count": 55,
   "metadata": {},
   "outputs": [
    {
     "name": "stdout",
     "output_type": "stream",
     "text": [
      "    ac_monthly  poa_monthly  solrad_monthly  dc_monthly    ac_annual  \\\n",
      "0    79.867310    20.936970        0.675386   85.286110  4087.587646   \n",
      "1   221.018539    59.637424        2.129908  231.851715  4087.587646   \n",
      "2   459.006989   130.105988        4.196967  480.733307  4087.587646   \n",
      "3   571.288330   168.225449        5.607515  600.020569  4087.587646   \n",
      "4   546.803711   170.411606        5.497149  573.688721  4087.587646   \n",
      "5   531.402588   168.728546        5.624285  558.451782  4087.587646   \n",
      "6   523.032959   168.407486        5.432499  549.494629  4087.587646   \n",
      "7   446.199310   140.970047        4.547421  468.718170  4087.587646   \n",
      "8   333.627411   102.146194        3.404873  350.625366  4087.587646   \n",
      "9   223.574249    64.034477        2.065628  235.828796  4087.587646   \n",
      "10  111.540329    30.056746        1.001891  118.315453  4087.587646   \n",
      "11   40.226490    10.648455        0.343499   43.760967  4087.587646   \n",
      "\n",
      "    solrad_annual  capacity_factor  \n",
      "0        3.377252         11.66549  \n",
      "1        3.377252         11.66549  \n",
      "2        3.377252         11.66549  \n",
      "3        3.377252         11.66549  \n",
      "4        3.377252         11.66549  \n",
      "5        3.377252         11.66549  \n",
      "6        3.377252         11.66549  \n",
      "7        3.377252         11.66549  \n",
      "8        3.377252         11.66549  \n",
      "9        3.377252         11.66549  \n",
      "10       3.377252         11.66549  \n",
      "11       3.377252         11.66549  \n"
     ]
    }
   ],
   "source": [
    "nrel_list_of_responses = []\n",
    "for i in range(len(tilt)):\n",
    "    list_parameters = {\"format\": 'JSON', \"api_key\": \"DEMO_KEY\", \"system_capacity\": 4, \"module_type\": 0, \"losses\": 14.08,\n",
    "              \"array_type\": 0, \"tilt\": tilt[i], \"azimuth\": 180, \"lat\": 64.82, \"lon\": -147.87, \"dataset\": 'tmy2'}\n",
    "    json_response = requests.get(\"https://developer.nrel.gov/api/pvwatts/v6\", params = list_parameters).json()\n",
    "    new_dataframe = pd.DataFrame(data = json_response['outputs'])\n",
    "    nrel_list_of_responses.append(new_dataframe)\n",
    "print(nrel_list_of_responses[2])"
   ]
  },
  {
   "cell_type": "code",
   "execution_count": 56,
   "metadata": {},
   "outputs": [],
   "source": [
    "import matplotlib.pyplot as plt"
   ]
  },
  {
   "cell_type": "code",
   "execution_count": 57,
   "metadata": {},
   "outputs": [
    {
     "name": "stdout",
     "output_type": "stream",
     "text": [
      "0      79.867310\n",
      "1     221.018539\n",
      "2     459.006989\n",
      "3     571.288330\n",
      "4     546.803711\n",
      "5     531.402588\n",
      "6     523.032959\n",
      "7     446.199310\n",
      "8     333.627411\n",
      "9     223.574249\n",
      "10    111.540329\n",
      "11     40.226490\n",
      "Name: ac_monthly, dtype: float64\n"
     ]
    }
   ],
   "source": [
    "print(nrel_list_of_responses[2]['ac_monthly'])"
   ]
  },
  {
   "cell_type": "code",
   "execution_count": 68,
   "metadata": {},
   "outputs": [
    {
     "data": {
      "text/plain": [
       "<matplotlib.legend.Legend at 0x27a0a160748>"
      ]
     },
     "execution_count": 68,
     "metadata": {},
     "output_type": "execute_result"
    },
    {
     "data": {
      "image/png": "[encoded data removed]",
      "text/plain": [
       "<Figure size 432x288 with 1 Axes>"
      ]
     },
     "metadata": {
      "needs_background": "light"
     },
     "output_type": "display_data"
    }
   ],
   "source": [
    "for i in range(len(tilt)):\n",
    "    plt.plot(nrel_list_of_responses[i]['ac_monthly'], label = tilt[i])\n",
    "plt.xlabel(\"Month\")\n",
    "plt.ylabel(\"AC kWh Output\")\n",
    "plt.title(\"Month and AC output with varying tilt angles from PVWatts\")\n",
    "plt.legend()"
   ]
  },
  {
   "cell_type": "code",
   "execution_count": 69,
   "metadata": {},
   "outputs": [
    {
     "name": "stdout",
     "output_type": "stream",
     "text": [
      "[3385.348388671875, 3922.596923828125, 4087.587646484375, 3883.735107421875]\n"
     ]
    }
   ],
   "source": [
    "#Graph of annual production vs. tilt.\n",
    "annual_production = []\n",
    "for i in range(len(tilt)):\n",
    "    annual_production.append(nrel_list_of_responses[i]['ac_annual'][2])\n",
    "print(annual_production)"
   ]
  },
  {
   "cell_type": "code",
   "execution_count": 76,
   "metadata": {},
   "outputs": [
    {
     "data": {
      "text/plain": [
       "Text(0.5, 1.0, 'Annual Production vs Tilt')"
      ]
     },
     "execution_count": 76,
     "metadata": {},
     "output_type": "execute_result"
    },
    {
     "data": {
      "image/png": "[encoded data removed]",
      "text/plain": [
       "<Figure size 432x288 with 1 Axes>"
      ]
     },
     "metadata": {
      "needs_background": "light"
     },
     "output_type": "display_data"
    }
   ],
   "source": [
    "plt.plot(tilt, annual_production)\n",
    "plt.xlabel(\"Install Tilt Angle (Degrees)\")\n",
    "plt.ylabel(\"Annual AC Output (kWh)\")\n",
    "plt.title(\"Annual Production vs Tilt\")"
   ]
  },
  {
   "cell_type": "code",
   "execution_count": null,
   "metadata": {},
   "outputs": [],
   "source": []
  },
  {
   "cell_type": "code",
   "execution_count": null,
   "metadata": {},
   "outputs": [],
   "source": []
  }
 ],
 "metadata": {
  "kernelspec": {
   "display_name": "Python 3",
   "language": "python",
   "name": "python3"
  },
  "language_info": {
   "codemirror_mode": {
    "name": "ipython",
    "version": 3
   },
   "file_extension": ".py",
   "mimetype": "text/x-python",
   "name": "python",
   "nbconvert_exporter": "python",
   "pygments_lexer": "ipython3",
   "version": "3.6.8"
  }
 },
 "nbformat": 4,
 "nbformat_minor": 2
}
