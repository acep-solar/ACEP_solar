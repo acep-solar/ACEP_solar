{
 "cells": [
  {
   "cell_type": "markdown",
   "metadata": {},
   "source": [
    "To do this, we're going to start by following along with the tutorial found here: https://www.dataquest.io/blog/python-api-tutorial/\n",
    "in the hopes of getting a basic feel for calling APIs. After we get some idea of what we're doing, we'll move into actually working with the NREL API."
   ]
  },
  {
   "cell_type": "code",
   "execution_count": 1,
   "metadata": {},
   "outputs": [],
   "source": [
    "import requests"
   ]
  },
  {
   "cell_type": "code",
   "execution_count": 2,
   "metadata": {},
   "outputs": [
    {
     "name": "stdout",
     "output_type": "stream",
     "text": [
      "200\n"
     ]
    }
   ],
   "source": [
    "#First we'll work with the Open-Notify API to get a feel for working with requests, before we have to sign up with NREL.\n",
    "response = requests.get(\"http://api.open-notify.org/iss-now.json\")\n",
    "print(response.status_code)"
   ]
  },
  {
   "cell_type": "markdown",
   "metadata": {},
   "source": [
    "Ok, so 200 means that we got our data as expected. \n",
    "We can get other responses too."
   ]
  },
  {
   "cell_type": "code",
   "execution_count": 3,
   "metadata": {},
   "outputs": [
    {
     "name": "stdout",
     "output_type": "stream",
     "text": [
      "404\n"
     ]
    }
   ],
   "source": [
    "response = requests.get(\"http://api.open-notify.org/iss-pass\")\n",
    "print(response.status_code)"
   ]
  },
  {
   "cell_type": "markdown",
   "metadata": {},
   "source": [
    "By calling a bad url, we get 404, which means resource not found on the server."
   ]
  },
  {
   "cell_type": "code",
   "execution_count": 4,
   "metadata": {},
   "outputs": [
    {
     "name": "stdout",
     "output_type": "stream",
     "text": [
      "400\n"
     ]
    }
   ],
   "source": [
    "response = requests.get(\"http://api.open-notify.org/iss-pass.json\")\n",
    "print(response.status_code)"
   ]
  },
  {
   "cell_type": "markdown",
   "metadata": {},
   "source": [
    "We get 400 because we made a bad request. This particular request requires you to pass additional parameters, latitude and longitude. "
   ]
  },
  {
   "cell_type": "code",
   "execution_count": 5,
   "metadata": {},
   "outputs": [
    {
     "name": "stdout",
     "output_type": "stream",
     "text": [
      "b'{\\n  \"message\": \"success\", \\n  \"request\": {\\n    \"altitude\": 100, \\n    \"datetime\": 1556073369, \\n    \"latitude\": 40.71, \\n    \"longitude\": -74.0, \\n    \"passes\": 5\\n  }, \\n  \"response\": [\\n    {\\n      \"duration\": 487, \\n      \"risetime\": 1556099161\\n    }, \\n    {\\n      \"duration\": 646, \\n      \"risetime\": 1556104844\\n    }, \\n    {\\n      \"duration\": 599, \\n      \"risetime\": 1556110682\\n    }, \\n    {\\n      \"duration\": 550, \\n      \"risetime\": 1556116560\\n    }, \\n    {\\n      \"duration\": 604, \\n      \"risetime\": 1556122384\\n    }\\n  ]\\n}\\n'\n"
     ]
    }
   ],
   "source": [
    "#In order to add those parameters, we'll pass a dictionary to the requests package that contians those params.\n",
    "parameters = {\"lat\": 40.71, \"lon\": -74}\n",
    "response = requests.get(\"http://api.open-notify.org/iss-pass.json\", params = parameters)\n",
    "#To get the data that the request returned, we can specify .content\n",
    "print(response.content)"
   ]
  },
  {
   "cell_type": "markdown",
   "metadata": {},
   "source": [
    "Ok, so that above is obviously awful. We'll have to use JSON to format the string. \n",
    "We have to input the JSON package found in python to interact with them, but we can do a lot with it. "
   ]
  },
  {
   "cell_type": "code",
   "execution_count": 6,
   "metadata": {},
   "outputs": [],
   "source": [
    "import json"
   ]
  },
  {
   "cell_type": "code",
   "execution_count": 13,
   "metadata": {},
   "outputs": [
    {
     "name": "stdout",
     "output_type": "stream",
     "text": [
      "<class 'str'>\n",
      "<class 'list'>\n",
      "['Taco Bell', 'Shake Shack', 'Chipotle']\n",
      "[\"Taco Bell\", \"Shake Shack\", \"Chipotle\"]\n",
      "<class 'str'>\n",
      "<class 'dict'>\n"
     ]
    }
   ],
   "source": [
    "best_food_chains = [\"Taco Bell\", \"Shake Shack\", \"Chipotle\"]\n",
    "\n",
    "# Use json.dumps to convert best_food_chains to a string.\n",
    "best_food_chains_string = json.dumps(best_food_chains)\n",
    "\n",
    "# We've successfully converted our list to a string.\n",
    "print(type(best_food_chains_string))\n",
    "\n",
    "# Convert best_food_chains_string back into a list\n",
    "print(type(json.loads(best_food_chains_string)))\n",
    "print(json.loads(best_food_chains_string))\n",
    "print(best_food_chains_string)\n",
    "\n",
    "# Make a dictionary\n",
    "fast_food_franchise = {\n",
    "    \"Subway\": 24722,\n",
    "    \"McDonalds\": 14098,\n",
    "    \"Starbucks\": 10821,\n",
    "    \"Pizza Hut\": 7600\n",
    "}\n",
    "\n",
    "# We can also dump a dictionary to a string and load it.\n",
    "fast_food_franchise_string = json.dumps(fast_food_franchise)\n",
    "print(type(fast_food_franchise_string))\n",
    "print(type(fast_food_franchise))"
   ]
  },
  {
   "cell_type": "code",
   "execution_count": 14,
   "metadata": {},
   "outputs": [
    {
     "name": "stdout",
     "output_type": "stream",
     "text": [
      "<class 'dict'>\n",
      "{'message': 'success', 'request': {'altitude': 100, 'datetime': 1556074623, 'latitude': 37.78, 'longitude': -122.41, 'passes': 5}, 'response': [{'duration': 511, 'risetime': 1556110224}, {'duration': 645, 'risetime': 1556115925}, {'duration': 560, 'risetime': 1556121792}, {'duration': 477, 'risetime': 1556127702}, {'duration': 556, 'risetime': 1556133532}]}\n"
     ]
    }
   ],
   "source": [
    "#Ok, so there's some idiosyncracies there, but I think that's the gist of putting in and out of JSON. \n",
    "#Let's move to JSON and the API specifically\n",
    "\n",
    "# Make the same request we did earlier, but with the coordinates of San Francisco instead.\n",
    "parameters = {\"lat\": 37.78, \"lon\": -122.41}\n",
    "response = requests.get(\"http://api.open-notify.org/iss-pass.json\", params=parameters)\n",
    "\n",
    "# Get the response data as a python object.  Verify that it's a dictionary.\n",
    "data = response.json()\n",
    "print(type(data))\n",
    "print(data)"
   ]
  },
  {
   "cell_type": "code",
   "execution_count": 17,
   "metadata": {},
   "outputs": [
    {
     "name": "stdout",
     "output_type": "stream",
     "text": [
      "{'Server': 'nginx/1.10.3', 'Date': 'Wed, 24 Apr 2019 02:57:03 GMT', 'Content-Type': 'application/json', 'Content-Length': '521', 'Connection': 'keep-alive', 'Via': '1.1 vegur'}\n"
     ]
    }
   ],
   "source": [
    "print(response.headers)"
   ]
  },
  {
   "cell_type": "code",
   "execution_count": 18,
   "metadata": {},
   "outputs": [
    {
     "name": "stdout",
     "output_type": "stream",
     "text": [
      "application/json\n"
     ]
    }
   ],
   "source": [
    "#To access a specific entry\n",
    "print(response.headers['content-type'])"
   ]
  },
  {
   "cell_type": "markdown",
   "metadata": {},
   "source": [
    "Ok, that's the whole of the tutorial on APIs. I think there's enough there to get started on interacting with the NREL site. "
   ]
  },
  {
   "cell_type": "code",
   "execution_count": 24,
   "metadata": {},
   "outputs": [],
   "source": [
    "#GET /api/pvwatts/v6.format?parameters\n",
    "#tilt = [15, 20, 25, 30, 35, 40, 45, 50, 55, 60, 65, 70, 75, 80, 85]\n",
    "parameters = {\"format\": 'JSON', \"api_key\": \"DEMO_KEY\", \"system_capacity\": 4, \"module_type\": 0, \"losses\": 14.08,\n",
    "              \"array_type\": 0, \"tilt\": 45, \"azimuth\": 180, \"lat\": 64.82, \"lon\": -147.87, \"dataset\": 'tmy2'}\n",
    "nrel_response = requests.get(\"https://developer.nrel.gov/api/pvwatts/v6\", params = parameters)"
   ]
  },
  {
   "cell_type": "code",
   "execution_count": 25,
   "metadata": {},
   "outputs": [
    {
     "name": "stdout",
     "output_type": "stream",
     "text": [
      "b'{\"inputs\":{\"format\":\"JSON\",\"system_capacity\":\"4\",\"module_type\":\"0\",\"losses\":\"14.08\",\"array_type\":\"0\",\"tilt\":\"45\",\"azimuth\":\"180\",\"lat\":\"64.82\",\"lon\":\"-147.87\",\"dataset\":\"tmy2\"},\"errors\":[],\"warnings\":[],\"version\":\"1.0.1\",\"ssc_info\":{\"version\":45,\"build\":\"Linux 64 bit GNU/C++ Jul  7 2015 14:24:09\"},\"station_info\":{\"lat\":64.81666564941406,\"lon\":-147.86666870117188,\"elev\":138.0,\"tz\":-9.0,\"location\":\"26411\",\"city\":\"FAIRBANKS\",\"state\":\"AK\",\"solar_resource_file\":\"26411.tm2\",\"distance\":363},\"outputs\":{\"ac_monthly\":[75.29331970214844,212.30104064941406,450.2816467285156,572.53564453125,555.1434936523438,542.8285522460938,532.1309814453125,449.814697265625,330.38067626953125,217.23141479492188,105.97759246826172,37.46936798095703],\"poa_monthly\":[19.79026222229004,57.29265594482422,127.40550994873047,168.2696075439453,173.01815795898438,172.3505096435547,171.27613830566406,141.96417236328125,101.07383728027344,62.22165298461914,28.594524383544922,9.974127769470215],\"solrad_monthly\":[0.6383955478668213,2.046166181564331,4.1098551750183105,5.608986854553223,5.581231117248535,5.745017051696777,5.525036811828613,4.579489231109619,3.3691279888153076,2.007150173187256,0.9531508088111877,0.3217460513114929],\"dc_monthly\":[80.57490539550781,222.8466339111328,471.1372375488281,600.56298828125,582.278076171875,570.2353515625,558.8668212890625,472.423583984375,347.2431335449219,229.2576446533203,112.5851058959961,40.926231384277344],\"ac_annual\":4081.388427734375,\"solrad_annual\":3.373779535293579,\"capacity_factor\":11.647798538208008}}'\n"
     ]
    }
   ],
   "source": [
    "print(nrel_response.content)"
   ]
  },
  {
   "cell_type": "code",
   "execution_count": 27,
   "metadata": {},
   "outputs": [
    {
     "name": "stdout",
     "output_type": "stream",
     "text": [
      "{'Server': 'openresty', 'Date': 'Wed, 24 Apr 2019 03:45:05 GMT', 'Content-Type': 'application/json; charset=utf-8', 'Transfer-Encoding': 'chunked', 'Connection': 'keep-alive', 'Vary': 'Accept-Encoding', 'X-RateLimit-Limit': '40', 'X-RateLimit-Remaining': '38', 'Access-Control-Allow-Origin': '*', 'Access-Control-Allow-Methods': 'GET, POST, OPTIONS', 'Access-Control-Max-Age': '1728000', 'ETag': 'W/\"d2729409da502ff7d1a6f5ca61cd7ecc\"', 'Cache-Control': 'max-age=0, private, must-revalidate', 'X-Request-Id': '56549a40-6310-4d73-bc1f-e48317e16f6f', 'X-Runtime': '0.273151', 'Content-Encoding': 'gzip', 'Age': '0', 'Via': 'https/1.1 api-umbrella (ApacheTrafficServer [cMsSf ])', 'X-Cache': 'MISS', 'Strict-Transport-Security': 'max-age=31536000; preload'}\n"
     ]
    }
   ],
   "source": [
    "print(nrel_response.headers)"
   ]
  },
  {
   "cell_type": "code",
   "execution_count": 29,
   "metadata": {},
   "outputs": [
    {
     "ename": "KeyError",
     "evalue": "'output'",
     "output_type": "error",
     "traceback": [
      "\u001b[1;31m---------------------------------------------------------------------------\u001b[0m",
      "\u001b[1;31mKeyError\u001b[0m                                  Traceback (most recent call last)",
      "\u001b[1;32m<ipython-input-29-cf1df2498b64>\u001b[0m in \u001b[0;36m<module>\u001b[1;34m\u001b[0m\n\u001b[1;32m----> 1\u001b[1;33m \u001b[0mprint\u001b[0m\u001b[1;33m(\u001b[0m\u001b[0mnrel_response\u001b[0m\u001b[1;33m.\u001b[0m\u001b[0mheaders\u001b[0m\u001b[1;33m[\u001b[0m\u001b[1;34m'output'\u001b[0m\u001b[1;33m]\u001b[0m\u001b[1;33m)\u001b[0m\u001b[1;33m\u001b[0m\u001b[1;33m\u001b[0m\u001b[0m\n\u001b[0m",
      "\u001b[1;32m~\\Miniconda3\\lib\\site-packages\\requests\\structures.py\u001b[0m in \u001b[0;36m__getitem__\u001b[1;34m(self, key)\u001b[0m\n\u001b[0;32m     50\u001b[0m \u001b[1;33m\u001b[0m\u001b[0m\n\u001b[0;32m     51\u001b[0m     \u001b[1;32mdef\u001b[0m \u001b[0m__getitem__\u001b[0m\u001b[1;33m(\u001b[0m\u001b[0mself\u001b[0m\u001b[1;33m,\u001b[0m \u001b[0mkey\u001b[0m\u001b[1;33m)\u001b[0m\u001b[1;33m:\u001b[0m\u001b[1;33m\u001b[0m\u001b[1;33m\u001b[0m\u001b[0m\n\u001b[1;32m---> 52\u001b[1;33m         \u001b[1;32mreturn\u001b[0m \u001b[0mself\u001b[0m\u001b[1;33m.\u001b[0m\u001b[0m_store\u001b[0m\u001b[1;33m[\u001b[0m\u001b[0mkey\u001b[0m\u001b[1;33m.\u001b[0m\u001b[0mlower\u001b[0m\u001b[1;33m(\u001b[0m\u001b[1;33m)\u001b[0m\u001b[1;33m]\u001b[0m\u001b[1;33m[\u001b[0m\u001b[1;36m1\u001b[0m\u001b[1;33m]\u001b[0m\u001b[1;33m\u001b[0m\u001b[1;33m\u001b[0m\u001b[0m\n\u001b[0m\u001b[0;32m     53\u001b[0m \u001b[1;33m\u001b[0m\u001b[0m\n\u001b[0;32m     54\u001b[0m     \u001b[1;32mdef\u001b[0m \u001b[0m__delitem__\u001b[0m\u001b[1;33m(\u001b[0m\u001b[0mself\u001b[0m\u001b[1;33m,\u001b[0m \u001b[0mkey\u001b[0m\u001b[1;33m)\u001b[0m\u001b[1;33m:\u001b[0m\u001b[1;33m\u001b[0m\u001b[1;33m\u001b[0m\u001b[0m\n",
      "\u001b[1;31mKeyError\u001b[0m: 'output'"
     ]
    }
   ],
   "source": [
    "print(nrel_response.headers['output'])"
   ]
  },
  {
   "cell_type": "code",
   "execution_count": null,
   "metadata": {},
   "outputs": [],
   "source": []
  }
 ],
 "metadata": {
  "kernelspec": {
   "display_name": "Python 3",
   "language": "python",
   "name": "python3"
  },
  "language_info": {
   "codemirror_mode": {
    "name": "ipython",
    "version": 3
   },
   "file_extension": ".py",
   "mimetype": "text/x-python",
   "name": "python",
   "nbconvert_exporter": "python",
   "pygments_lexer": "ipython3",
   "version": "3.6.8"
  }
 },
 "nbformat": 4,
 "nbformat_minor": 2
}
