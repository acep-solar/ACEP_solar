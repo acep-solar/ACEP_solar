{
 "cells": [
  {
   "cell_type": "code",
   "execution_count": 1,
   "metadata": {},
   "outputs": [
    {
     "data": {
      "text/html": [
       "\n",
       "           <script>\n",
       "               \n",
       "                function vct_load_lib(url, callback){\n",
       "                      if(typeof d3 !== 'undefined' &&\n",
       "                         url === 'http://d3js.org/d3.v3.min.js'){\n",
       "                        callback()\n",
       "                      }\n",
       "                      var s = document.createElement('script');\n",
       "                      s.src = url;\n",
       "                      s.async = true;\n",
       "                      s.onreadystatechange = s.onload = callback;\n",
       "                      s.onerror = function(){\n",
       "                        console.warn(\"failed to load library \" + url);\n",
       "                        };\n",
       "                      document.getElementsByTagName(\"head\")[0].appendChild(s);\n",
       "                };\n",
       "                var vincent_event = new CustomEvent(\n",
       "                  \"vincent_libs_loaded\",\n",
       "                  {bubbles: true, cancelable: true}\n",
       "                );\n",
       "                \n",
       "               function load_all_libs(){\n",
       "                  console.log('Loading Vincent libs...')\n",
       "                  vct_load_lib('http://d3js.org/d3.v3.min.js', function(){\n",
       "                  vct_load_lib('http://d3js.org/d3.geo.projection.v0.min.js', function(){\n",
       "                  vct_load_lib('http://wrobstory.github.io/d3-cloud/d3.layout.cloud.js', function(){\n",
       "                  vct_load_lib('http://wrobstory.github.io/vega/vega.v1.3.3.js', function(){\n",
       "                  window.dispatchEvent(vincent_event);\n",
       "                  });\n",
       "                  });\n",
       "                  });\n",
       "                  });\n",
       "               };\n",
       "               if(typeof define === \"function\" && define.amd){\n",
       "                    if (window['d3'] === undefined ||\n",
       "                        window['topojson'] === undefined){\n",
       "                        require.config(\n",
       "                            {paths: {\n",
       "                              d3: 'http://d3js.org/d3.v3.min',\n",
       "                              topojson: 'http://d3js.org/topojson.v1.min'\n",
       "                              }\n",
       "                            }\n",
       "                          );\n",
       "                        require([\"d3\"], function(d3){\n",
       "                            console.log('Loading Vincent from require.js...')\n",
       "                            window.d3 = d3;\n",
       "                            require([\"topojson\"], function(topojson){\n",
       "                                window.topojson = topojson;\n",
       "                                load_all_libs();\n",
       "                            });\n",
       "                        });\n",
       "                    } else {\n",
       "                        load_all_libs();\n",
       "                    };\n",
       "               }else{\n",
       "                    console.log('Require.js not found, loading manually...')\n",
       "                    load_all_libs();\n",
       "               };\n",
       "\n",
       "           </script>"
      ],
      "text/plain": [
       "<IPython.core.display.HTML object>"
      ]
     },
     "metadata": {},
     "output_type": "display_data"
    },
    {
     "data": {
      "application/vnd.jupyter.widget-view+json": {
       "model_id": "865c4c20db534a098bdccb49f18e1f87",
       "version_major": 2,
       "version_minor": 0
      },
      "text/plain": [
       "interactive(children=(IntSlider(value=45, description='tilt_angle', max=80, min=5, step=5), Output()), _dom_cl…"
      ]
     },
     "metadata": {},
     "output_type": "display_data"
    }
   ],
   "source": [
    "from ipywidgets import interact, interactive, fixed, interact_manual\n",
    "import ipywidgets as widgets\n",
    "import vincent\n",
    "import os\n",
    "import json\n",
    "import requests\n",
    "import numpy as np\n",
    "import pandas as pd\n",
    "vincent.core.initialize_notebook()\n",
    "tilt = [5, 10, 15, 20, 25, 30, 35, 40, 45, 50, 55, 60, 65, 70, 75, 80]\n",
    "nrel_list_of_responses = []\n",
    "for i in range(len(tilt)):\n",
    "    list_parameters = {\"format\": 'JSON', \"api_key\": \"DEMO_KEY\", \"system_capacity\": 4, \"module_type\": 0, \"losses\": 14.08,\n",
    "              \"array_type\": 0, \"tilt\": tilt[i], \"azimuth\": 180, \"lat\": 64.82, \"lon\": -147.87, \"dataset\": 'tmy2'}\n",
    "    json_response = requests.get(\"https://developer.nrel.gov/api/pvwatts/v6\", params = list_parameters).json()\n",
    "    new_dataframe = pd.DataFrame(data = json_response['outputs'])\n",
    "    nrel_list_of_responses.append(new_dataframe)\n",
    "def disp_tilt_monthly(tilt_angle):\n",
    "    index = tilt.index(tilt_angle)\n",
    "    tilt_line_graph = vincent.Line(nrel_list_of_responses[index]['ac_monthly'])\n",
    "    tilt_line_graph.axis_titles(x = \"Month\", y = \"Energy Produced (kWh)\")\n",
    "    tilt_line_graph.display()\n",
    "interact(disp_tilt_monthly, tilt_angle = widgets.IntSlider(min = 5, max = 80, step = 5, value = 45));"
   ]
  },
  {
   "cell_type": "code",
   "execution_count": null,
   "metadata": {},
   "outputs": [],
   "source": []
  }
 ],
 "metadata": {
  "kernelspec": {
   "display_name": "Python 3",
   "language": "python",
   "name": "python3"
  },
  "language_info": {
   "codemirror_mode": {
    "name": "ipython",
    "version": 3
   },
   "file_extension": ".py",
   "mimetype": "text/x-python",
   "name": "python",
   "nbconvert_exporter": "python",
   "pygments_lexer": "ipython3",
   "version": "3.7.1"
  },
  "widgets": {
   "application/vnd.jupyter.widget-state+json": {
    "state": {
     "0e18c5c21cdd4e599b0f485b4efe7f57": {
      "model_module": "@jupyter-widgets/base",
      "model_module_version": "1.1.0",
      "model_name": "LayoutModel",
      "state": {}
     },
     "2abe6d2c03a0428c86933cd39dd7f54d": {
      "model_module": "@jupyter-widgets/base",
      "model_module_version": "1.1.0",
      "model_name": "LayoutModel",
      "state": {}
     },
     "643bc18ecf64441e8810a226a83db822": {
      "model_module": "@jupyter-widgets/output",
      "model_module_version": "1.0.0",
      "model_name": "OutputModel",
      "state": {
       "layout": "IPY_MODEL_0e18c5c21cdd4e599b0f485b4efe7f57",
       "outputs": [
        {
         "data": {
          "text/html": "<div id=\"vis672ec4ea83bc49e98b1b4455b1013d84\"></div>\n<script>\n   ( function() {\n     var _do_plot = function() {\n       if (typeof vg === 'undefined') {\n         window.addEventListener('vincent_libs_loaded', _do_plot)\n         return;\n       }\n       vg.parse.spec({\"axes\": [{\"scale\": \"x\", \"title\": \"Month\", \"type\": \"x\"}, {\"scale\": \"y\", \"title\": \"Energy Produced (kWh)\", \"type\": \"y\"}], \"data\": [{\"name\": \"table\", \"values\": [{\"col\": \"ac_monthly\", \"idx\": 0, \"val\": 75.29331970214844}, {\"col\": \"ac_monthly\", \"idx\": 1, \"val\": 212.30104064941406}, {\"col\": \"ac_monthly\", \"idx\": 2, \"val\": 450.2816467285156}, {\"col\": \"ac_monthly\", \"idx\": 3, \"val\": 572.53564453125}, {\"col\": \"ac_monthly\", \"idx\": 4, \"val\": 555.1434936523438}, {\"col\": \"ac_monthly\", \"idx\": 5, \"val\": 542.8285522460938}, {\"col\": \"ac_monthly\", \"idx\": 6, \"val\": 532.1309814453125}, {\"col\": \"ac_monthly\", \"idx\": 7, \"val\": 449.814697265625}, {\"col\": \"ac_monthly\", \"idx\": 8, \"val\": 330.38067626953125}, {\"col\": \"ac_monthly\", \"idx\": 9, \"val\": 217.23141479492188}, {\"col\": \"ac_monthly\", \"idx\": 10, \"val\": 105.97759246826172}, {\"col\": \"ac_monthly\", \"idx\": 11, \"val\": 37.46936798095703}]}], \"height\": 500, \"legends\": [], \"marks\": [{\"from\": {\"data\": \"table\", \"transform\": [{\"keys\": [\"data.col\"], \"type\": \"facet\"}]}, \"marks\": [{\"properties\": {\"enter\": {\"stroke\": {\"field\": \"data.col\", \"scale\": \"color\"}, \"strokeWidth\": {\"value\": 2}, \"x\": {\"field\": \"data.idx\", \"scale\": \"x\"}, \"y\": {\"field\": \"data.val\", \"scale\": \"y\"}}}, \"type\": \"line\"}], \"type\": \"group\"}], \"padding\": \"auto\", \"scales\": [{\"domain\": {\"data\": \"table\", \"field\": \"data.idx\"}, \"name\": \"x\", \"range\": \"width\", \"type\": \"linear\"}, {\"domain\": {\"data\": \"table\", \"field\": \"data.val\"}, \"name\": \"y\", \"nice\": true, \"range\": \"height\"}, {\"domain\": {\"data\": \"table\", \"field\": \"data.col\"}, \"name\": \"color\", \"range\": \"category20\", \"type\": \"ordinal\"}], \"width\": 960}, function(chart) {\n         chart({el: \"#vis672ec4ea83bc49e98b1b4455b1013d84\"}).update();\n       });\n     };\n     _do_plot();\n   })();\n</script>\n<style>.vega canvas {width: 100%;}</style>\n        ",
          "text/plain": "<IPython.core.display.HTML object>"
         },
         "metadata": {},
         "output_type": "display_data"
        }
       ]
      }
     },
     "67070d40e8b84152bed3cb7ee5561533": {
      "model_module": "@jupyter-widgets/controls",
      "model_module_version": "1.4.0",
      "model_name": "IntSliderModel",
      "state": {
       "description": "tilt_angle",
       "layout": "IPY_MODEL_a15f59ef94084462a829fe039fca2042",
       "max": 80,
       "min": 5,
       "step": 5,
       "style": "IPY_MODEL_cb2e495b1845481bb0b52416d8e2d2e3",
       "value": 45
      }
     },
     "a15f59ef94084462a829fe039fca2042": {
      "model_module": "@jupyter-widgets/base",
      "model_module_version": "1.1.0",
      "model_name": "LayoutModel",
      "state": {}
     },
     "cb2e495b1845481bb0b52416d8e2d2e3": {
      "model_module": "@jupyter-widgets/controls",
      "model_module_version": "1.4.0",
      "model_name": "SliderStyleModel",
      "state": {
       "description_width": ""
      }
     },
     "e8f0e7461b1a44fcac3e06bdabb53b8e": {
      "model_module": "@jupyter-widgets/controls",
      "model_module_version": "1.4.0",
      "model_name": "VBoxModel",
      "state": {
       "_dom_classes": [
        "widget-interact"
       ],
       "children": [
        "IPY_MODEL_67070d40e8b84152bed3cb7ee5561533",
        "IPY_MODEL_643bc18ecf64441e8810a226a83db822"
       ],
       "layout": "IPY_MODEL_2abe6d2c03a0428c86933cd39dd7f54d"
      }
     }
    },
    "version_major": 2,
    "version_minor": 0
   }
  }
 },
 "nbformat": 4,
 "nbformat_minor": 2
}
