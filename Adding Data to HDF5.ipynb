{
 "cells": [
  {
   "cell_type": "code",
   "execution_count": 1,
   "metadata": {},
   "outputs": [],
   "source": [
    "import h5py\n",
    "import pandas as pd\n",
    "import numpy as np\n",
    "import hdf5_interface"
   ]
  },
  {
   "cell_type": "code",
   "execution_count": 2,
   "metadata": {},
   "outputs": [],
   "source": [
    "path = '/Users/Jonorato/Documents/DIRECT Classes/Alaska_Project/Solar Panel Data/data 2/'"
   ]
  },
  {
   "cell_type": "code",
   "execution_count": 10,
   "metadata": {},
   "outputs": [],
   "source": [
    "panel = pd.read_excel(path+'Ambler_Shungnak_Kobuk/NWAB_Ambler_cleaned.xlsx')"
   ]
  },
  {
   "cell_type": "code",
   "execution_count": 3,
   "metadata": {},
   "outputs": [],
   "source": [
    "#hdf5_interface.create_hdf5_file(\"alaskan_solar_panel_data\")"
   ]
  },
  {
   "cell_type": "code",
   "execution_count": 3,
   "metadata": {
    "scrolled": true
   },
   "outputs": [
    {
     "name": "stdout",
     "output_type": "stream",
     "text": [
      "This location already exists. Navigating there now.\n"
     ]
    }
   ],
   "source": [
    "#hdf5_interface.add_to_hdf5_file('alaskan_solar_panel_data', path+'Ambler_Shungnak_Kobuk/NWAB_Shungnak_cleaned.xlsx', \"NWAB_Shungnak\")"
   ]
  },
  {
   "cell_type": "code",
   "execution_count": 13,
   "metadata": {},
   "outputs": [],
   "source": [
    "hdf5_interface.update_existing_panel_entry('solar_panel_data_alaska', path+'Wasilla_Palmer/Palmer/westlake_palmer.csv', \"Westlake Palmer\")"
   ]
  },
  {
   "cell_type": "code",
   "execution_count": null,
   "metadata": {},
   "outputs": [],
   "source": []
  },
  {
   "cell_type": "code",
   "execution_count": null,
   "metadata": {},
   "outputs": [],
   "source": []
  },
  {
   "cell_type": "code",
   "execution_count": 2,
   "metadata": {},
   "outputs": [],
   "source": [
    "solar_hdf5 = h5py.File(\"solar_panel_data_alaska.h5\", \"r\")"
   ]
  },
  {
   "cell_type": "code",
   "execution_count": 18,
   "metadata": {},
   "outputs": [],
   "source": [
    "solar_hdf5.close()"
   ]
  },
  {
   "cell_type": "code",
   "execution_count": 232,
   "metadata": {},
   "outputs": [],
   "source": [
    "#new_hdf5 = h5py.File(\"solar_panel_data_alaska\")"
   ]
  },
  {
   "cell_type": "code",
   "execution_count": 215,
   "metadata": {},
   "outputs": [],
   "source": [
    "#copy_hdf5 = h5py.File(\"copied_solar_data.h5\")"
   ]
  },
  {
   "cell_type": "code",
   "execution_count": 258,
   "metadata": {},
   "outputs": [],
   "source": [
    "#h5py.h5o.copy(solar_hdf5.id, b\"Wasilla-Palmer\", new_hdf5.id, b\"Wasilla-Palmer\")"
   ]
  },
  {
   "cell_type": "code",
   "execution_count": 3,
   "metadata": {},
   "outputs": [
    {
     "data": {
      "text/plain": [
       "<KeysViewHDF5 ['Ambler-Shungnak-Kobuk', 'Anchorage', 'Bethel', 'Chickaloon', 'Deering', 'Denali Park', 'Fairbanks', 'Fort Yukon', 'Galena-Koyukuk-Ruby', 'Homer', 'Naknek', 'Noatak', 'Noorvik', 'Soldotna', 'Valdez', 'Wasilla-Palmer']>"
      ]
     },
     "execution_count": 3,
     "metadata": {},
     "output_type": "execute_result"
    }
   ],
   "source": [
    "solar_hdf5.keys()"
   ]
  },
  {
   "cell_type": "code",
   "execution_count": 4,
   "metadata": {},
   "outputs": [],
   "source": [
    "Wasilla = solar_hdf5['Wasilla-Palmer']"
   ]
  },
  {
   "cell_type": "code",
   "execution_count": 5,
   "metadata": {},
   "outputs": [
    {
     "data": {
      "text/plain": [
       "<KeysViewHDF5 ['Alaska Palmer', 'Biscane Palmer', 'Countryfield Wasilla', 'Davis Wasilla', 'Farmloop Palmer', 'Fishhook Palmer', 'Mastellar Solar Palmer', 'Mckeen Palmer', 'Redfox Wasilla', 'Reliance Wasilla', 'Westlake Palmer']>"
      ]
     },
     "execution_count": 5,
     "metadata": {},
     "output_type": "execute_result"
    }
   ],
   "source": [
    "Wasilla.keys()"
   ]
  },
  {
   "cell_type": "code",
   "execution_count": 17,
   "metadata": {},
   "outputs": [
    {
     "data": {
      "text/plain": [
       "array([2.9940e+00, 1.4210e+00, 4.7230e+00, 6.7790e+00, 9.6830e+00,\n",
       "       1.1072e+01, 5.2150e+00, 1.0758e+01, 1.1298e+01, 1.0910e+01,\n",
       "       3.3560e+00, 7.2350e+00, 1.7080e+00, 1.7280e+00, 4.7100e-01,\n",
       "       8.6100e-01, 1.2440e+00, 3.2770e+00, 5.7000e-01, 1.0940e+00,\n",
       "       3.4090e+00, 1.7830e+00, 5.8220e+00, 8.4500e-01, 1.6800e+00,\n",
       "       1.3250e+00, 3.7880e+00, 3.8720e+00, 1.9550e+00, 1.4900e-01,\n",
       "       3.0710e+00, 3.5700e+00, 2.6800e+00, 3.7300e+00, 3.4550e+00,\n",
       "       3.4380e+00, 1.0800e-01, 1.6700e-01, 3.9360e+00, 5.4400e-01,\n",
       "       3.4830e+00, 8.2300e-01, 1.6780e+00, 1.9630e+00, 3.9940e+00,\n",
       "       3.7840e+00, 2.7750e+00, 6.2900e-01, 2.8350e+00, 6.8400e-01,\n",
       "       2.0130e+00, 2.8370e+00, 1.1900e-01, 3.5000e-02, 4.9000e-02,\n",
       "       1.2300e-01, 1.1690e+00, 7.6000e-02, 1.8620e+00, 4.5900e-01,\n",
       "       2.8100e-01, 5.5100e-01, 1.2200e-01, 1.0210e+00, 1.1400e-01,\n",
       "       1.0000e-03, 1.0000e-03, 1.4600e-01, 4.0100e-01, 1.0000e-03,\n",
       "       6.0000e-02, 1.9000e-02, 4.5000e-02, 3.4800e-01, 1.2800e-01,\n",
       "       1.9500e-01, 5.3200e-01, 5.3300e-01, 5.6000e-01, 3.7000e-02,\n",
       "       1.8000e-01, 2.3000e-01, 8.5000e-02, 2.0000e-01, 3.0000e-03,\n",
       "       4.7000e-02, 3.3300e-01, 2.9000e-02, 5.0000e-02, 2.3300e-01,\n",
       "       7.1300e-01, 1.4800e-01, 1.4700e-01, 4.4400e-01, 1.4000e-01,\n",
       "       1.7590e+00, 3.7900e-01, 1.0240e+00, 7.3300e-01, 3.6300e+00,\n",
       "       1.6480e+00, 3.3050e+00, 6.1600e-01, 9.6900e-01, 1.2310e+00,\n",
       "       2.6700e-01, 8.4000e-02, 2.3070e+00, 4.8550e+00, 5.7790e+00,\n",
       "       5.9780e+00, 6.6350e+00, 6.8040e+00, 7.2780e+00, 7.1570e+00,\n",
       "       7.6950e+00, 7.8550e+00, 4.6480e+00, 9.2500e-01, 3.2990e+00,\n",
       "       5.1180e+00, 6.8320e+00, 1.7630e+00, 2.3200e-01, 5.2000e-01,\n",
       "       4.3530e+00, 8.2300e-01, 2.0660e+00, 8.4100e-01, 3.5440e+00,\n",
       "       5.7100e-01, 2.3650e+00, 7.4730e+00, 3.1650e+00, 9.3300e-01,\n",
       "       9.5490e+00, 8.5400e-01, 1.0961e+01, 2.0200e-01, 3.6640e+00,\n",
       "       1.3151e+01, 1.3574e+01, 5.4250e+00, 9.9900e-01, 6.1050e+00,\n",
       "       6.4490e+00, 4.1660e+00, 1.4790e+01, 3.3760e+00, 1.3286e+01,\n",
       "       1.2098e+01, 4.5270e+00, 1.2933e+01, 9.3410e+00, 5.0300e-01,\n",
       "       1.1020e+00, 2.4660e+00, 1.3289e+01, 1.8580e+00, 8.1810e+00,\n",
       "       1.7169e+01, 1.8399e+01, 1.8472e+01, 1.8187e+01, 1.8994e+01,\n",
       "       1.8655e+01, 1.8955e+01, 1.5704e+01, 5.7540e+00, 1.4253e+01,\n",
       "       1.8786e+01, 1.6903e+01, 1.8928e+01, 1.9994e+01, 1.8002e+01,\n",
       "       1.2035e+01, 1.9408e+01, 9.6030e+00, 1.9241e+01, 1.6653e+01,\n",
       "       1.3953e+01, 1.3642e+01, 1.4810e+01, 1.9126e+01, 1.7276e+01,\n",
       "       1.9787e+01, 2.0494e+01, 2.0734e+01, 1.9438e+01, 1.1746e+01,\n",
       "       2.1488e+01, 8.6940e+00, 1.7472e+01, 1.5133e+01, 1.1486e+01,\n",
       "       2.5810e+00, 1.2832e+01, 1.1492e+01, 9.3620e+00, 8.4870e+00,\n",
       "       4.1420e+00, 6.8490e+00, 1.0279e+01, 1.6305e+01, 8.6470e+00,\n",
       "       5.3810e+00, 1.0553e+01, 1.1646e+01, 2.3063e+01, 1.6713e+01,\n",
       "       8.9120e+00, 1.7181e+01, 1.4679e+01, 1.2603e+01, 1.5452e+01,\n",
       "       1.0664e+01, 1.4043e+01, 1.5205e+01, 1.4889e+01, 1.2674e+01,\n",
       "       1.1191e+01, 1.0308e+01, 2.1146e+01, 1.3288e+01, 8.9860e+00,\n",
       "       2.6434e+01, 2.1696e+01, 2.2972e+01, 1.7111e+01, 1.2318e+01,\n",
       "       1.5413e+01, 1.5586e+01, 1.6948e+01, 1.9072e+01, 2.2247e+01,\n",
       "       2.2760e+01, 1.9125e+01, 1.2401e+01, 1.3696e+01, 2.0446e+01,\n",
       "       2.1689e+01, 2.0039e+01, 1.8566e+01, 9.5730e+00, 1.3284e+01,\n",
       "       2.0858e+01, 1.6568e+01, 7.1730e+00, 8.1820e+00, 1.7445e+01,\n",
       "       1.0563e+01, 1.4476e+01, 1.7856e+01, 8.4720e+00, 1.7777e+01,\n",
       "       9.7640e+00, 1.5508e+01, 9.7100e+00, 2.4197e+01, 1.7911e+01,\n",
       "       1.9128e+01, 1.6438e+01, 1.0590e+01, 2.2729e+01, 2.2248e+01,\n",
       "       2.1666e+01, 1.9252e+01, 2.2715e+01, 2.1461e+01, 2.1206e+01,\n",
       "       3.9910e+00, 8.7290e+00, 7.0110e+00, 1.3163e+01, 2.0863e+01,\n",
       "       1.2201e+01, 1.9820e+01, 1.3666e+01, 1.5292e+01, 1.4274e+01,\n",
       "       1.8937e+01, 2.1494e+01, 2.1642e+01, 2.0659e+01, 1.9186e+01,\n",
       "       1.4343e+01, 9.3100e+00, 9.0560e+00, 1.1034e+01, 1.4483e+01,\n",
       "       1.0075e+01, 1.4471e+01, 1.7167e+01, 1.9458e+01, 7.6010e+00,\n",
       "       5.5360e+00, 2.0174e+01, 9.7870e+00, 2.7460e+00, 2.3890e+00,\n",
       "       4.8680e+00, 8.6730e+00, 1.2427e+01, 1.8080e+01, 1.0096e+01,\n",
       "       6.0400e+00, 3.7870e+00, 6.6330e+00, 8.1390e+00, 1.0326e+01,\n",
       "       1.6212e+01, 7.0140e+00, 5.7190e+00, 4.4190e+00, 2.3810e+00,\n",
       "       1.2480e+01, 3.6070e+00, 6.4720e+00, 9.8410e+00, 3.0620e+00,\n",
       "       5.1990e+00, 1.4626e+01, 1.5659e+01, 6.2820e+00, 8.8490e+00,\n",
       "       1.3771e+01, 1.4175e+01, 1.3671e+01, 1.5389e+01, 1.5101e+01,\n",
       "       1.2384e+01, 1.5139e+01, 1.5175e+01, 1.3167e+01, 1.3718e+01,\n",
       "       1.3378e+01, 1.2218e+01, 1.2477e+01, 1.3411e+01, 1.3860e+01,\n",
       "       4.6200e+00, 1.3882e+01, 9.0180e+00, 9.7230e+00, 5.2500e+00,\n",
       "       4.6340e+00, 7.6710e+00, 1.0062e+01, 5.9890e+00, 1.4685e+01,\n",
       "       1.2330e+01, 2.8810e+00, 5.0030e+00, 1.4013e+01, 1.4222e+01,\n",
       "       1.1575e+01, 3.5020e+00, 4.5970e+00, 1.5030e+00, 5.2210e+00,\n",
       "       4.1370e+00, 2.0450e+00, 7.9830e+00, 2.1430e+00, 5.5750e+00,\n",
       "       5.7280e+00, 7.0800e-01, 1.3590e+00, 5.1330e+00, 1.0630e+00,\n",
       "       3.9660e+00, 2.5490e+00, 5.5290e+00, 1.8420e+00, 7.2050e+00,\n",
       "       5.6120e+00, 7.4660e+00, 8.5300e-01, 9.9840e+00, 6.6400e+00,\n",
       "       7.7740e+00, 6.0530e+00, 4.0700e-01, 2.3100e-01, 4.1240e+00,\n",
       "       4.3260e+00, 4.4070e+00, 2.8160e+00, 9.4900e-01, 4.0720e+00,\n",
       "       3.9170e+00, 2.5810e+00, 1.1300e-01, 3.4200e-01, 1.3210e+00,\n",
       "       2.5200e-01, 1.1000e-02, 1.6900e-01, 6.0670e+00, 5.4170e+00,\n",
       "       5.8500e+00, 1.5000e-01, 1.1920e+00, 6.6700e-01, 3.4220e+00,\n",
       "       4.0360e+00, 2.4020e+00, 3.7870e+00, 2.5210e+00, 3.1900e-01,\n",
       "       3.3000e-01, 3.0000e-01, 3.4300e-01, 2.7700e-01, 7.9000e-02,\n",
       "       4.1300e-01, 2.0000e-03, 6.9600e-01, 4.5100e-01, 1.0300e-01,\n",
       "       5.1300e-01, 9.0000e-03, 4.6000e-02, 2.4000e-02, 4.7900e-01,\n",
       "       7.1000e-02, 7.2300e-01, 6.3000e-02, 1.1400e-01, 1.4000e-02,\n",
       "       2.1800e-01, 6.6000e-02, 1.3400e-01, 8.5000e-02, 1.4100e-01,\n",
       "       1.1000e-01, 2.8100e-01, 2.4200e-01, 3.8800e-01, 8.3100e-01,\n",
       "       1.4700e-01, 5.2000e-02, 2.7000e-02, 2.5200e-01, 2.8000e-02,\n",
       "       1.2000e-02, 1.7500e-01, 6.5000e-02, 1.4000e-02, 8.6400e-01,\n",
       "       1.1470e+00, 7.7300e-01, 9.7600e-01, 1.2170e+00, 3.6800e-01,\n",
       "       9.1800e-01, 5.8400e-01, 1.4740e+00, 8.2000e-02, 8.9000e-02,\n",
       "       1.7950e+00, 2.7960e+00, 5.2800e-01, 4.3720e+00, 4.5680e+00,\n",
       "       4.0330e+00, 5.4610e+00, 1.1850e+00, 4.6600e-01, 1.5610e+00,\n",
       "       5.3600e-01, 3.9390e+00, 3.1830e+00, 3.8400e-01, 2.8000e-01,\n",
       "       5.7000e-01, 1.9370e+00, 2.1220e+00, 2.7410e+00, 5.7540e+00,\n",
       "       1.7700e-01, 1.1490e+00, 2.7300e-01, 1.4050e+00, 2.0910e+00,\n",
       "       1.2280e+00, 2.4800e-01, 2.6600e-01, 1.1940e+00, 1.7360e+00,\n",
       "       3.6250e+00, 5.0230e+00, 5.1840e+00, 3.4900e-01, 5.5000e-02,\n",
       "       4.3800e-01, 4.5740e+00, 3.2600e-01, 4.8010e+00, 4.9910e+00,\n",
       "       5.8250e+00, 1.1153e+01, 1.3324e+01, 1.3807e+01, 1.4088e+01,\n",
       "       1.4241e+01, 1.4631e+01, 1.3159e+01, 5.1600e+00, 1.5328e+01,\n",
       "       6.7300e+00, 8.6820e+00, 4.7810e+00, 3.5920e+00, 3.6540e+00,\n",
       "       6.0960e+00, 3.3150e+00, 9.2990e+00, 5.5310e+00, 5.9300e+00,\n",
       "       3.1640e+00, 3.1730e+00, 2.8240e+00, 2.1880e+00, 1.3883e+01,\n",
       "       6.5720e+00, 3.2720e+00, 1.1295e+01, 9.0600e+00, 7.2060e+00,\n",
       "       1.4979e+01, 1.6527e+01, 7.2940e+00, 1.7038e+01, 1.3879e+01,\n",
       "       1.7541e+01, 1.7420e+01, 1.7543e+01, 1.4171e+01, 1.9026e+01,\n",
       "       1.3256e+01, 1.8213e+01, 1.3149e+01, 1.0509e+01, 1.7738e+01,\n",
       "       1.2426e+01, 1.6505e+01, 4.3320e+00, 7.6590e+00, 1.5741e+01,\n",
       "       1.9249e+01, 1.7241e+01, 9.9940e+00, 1.6820e+00, 7.2280e+00,\n",
       "       3.8900e+00, 5.8590e+00, 1.0370e+01, 2.0480e+00, 6.6880e+00,\n",
       "       2.3027e+01, 2.0570e+01])"
      ]
     },
     "execution_count": 17,
     "metadata": {},
     "output_type": "execute_result"
    }
   ],
   "source": [
    "Wasilla['Westlake Palmer'][\"Energy\"][:]"
   ]
  },
  {
   "cell_type": "code",
   "execution_count": 264,
   "metadata": {},
   "outputs": [],
   "source": [
    "new_hdf5.flush()"
   ]
  },
  {
   "cell_type": "code",
   "execution_count": 266,
   "metadata": {},
   "outputs": [],
   "source": [
    "new_hdf5.close()"
   ]
  },
  {
   "cell_type": "code",
   "execution_count": 20,
   "metadata": {
    "scrolled": false
   },
   "outputs": [
    {
     "data": {
      "text/plain": [
       "<KeysViewHDF5 ['Alaska Palmer', 'Biscane Palmer', 'Countryfield Wasilla', 'Davis Wasilla', 'Farmloop Palmer', 'Fishhook Palmer', 'Mastellar Solar Palmer', 'Mckeen Palmer', 'Redfox Wasilla', 'Reliance Wasilla', 'Westlake Palmer']>"
      ]
     },
     "execution_count": 20,
     "metadata": {},
     "output_type": "execute_result"
    }
   ],
   "source": [
    "solar_hdf5['Wasilla-Palmer'].keys()"
   ]
  },
  {
   "cell_type": "code",
   "execution_count": 212,
   "metadata": {},
   "outputs": [],
   "source": [
    "Fairbanks = solar_hdf5['Fairbanks']"
   ]
  },
  {
   "cell_type": "code",
   "execution_count": 213,
   "metadata": {},
   "outputs": [
    {
     "data": {
      "text/plain": [
       "<KeysViewHDF5 ['Albin Fairbanks', 'Bonaire Fairbanks', 'Braun Fairbanks', 'Dashevsky Fairbanks', 'Deer Fairbanks', 'Dukeminier Fairbanks', 'FNSBSD-FMD', 'Grubis Fairbanks', 'Hall North Pole', 'Jorgenson Fairbanks', 'Nortech Tracking', 'RuralAK CCHRC_Sharp170', 'RuralAK CCHRC_SolarWorld165', 'RuralAK Nenana', 'Spirit of Alaska Fairbanks Gillam', 'Spirit of Alaska Fairbanks Johansen', 'Tran Fairbanks', 'UAF Engineering Building', 'UAF Fairbanks', 'Weissman Fairbanks']>"
      ]
     },
     "execution_count": 213,
     "metadata": {},
     "output_type": "execute_result"
    }
   ],
   "source": [
    "Fairbanks.keys()cd documents\n",
    "cd "
   ]
  },
  {
   "cell_type": "code",
   "execution_count": 114,
   "metadata": {},
   "outputs": [],
   "source": [
    "dukeminier = Fairbanks['Dukeminier Fairbanks']"
   ]
  },
  {
   "cell_type": "code",
   "execution_count": 117,
   "metadata": {},
   "outputs": [
    {
     "data": {
      "text/plain": [
       "<HDF5 dataset \"Energy\": shape (1368,), type \"<f8\">"
      ]
     },
     "execution_count": 117,
     "metadata": {},
     "output_type": "execute_result"
    }
   ],
   "source": []
  },
  {
   "cell_type": "code",
   "execution_count": 89,
   "metadata": {},
   "outputs": [],
   "source": [
    "Anchorage = solar_hdf5['Anchorage']"
   ]
  },
  {
   "cell_type": "code",
   "execution_count": 90,
   "metadata": {},
   "outputs": [
    {
     "data": {
      "text/plain": [
       "<KeysViewHDF5 ['16DBoccia', '16LWaller', '16May', '16PCrofut', '16SDowns', '17ARappoport', '17SherKim', '17cwilcox', '17dgroth', '17jfredston', '17jreynold', '17jrpatee', '17jslemons', '17mpennington', '17pjohnson', '17rrogers', 'CIHA_1400Muldoon', 'CIHA_1460Muldoon', 'CIHA_3600Spenard', 'CIHA_7861BetnuCircle', 'Glennhill_Chugiak', 'alumni_anchorage', 'breeze_anchorage', 'fireweed_anchorage', 'huffman_anchorage', 'tahneeta_anchorage', 'tedrow_eagle_river', 'wildwood_anchorage']>"
      ]
     },
     "execution_count": 90,
     "metadata": {},
     "output_type": "execute_result"
    }
   ],
   "source": [
    "Anchorage.keys()"
   ]
  },
  {
   "cell_type": "code",
   "execution_count": 91,
   "metadata": {},
   "outputs": [],
   "source": [
    "Ambler_Shungnak_Kobuk = solar_hdf5['Ambler-Shungnak-Kobuk']"
   ]
  },
  {
   "cell_type": "code",
   "execution_count": 92,
   "metadata": {},
   "outputs": [
    {
     "data": {
      "text/plain": [
       "<KeysViewHDF5 ['NWAB_Ambler', 'RuralAK_Ambler_IRA', 'RuralAK_Ambler_Water_Treatment', 'RuralAK_Kobuk', 'RuralAK_Shungnak']>"
      ]
     },
     "execution_count": 92,
     "metadata": {},
     "output_type": "execute_result"
    }
   ],
   "source": [
    "Ambler_Shungnak_Kobuk.keys()"
   ]
  },
  {
   "cell_type": "code",
   "execution_count": 21,
   "metadata": {},
   "outputs": [],
   "source": [
    "solar_hdf5.close()"
   ]
  },
  {
   "cell_type": "code",
   "execution_count": 45,
   "metadata": {},
   "outputs": [],
   "source": [
    "solar_hdf5 = h5py.File(\"alaska_solar_data_storage.hdf5\", 'r')"
   ]
  },
  {
   "cell_type": "code",
   "execution_count": null,
   "metadata": {},
   "outputs": [],
   "source": []
  }
 ],
 "metadata": {
  "kernelspec": {
   "display_name": "Python 3",
   "language": "python",
   "name": "python3"
  },
  "language_info": {
   "codemirror_mode": {
    "name": "ipython",
    "version": 3
   },
   "file_extension": ".py",
   "mimetype": "text/x-python",
   "name": "python",
   "nbconvert_exporter": "python",
   "pygments_lexer": "ipython3",
   "version": "3.6.8"
  }
 },
 "nbformat": 4,
 "nbformat_minor": 2
}
